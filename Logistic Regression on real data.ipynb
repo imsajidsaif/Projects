{
 "cells": [
  {
   "cell_type": "code",
   "execution_count": 72,
   "id": "2b49fd1d",
   "metadata": {},
   "outputs": [],
   "source": [
    "import numpy as np\n",
    "import pandas as pd\n",
    "import matplotlib.pyplot as plt\n",
    "import seaborn as sns\n",
    "import warnings\n",
    "warnings.filterwarnings('ignore')\n",
    "from sklearn.linear_model import LogisticRegression\n",
    "from sklearn.model_selection import train_test_split\n",
    "from sklearn.utils import shuffle\n",
    "from sklearn.feature_extraction.text import TfidfVectorizer,CountVectorizer\n",
    "from sklearn.metrics import accuracy_score"
   ]
  },
  {
   "cell_type": "code",
   "execution_count": 73,
   "id": "08a05258",
   "metadata": {},
   "outputs": [],
   "source": [
    "training_3=pd.read_excel(\"data_completed_4.xlsx\")"
   ]
  },
  {
   "cell_type": "code",
   "execution_count": 74,
   "id": "15bd1a21",
   "metadata": {},
   "outputs": [
    {
     "data": {
      "text/plain": [
       "<AxesSubplot:>"
      ]
     },
     "execution_count": 74,
     "metadata": {},
     "output_type": "execute_result"
    },
    {
     "data": {
      "image/png": "[encoded data removed]",
      "text/plain": [
       "<Figure size 432x288 with 1 Axes>"
      ]
     },
     "metadata": {},
     "output_type": "display_data"
    }
   ],
   "source": [
    "training_3.target.value_counts().plot(kind='bar')"
   ]
  },
  {
   "cell_type": "code",
   "execution_count": 75,
   "id": "15c1417b",
   "metadata": {},
   "outputs": [
    {
     "data": {
      "text/plain": [
       "1    89667\n",
       "0    88914\n",
       "Name: target, dtype: int64"
      ]
     },
     "execution_count": 75,
     "metadata": {},
     "output_type": "execute_result"
    }
   ],
   "source": [
    "training_3.target.value_counts()"
   ]
  },
  {
   "cell_type": "code",
   "execution_count": 76,
   "id": "a09c3046",
   "metadata": {},
   "outputs": [
    {
     "data": {
      "text/plain": [
       "Index(['Unnamed: 0', 'Address', 'City', 'Post Code', 'Merged Stops',\n",
       "       'merged_data', 'merge_data_2', 'target'],\n",
       "      dtype='object')"
      ]
     },
     "execution_count": 76,
     "metadata": {},
     "output_type": "execute_result"
    }
   ],
   "source": [
    "training_3.columns"
   ]
  },
  {
   "cell_type": "code",
   "execution_count": 77,
   "id": "f65e9680",
   "metadata": {},
   "outputs": [],
   "source": [
    "training_3['address'] = training_3.apply(lambda x: ''.join(x['merged_data'].lower() + ' ' + str(x['merge_data_2'])), axis=1)\n"
   ]
  },
  {
   "cell_type": "code",
   "execution_count": 78,
   "id": "1e31cb8e",
   "metadata": {},
   "outputs": [
    {
     "data": {
      "text/html": [
       "<div>\n",
       "<style scoped>\n",
       "    .dataframe tbody tr th:only-of-type {\n",
       "        vertical-align: middle;\n",
       "    }\n",
       "\n",
       "    .dataframe tbody tr th {\n",
       "        vertical-align: top;\n",
       "    }\n",
       "\n",
       "    .dataframe thead th {\n",
       "        text-align: right;\n",
       "    }\n",
       "</style>\n",
       "<table border=\"1\" class=\"dataframe\">\n",
       "  <thead>\n",
       "    <tr style=\"text-align: right;\">\n",
       "      <th></th>\n",
       "      <th>Unnamed: 0</th>\n",
       "      <th>Address</th>\n",
       "      <th>City</th>\n",
       "      <th>Post Code</th>\n",
       "      <th>Merged Stops</th>\n",
       "      <th>merged_data</th>\n",
       "      <th>merge_data_2</th>\n",
       "      <th>target</th>\n",
       "      <th>address</th>\n",
       "    </tr>\n",
       "  </thead>\n",
       "  <tbody>\n",
       "    <tr>\n",
       "      <th>0</th>\n",
       "      <td>0</td>\n",
       "      <td>xxxxxxxxxxxxxxxJA BUSINESS UNIT</td>\n",
       "      <td>LOHJA</td>\n",
       "      <td>8150</td>\n",
       "      <td>1</td>\n",
       "      <td>xxxxxxxxxxxxxxxJA BUSINESS UNIT LOHJA 8150</td>\n",
       "      <td>xxxxxxxxxxxxxxxJA BUSINESS UNIT LOHJA 8150</td>\n",
       "      <td>1</td>\n",
       "      <td>xxxxxxxxxxxxxxxja business unit lohja 8150 xxx...</td>\n",
       "    </tr>\n",
       "    <tr>\n",
       "      <th>5</th>\n",
       "      <td>5</td>\n",
       "      <td>xxxxxxxxxxxxxINKOJANKAARI 9</td>\n",
       "      <td>TURKU</td>\n",
       "      <td>20320</td>\n",
       "      <td>6</td>\n",
       "      <td>xxxxxxxxxxxxxINKOJANKAARI 9 TURKU 20320</td>\n",
       "      <td>xxxxxxxxxxxxxINKOJANKAARI 9 TURKU 20320</td>\n",
       "      <td>1</td>\n",
       "      <td>xxxxxxxxxxxxxinkojankaari 9 turku 20320 xxxxxx...</td>\n",
       "    </tr>\n",
       "    <tr>\n",
       "      <th>6</th>\n",
       "      <td>6</td>\n",
       "      <td>xxxxxxxxxxxxJUUNTIE 17 19</td>\n",
       "      <td>PORI</td>\n",
       "      <td>28360</td>\n",
       "      <td>38</td>\n",
       "      <td>xxxxxxxxxxxxJUUNTIE 17 19 PORI 28360</td>\n",
       "      <td>xxxxxxxxxxxxjuuntie 17-19 Pori 28360 28360</td>\n",
       "      <td>1</td>\n",
       "      <td>xxxxxxxxxxxxjuuntie 17 19 pori 28360 xxxxxxxxx...</td>\n",
       "    </tr>\n",
       "    <tr>\n",
       "      <th>9</th>\n",
       "      <td>9</td>\n",
       "      <td>xxxxxxxxxxxxxxASRINTEENTIE 22</td>\n",
       "      <td>ROVANIEMI</td>\n",
       "      <td>96400</td>\n",
       "      <td>4</td>\n",
       "      <td>xxxxxxxxxxxxxxASRINTEENTIE 22 ROVANIEMI 96400</td>\n",
       "      <td>xxxxxxxxxxxxxxASRINTEENTIE 22 ROVANIEMI 96400</td>\n",
       "      <td>1</td>\n",
       "      <td>xxxxxxxxxxxxxxasrinteentie 22 rovaniemi 96400 ...</td>\n",
       "    </tr>\n",
       "    <tr>\n",
       "      <th>10</th>\n",
       "      <td>10</td>\n",
       "      <td>xxxxxxxxxxxrmaajantie 6</td>\n",
       "      <td>JYVÄSKYLÄ</td>\n",
       "      <td>40320</td>\n",
       "      <td>2</td>\n",
       "      <td>xxxxxxxxxxxrmaajantie 6 JYVÄSKYLÄ 40320</td>\n",
       "      <td>xxxxxxxxxxxrmaajantie 6 JYVÄSKYLÄ 40320</td>\n",
       "      <td>1</td>\n",
       "      <td>xxxxxxxxxxxrmaajantie 6 jyväskylä 40320 xxxxxx...</td>\n",
       "    </tr>\n",
       "    <tr>\n",
       "      <th>...</th>\n",
       "      <td>...</td>\n",
       "      <td>...</td>\n",
       "      <td>...</td>\n",
       "      <td>...</td>\n",
       "      <td>...</td>\n",
       "      <td>...</td>\n",
       "      <td>...</td>\n",
       "      <td>...</td>\n",
       "      <td>...</td>\n",
       "    </tr>\n",
       "    <tr>\n",
       "      <th>178576</th>\n",
       "      <td>178576</td>\n",
       "      <td>xxxxxxxxxxxSITIE 8 LEVI</td>\n",
       "      <td>SIRKKA</td>\n",
       "      <td>99130</td>\n",
       "      <td>5</td>\n",
       "      <td>xxxxxxxxxxxSITIE 8 LEVI SIRKKA 99130</td>\n",
       "      <td>xxxxxxxxxxxSITIE 8 LEVI SIRKKA 99130</td>\n",
       "      <td>1</td>\n",
       "      <td>xxxxxxxxxxxsitie 8 levi sirkka 99130 xxxxxxxxx...</td>\n",
       "    </tr>\n",
       "    <tr>\n",
       "      <th>178577</th>\n",
       "      <td>178577</td>\n",
       "      <td>xxxxxxxxxxxxxxxxxxksanterinkatu 18-22</td>\n",
       "      <td>LAHTI</td>\n",
       "      <td>15140</td>\n",
       "      <td>2</td>\n",
       "      <td>xxxxxxxxxxxxxxxxxxksanterinkatu 18-22 LAHTI 15140</td>\n",
       "      <td>xxxxxxxxxxxxxxxxxxksanterinkatu 18-22 LAHTI 15140</td>\n",
       "      <td>1</td>\n",
       "      <td>xxxxxxxxxxxxxxxxxxksanterinkatu 18-22 lahti 15...</td>\n",
       "    </tr>\n",
       "    <tr>\n",
       "      <th>178578</th>\n",
       "      <td>178578</td>\n",
       "      <td>xxxxxxxxxxxxxxxxxERTINKATU 16 5 KRS</td>\n",
       "      <td>OULU</td>\n",
       "      <td>90100</td>\n",
       "      <td>8</td>\n",
       "      <td>xxxxxxxxxxxxxxxxxERTINKATU 16 5 KRS OULU 90100</td>\n",
       "      <td>xxxxxxxxxxxMIKATU 31-33 OULU 90100</td>\n",
       "      <td>1</td>\n",
       "      <td>xxxxxxxxxxxxxxxxxertinkatu 16 5 krs oulu 90100...</td>\n",
       "    </tr>\n",
       "    <tr>\n",
       "      <th>178579</th>\n",
       "      <td>178579</td>\n",
       "      <td>xxxxxxxxxxxjauksentie 2</td>\n",
       "      <td>Riihimaki 11100</td>\n",
       "      <td>11100</td>\n",
       "      <td>2</td>\n",
       "      <td>xxxxxxxxxxxjauksentie 2 Riihimaki 11100 11100</td>\n",
       "      <td>xxxxxxxxxxxJAUKSENTIE 2 RIIHIMÄKI 11120</td>\n",
       "      <td>1</td>\n",
       "      <td>xxxxxxxxxxxjauksentie 2 riihimaki 11100 11100 ...</td>\n",
       "    </tr>\n",
       "    <tr>\n",
       "      <th>178580</th>\n",
       "      <td>178580</td>\n",
       "      <td>xxxxxxkari 20</td>\n",
       "      <td>Åbo</td>\n",
       "      <td>20730</td>\n",
       "      <td>5</td>\n",
       "      <td>xxxxxxkari 20 Åbo 20730</td>\n",
       "      <td>xxxxxxkari 20 Turku 20730</td>\n",
       "      <td>1</td>\n",
       "      <td>xxxxxxkari 20 åbo 20730 xxxxxxkari 20 Turku 20730</td>\n",
       "    </tr>\n",
       "  </tbody>\n",
       "</table>\n",
       "<p>89667 rows × 9 columns</p>\n",
       "</div>"
      ],
      "text/plain": [
       "        Unnamed: 0                                Address             City  \\\n",
       "0                0        xxxxxxxxxxxxxxxJA BUSINESS UNIT            LOHJA   \n",
       "5                5            xxxxxxxxxxxxxINKOJANKAARI 9            TURKU   \n",
       "6                6              xxxxxxxxxxxxJUUNTIE 17 19             PORI   \n",
       "9                9          xxxxxxxxxxxxxxASRINTEENTIE 22        ROVANIEMI   \n",
       "10              10                xxxxxxxxxxxrmaajantie 6        JYVÄSKYLÄ   \n",
       "...            ...                                    ...              ...   \n",
       "178576      178576                xxxxxxxxxxxSITIE 8 LEVI           SIRKKA   \n",
       "178577      178577  xxxxxxxxxxxxxxxxxxksanterinkatu 18-22            LAHTI   \n",
       "178578      178578    xxxxxxxxxxxxxxxxxERTINKATU 16 5 KRS             OULU   \n",
       "178579      178579                xxxxxxxxxxxjauksentie 2  Riihimaki 11100   \n",
       "178580      178580                          xxxxxxkari 20              Åbo   \n",
       "\n",
       "        Post Code  Merged Stops  \\\n",
       "0            8150             1   \n",
       "5           20320             6   \n",
       "6           28360            38   \n",
       "9           96400             4   \n",
       "10          40320             2   \n",
       "...           ...           ...   \n",
       "178576      99130             5   \n",
       "178577      15140             2   \n",
       "178578      90100             8   \n",
       "178579      11100             2   \n",
       "178580      20730             5   \n",
       "\n",
       "                                              merged_data  \\\n",
       "0              xxxxxxxxxxxxxxxJA BUSINESS UNIT LOHJA 8150   \n",
       "5                 xxxxxxxxxxxxxINKOJANKAARI 9 TURKU 20320   \n",
       "6                    xxxxxxxxxxxxJUUNTIE 17 19 PORI 28360   \n",
       "9           xxxxxxxxxxxxxxASRINTEENTIE 22 ROVANIEMI 96400   \n",
       "10                xxxxxxxxxxxrmaajantie 6 JYVÄSKYLÄ 40320   \n",
       "...                                                   ...   \n",
       "178576               xxxxxxxxxxxSITIE 8 LEVI SIRKKA 99130   \n",
       "178577  xxxxxxxxxxxxxxxxxxksanterinkatu 18-22 LAHTI 15140   \n",
       "178578     xxxxxxxxxxxxxxxxxERTINKATU 16 5 KRS OULU 90100   \n",
       "178579      xxxxxxxxxxxjauksentie 2 Riihimaki 11100 11100   \n",
       "178580                            xxxxxxkari 20 Åbo 20730   \n",
       "\n",
       "                                             merge_data_2  target  \\\n",
       "0              xxxxxxxxxxxxxxxJA BUSINESS UNIT LOHJA 8150       1   \n",
       "5                 xxxxxxxxxxxxxINKOJANKAARI 9 TURKU 20320       1   \n",
       "6              xxxxxxxxxxxxjuuntie 17-19 Pori 28360 28360       1   \n",
       "9           xxxxxxxxxxxxxxASRINTEENTIE 22 ROVANIEMI 96400       1   \n",
       "10                xxxxxxxxxxxrmaajantie 6 JYVÄSKYLÄ 40320       1   \n",
       "...                                                   ...     ...   \n",
       "178576               xxxxxxxxxxxSITIE 8 LEVI SIRKKA 99130       1   \n",
       "178577  xxxxxxxxxxxxxxxxxxksanterinkatu 18-22 LAHTI 15140       1   \n",
       "178578                 xxxxxxxxxxxMIKATU 31-33 OULU 90100       1   \n",
       "178579            xxxxxxxxxxxJAUKSENTIE 2 RIIHIMÄKI 11120       1   \n",
       "178580                          xxxxxxkari 20 Turku 20730       1   \n",
       "\n",
       "                                                  address  \n",
       "0       xxxxxxxxxxxxxxxja business unit lohja 8150 xxx...  \n",
       "5       xxxxxxxxxxxxxinkojankaari 9 turku 20320 xxxxxx...  \n",
       "6       xxxxxxxxxxxxjuuntie 17 19 pori 28360 xxxxxxxxx...  \n",
       "9       xxxxxxxxxxxxxxasrinteentie 22 rovaniemi 96400 ...  \n",
       "10      xxxxxxxxxxxrmaajantie 6 jyväskylä 40320 xxxxxx...  \n",
       "...                                                   ...  \n",
       "178576  xxxxxxxxxxxsitie 8 levi sirkka 99130 xxxxxxxxx...  \n",
       "178577  xxxxxxxxxxxxxxxxxxksanterinkatu 18-22 lahti 15...  \n",
       "178578  xxxxxxxxxxxxxxxxxertinkatu 16 5 krs oulu 90100...  \n",
       "178579  xxxxxxxxxxxjauksentie 2 riihimaki 11100 11100 ...  \n",
       "178580  xxxxxxkari 20 åbo 20730 xxxxxxkari 20 Turku 20730  \n",
       "\n",
       "[89667 rows x 9 columns]"
      ]
     },
     "execution_count": 78,
     "metadata": {},
     "output_type": "execute_result"
    }
   ],
   "source": [
    "training_3[training_3.target==1]"
   ]
  },
  {
   "cell_type": "code",
   "execution_count": 79,
   "id": "7dab1627",
   "metadata": {},
   "outputs": [],
   "source": [
    "training_3=shuffle(training_3)"
   ]
  },
  {
   "cell_type": "code",
   "execution_count": 80,
   "id": "d29f7a48",
   "metadata": {},
   "outputs": [],
   "source": [
    "training_3=training_3.reset_index().drop(['index'],1)"
   ]
  },
  {
   "cell_type": "code",
   "execution_count": 81,
   "id": "49333e2f",
   "metadata": {},
   "outputs": [],
   "source": [
    "tfidf = TfidfVectorizer()\n",
    "X = tfidf.fit_transform(training_3[\"address\"].values)\n",
    "from sklearn.preprocessing import MaxAbsScaler\n",
    "max_abs_transformer = MaxAbsScaler().fit(X)\n",
    "training_data_tfidf = max_abs_transformer.transform(X)"
   ]
  },
  {
   "cell_type": "code",
   "execution_count": 136,
   "id": "7465d963",
   "metadata": {},
   "outputs": [],
   "source": []
  },
  {
   "cell_type": "code",
   "execution_count": 141,
   "id": "5125864b",
   "metadata": {},
   "outputs": [],
   "source": []
  },
  {
   "cell_type": "code",
   "execution_count": 82,
   "id": "01e20197",
   "metadata": {},
   "outputs": [],
   "source": [
    ",target=training_3.target"
   ]
  },
  {
   "cell_type": "code",
   "execution_count": 83,
   "id": "7bc2180d",
   "metadata": {},
   "outputs": [],
   "source": [
    "#TF-IDF Vectorizer\n",
    "seed = 123\n",
    "np.random.seed(seed)\n",
    "x_train2,x_test2,y_train2,y_test2=train_test_split(training_data_tfidf,target,test_size=.25,random_state=seed)"
   ]
  },
  {
   "cell_type": "code",
   "execution_count": 84,
   "id": "e32fc2ba",
   "metadata": {},
   "outputs": [],
   "source": [
    "log_obj_TFIDF=LogisticRegression()"
   ]
  },
  {
   "cell_type": "code",
   "execution_count": 85,
   "id": "d7249d87",
   "metadata": {},
   "outputs": [
    {
     "data": {
      "text/plain": [
       "LogisticRegression()"
      ]
     },
     "execution_count": 85,
     "metadata": {},
     "output_type": "execute_result"
    }
   ],
   "source": [
    "log_obj_TFIDF.fit(x_train2,y_train2)"
   ]
  },
  {
   "cell_type": "code",
   "execution_count": 86,
   "id": "ff57a877",
   "metadata": {},
   "outputs": [],
   "source": [
    "pred_tfidf=log_obj_TFIDF.predict(x_test2)"
   ]
  },
  {
   "cell_type": "code",
   "execution_count": 87,
   "id": "fa105e48",
   "metadata": {},
   "outputs": [
    {
     "data": {
      "text/plain": [
       "0.9613403216413564"
      ]
     },
     "execution_count": 87,
     "metadata": {},
     "output_type": "execute_result"
    }
   ],
   "source": [
    "accuracy_score(y_test2,pred_tfidf) #..........................TFIDF ACCURACY.........................."
   ]
  },
  {
   "cell_type": "code",
   "execution_count": 130,
   "id": "21ae31eb",
   "metadata": {},
   "outputs": [
    {
     "name": "stdout",
     "output_type": "stream",
     "text": [
      "<class 'pandas.core.series.Series'>\n",
      "<class 'scipy.sparse.csr.csr_matrix'>\n",
      "(1, 11157)\n"
     ]
    }
   ],
   "source": [
    "x_test_new = pd.Series([\"sak\"])\n",
    "print(type(x_test_new))\n",
    "\n",
    "X = tfidf.transform(x_test_new)\n",
    "new_test_tfidf = max_abs_transformer.transform(X)\n",
    "\n",
    "print(type(new_test_tfidf))\n",
    "print(new_test_tfidf.shape)"
   ]
  },
  {
   "cell_type": "code",
   "execution_count": null,
   "id": "23a37fb9",
   "metadata": {},
   "outputs": [],
   "source": []
  },
  {
   "cell_type": "code",
   "execution_count": null,
   "id": "d2476b19",
   "metadata": {},
   "outputs": [],
   "source": []
  },
  {
   "cell_type": "code",
   "execution_count": 89,
   "id": "b7b4d1c4",
   "metadata": {},
   "outputs": [
    {
     "data": {
      "text/plain": [
       "array([1], dtype=int64)"
      ]
     },
     "execution_count": 89,
     "metadata": {},
     "output_type": "execute_result"
    }
   ],
   "source": [
    "log_obj_TFIDF.predict(new_test_tfidf)"
   ]
  },
  {
   "cell_type": "code",
   "execution_count": 90,
   "id": "4087f472",
   "metadata": {},
   "outputs": [],
   "source": [
    "# vectorizer = CountVectorizer()\n",
    "# X_count = vectorizer.fit_transform(training_3[\"address\"])\n",
    "\n",
    "# from sklearn.preprocessing import MaxAbsScaler\n",
    "# transformer = MaxAbsScaler().fit(X_count)\n",
    "# training_data_count = transformer.transform(X_count)"
   ]
  },
  {
   "cell_type": "code",
   "execution_count": 60,
   "id": "7dde05dd",
   "metadata": {},
   "outputs": [
    {
     "data": {
      "text/plain": [
       "<178581x11157 sparse matrix of type '<class 'numpy.float64'>'\n",
       "\twith 1067996 stored elements in Compressed Sparse Row format>"
      ]
     },
     "execution_count": 60,
     "metadata": {},
     "output_type": "execute_result"
    }
   ],
   "source": [
    "# training_data_tfidf"
   ]
  },
  {
   "cell_type": "code",
   "execution_count": 62,
   "id": "bdccc984",
   "metadata": {},
   "outputs": [],
   "source": [
    "#CountVectorizer\n",
    "# seed = 123\n",
    "# np.random.seed(seed)\n",
    "# x_train,x_test,y_train,y_test=train_test_split(training_data_count,target,test_size=.25,random_state=seed)"
   ]
  },
  {
   "cell_type": "code",
   "execution_count": 64,
   "id": "83c7bf3b",
   "metadata": {},
   "outputs": [],
   "source": [
    "# log_obj_count=LogisticRegression()"
   ]
  },
  {
   "cell_type": "code",
   "execution_count": 67,
   "id": "f7c5a392",
   "metadata": {},
   "outputs": [
    {
     "data": {
      "text/plain": [
       "LogisticRegression()"
      ]
     },
     "execution_count": 67,
     "metadata": {},
     "output_type": "execute_result"
    }
   ],
   "source": [
    "# log_obj_count.fit(x_train,y_train)"
   ]
  },
  {
   "cell_type": "code",
   "execution_count": 69,
   "id": "8d73bf5b",
   "metadata": {},
   "outputs": [],
   "source": [
    "# pred_count=log_obj_count.predict(x_test)"
   ]
  },
  {
   "cell_type": "code",
   "execution_count": 70,
   "id": "9e9d20c6",
   "metadata": {},
   "outputs": [
    {
     "data": {
      "text/plain": [
       "(array([0, 1, 1, ..., 0, 1, 1], dtype=int64),\n",
       " <44646x11157 sparse matrix of type '<class 'numpy.float64'>'\n",
       " \twith 267090 stored elements in Compressed Sparse Row format>)"
      ]
     },
     "execution_count": 70,
     "metadata": {},
     "output_type": "execute_result"
    }
   ],
   "source": [
    "# pred_tfidf,x_test2"
   ]
  },
  {
   "cell_type": "code",
   "execution_count": 72,
   "id": "09917374",
   "metadata": {},
   "outputs": [
    {
     "data": {
      "text/plain": [
       "0.746718631008377"
      ]
     },
     "execution_count": 72,
     "metadata": {},
     "output_type": "execute_result"
    }
   ],
   "source": [
    "accuracy_score(y_test,pred_count)    #.............................COUNT vect accuracy......................."
   ]
  },
  {
   "cell_type": "code",
   "execution_count": 73,
   "id": "9a2b9d10",
   "metadata": {},
   "outputs": [
    {
     "name": "stdout",
     "output_type": "stream",
     "text": [
      "(178581, 11157)\n"
     ]
    }
   ],
   "source": [
    "# checking overvfitting and underfitting\n",
    "print(X_count.shape)"
   ]
  },
  {
   "cell_type": "code",
   "execution_count": 74,
   "id": "0de02d2b",
   "metadata": {},
   "outputs": [
    {
     "name": "stdout",
     "output_type": "stream",
     "text": [
      "44646\n"
     ]
    }
   ],
   "source": [
    "print(x_test2.shape[0])"
   ]
  },
  {
   "cell_type": "code",
   "execution_count": 28,
   "id": "56afa383",
   "metadata": {},
   "outputs": [
    {
     "name": "stdout",
     "output_type": "stream",
     "text": [
      "[[21769   558]\n",
      " [ 1088 21231]]\n",
      "              precision    recall  f1-score   support\n",
      "\n",
      "           0       0.95      0.98      0.96     22327\n",
      "           1       0.97      0.95      0.96     22319\n",
      "\n",
      "    accuracy                           0.96     44646\n",
      "   macro avg       0.96      0.96      0.96     44646\n",
      "weighted avg       0.96      0.96      0.96     44646\n",
      "\n",
      "0.9631321954934373\n"
     ]
    }
   ],
   "source": [
    "from sklearn.metrics import classification_report, confusion_matrix, accuracy_score\n",
    "\n",
    "print(confusion_matrix(y_test2,pred_tfidf))\n",
    "print(classification_report(y_test2,pred_tfidf))\n",
    "print(accuracy_score(y_test2,pred_tfidf))"
   ]
  },
  {
   "cell_type": "code",
   "execution_count": 29,
   "id": "3ce822d6",
   "metadata": {
    "scrolled": true
   },
   "outputs": [
    {
     "name": "stdout",
     "output_type": "stream",
     "text": [
      "[[18180  4147]\n",
      " [ 7169 15150]]\n",
      "              precision    recall  f1-score   support\n",
      "\n",
      "           0       0.72      0.81      0.76     22327\n",
      "           1       0.79      0.68      0.73     22319\n",
      "\n",
      "    accuracy                           0.75     44646\n",
      "   macro avg       0.75      0.75      0.75     44646\n",
      "weighted avg       0.75      0.75      0.75     44646\n",
      "\n",
      "0.7465394436231689\n"
     ]
    }
   ],
   "source": [
    "from sklearn.metrics import classification_report, confusion_matrix, accuracy_score\n",
    "print(confusion_matrix(y_test,pred_count))\n",
    "print(classification_report(y_test,pred_count))\n",
    "print(accuracy_score(y_test,pred_count))"
   ]
  },
  {
   "cell_type": "raw",
   "id": "6a85cd7f",
   "metadata": {},
   "source": [
    "# vectorizer = TfidfVectorizer()\n",
    "# X_ = vectorizer.fit_transform(['xxxxxxxxxxxxxxxja business unit lohja 8150 xxxxxxxxxxxxxxxJA BUSINESS UNIT LOHJA 8150'])\n",
    "# from sklearn.preprocessing import MaxAbsScaler\n",
    "# transformer_ = MaxAbsScaler().fit(X_)\n",
    "# training_data_tfidf_ = transformer_.transform(X_)"
   ]
  },
  {
   "cell_type": "code",
   "execution_count": 30,
   "id": "445fd980",
   "metadata": {
    "scrolled": true
   },
   "outputs": [],
   "source": [
    "# def predict_car(s,train=training_3,model=log_obj_TFIDF):\n",
    "#     pred=model.predict(training_data_tfidf_)\n",
    "#     print(train.target[pred_tfidf[0]])\n",
    "#     return train.target[pred_tfidf[0]]"
   ]
  },
  {
   "cell_type": "code",
   "execution_count": null,
   "id": "431afdd6",
   "metadata": {
    "scrolled": true
   },
   "outputs": [],
   "source": []
  },
  {
   "cell_type": "code",
   "execution_count": null,
   "id": "afd1ede1",
   "metadata": {},
   "outputs": [],
   "source": []
  },
  {
   "cell_type": "code",
   "execution_count": 31,
   "id": "084db70a",
   "metadata": {},
   "outputs": [],
   "source": [
    "from sklearn.ensemble import RandomForestClassifier\n",
    "from sklearn.model_selection import GridSearchCV\n",
    "from sklearn.model_selection import cross_val_score, learning_curve, validation_curve\n"
   ]
  },
  {
   "cell_type": "code",
   "execution_count": 32,
   "id": "8d0b7fe4",
   "metadata": {},
   "outputs": [],
   "source": [
    "clf_1 = RandomForestClassifier(n_estimators=100, bootstrap=True, random_state=0)\n",
    "clf_1.fit(x_train2, y_train2)\n",
    "# Number of folds for cross validation\n",
    "num_folds = 7"
   ]
  },
  {
   "cell_type": "code",
   "execution_count": 33,
   "id": "a1bb074d",
   "metadata": {},
   "outputs": [],
   "source": [
    "def plot_curve(ticks, train_scores, test_scores):\n",
    "    train_scores_mean = -1 * np.mean(train_scores, axis=1)\n",
    "    train_scores_std = -1 * np.std(train_scores, axis=1)\n",
    "    test_scores_mean = -1 * np.mean(test_scores, axis=1)\n",
    "    test_scores_std = -1 * np.std(test_scores, axis=1)\n",
    "\n",
    "    plt.figure()\n",
    "    plt.fill_between(ticks, \n",
    "                     train_scores_mean - train_scores_std, \n",
    "                     train_scores_mean + train_scores_std, alpha=0.1, color=\"b\")\n",
    "    plt.fill_between(ticks, \n",
    "                     test_scores_mean - test_scores_std, \n",
    "                     test_scores_mean + test_scores_std, alpha=0.1, color=\"r\")\n",
    "    plt.plot(ticks, train_scores_mean, 'b-', label='Training score')\n",
    "    plt.plot(ticks, test_scores_mean, 'r-', label='Test score')\n",
    "    plt.legend(fancybox=True, facecolor='w')\n",
    "\n",
    "    return plt.gca()"
   ]
  },
  {
   "cell_type": "code",
   "execution_count": 34,
   "id": "5bde1033",
   "metadata": {},
   "outputs": [],
   "source": [
    "num_folds = 7"
   ]
  },
  {
   "cell_type": "code",
   "execution_count": 35,
   "id": "6d988d5e",
   "metadata": {},
   "outputs": [],
   "source": [
    "def plot_validation_curve(clf, X, y, param_name, param_range, scoring='roc_auc'):\n",
    "    plt.xkcd()\n",
    "    ax = plot_curve(param_range, *validation_curve(clf, X, y, cv=num_folds, \n",
    "                                                   scoring=scoring, \n",
    "                                                   param_name=param_name, \n",
    "                                                   param_range=param_range, n_jobs=-1))\n",
    "    ax.set_title('')\n",
    "    ax.set_xticklabels([])\n",
    "    ax.set_yticklabels([])\n",
    "    ax.set_xlim(2,12)\n",
    "    ax.set_ylim(-0.97, -0.83)\n",
    "    ax.set_ylabel('Error')\n",
    "    ax.set_xlabel('Model complexity')\n",
    "    ax.text(9, -0.94, 'Overfitting', fontsize=22)\n",
    "    ax.text(3, -0.94, 'Underfitting', fontsize=22)\n",
    "    ax.axvline(7, ls='--')\n",
    "    plt.tight_layout()"
   ]
  },
  {
   "cell_type": "code",
   "execution_count": 36,
   "id": "8452d90c",
   "metadata": {
    "scrolled": true
   },
   "outputs": [
    {
     "data": {
      "image/png": "[encoded data removed]",
      "text/plain": [
       "<Figure size 432x288 with 1 Axes>"
      ]
     },
     "metadata": {},
     "output_type": "display_data"
    }
   ],
   "source": [
    "plot_validation_curve(clf_1, x_train2, y_train2, param_name='max_depth', param_range=range(2,13))\n"
   ]
  },
  {
   "cell_type": "code",
   "execution_count": 37,
   "id": "0f9c8c7e",
   "metadata": {},
   "outputs": [
    {
     "data": {
      "text/plain": [
       "0.9941316131344353"
      ]
     },
     "execution_count": 37,
     "metadata": {},
     "output_type": "execute_result"
    }
   ],
   "source": [
    "mod=RandomForestClassifier()\n",
    "mod.fit(x_train2,y_train2)\n",
    "pred=mod.predict(x_test2)\n",
    "accuracy_score(y_test2,pred)"
   ]
  },
  {
   "cell_type": "code",
   "execution_count": null,
   "id": "823e4d5a",
   "metadata": {},
   "outputs": [],
   "source": [
    "traININ"
   ]
  },
  {
   "cell_type": "code",
   "execution_count": 121,
   "id": "bce2cdb3",
   "metadata": {},
   "outputs": [
    {
     "data": {
      "text/plain": [
       "'xxxxxxxikka 1 f esbo finland 2630 xxxxxxxxxxxxaharjuntie 49 OULU 90540'"
      ]
     },
     "execution_count": 121,
     "metadata": {},
     "output_type": "execute_result"
    }
   ],
   "source": [
    "j=training_3[training_3.target==0]\n",
    "j.address.values[0]"
   ]
  },
  {
   "cell_type": "code",
   "execution_count": 39,
   "id": "8fc80888",
   "metadata": {},
   "outputs": [
    {
     "data": {
      "text/plain": [
       "<44646x11157 sparse matrix of type '<class 'numpy.float64'>'\n",
       "\twith 267370 stored elements in Compressed Sparse Row format>"
      ]
     },
     "execution_count": 39,
     "metadata": {},
     "output_type": "execute_result"
    }
   ],
   "source": [
    "x_test2"
   ]
  },
  {
   "cell_type": "code",
   "execution_count": 93,
   "id": "dc883220",
   "metadata": {},
   "outputs": [],
   "source": [
    "testing=pd.read_excel(\"combined_data.xls\")"
   ]
  },
  {
   "cell_type": "code",
   "execution_count": 94,
   "id": "b07ac9f8",
   "metadata": {
    "scrolled": true
   },
   "outputs": [],
   "source": [
    "testing['merged']=np.nan"
   ]
  },
  {
   "cell_type": "code",
   "execution_count": 95,
   "id": "b2eb186e",
   "metadata": {},
   "outputs": [],
   "source": [
    "for i in range(len(testing)):\n",
    "    testing['merged'][i]=str(testing.Address[i])+\" \"+str(testing.City[i])+\" \"+str(testing['Post Code'][i])"
   ]
  },
  {
   "cell_type": "code",
   "execution_count": 96,
   "id": "26b5f0a4",
   "metadata": {},
   "outputs": [],
   "source": [
    "testing['merged_2']=np.nan"
   ]
  },
  {
   "cell_type": "code",
   "execution_count": 97,
   "id": "4df3efa7",
   "metadata": {},
   "outputs": [],
   "source": [
    "for i in range(len(testing)):\n",
    "    testing['merged_2'][i]=str(testing.Address[i])+\" \"+str(testing.City[i])+\" \"+str(testing['Post Code'][i])"
   ]
  },
  {
   "cell_type": "code",
   "execution_count": 98,
   "id": "5c13f878",
   "metadata": {},
   "outputs": [
    {
     "data": {
      "text/html": [
       "<div>\n",
       "<style scoped>\n",
       "    .dataframe tbody tr th:only-of-type {\n",
       "        vertical-align: middle;\n",
       "    }\n",
       "\n",
       "    .dataframe tbody tr th {\n",
       "        vertical-align: top;\n",
       "    }\n",
       "\n",
       "    .dataframe thead th {\n",
       "        text-align: right;\n",
       "    }\n",
       "</style>\n",
       "<table border=\"1\" class=\"dataframe\">\n",
       "  <thead>\n",
       "    <tr style=\"text-align: right;\">\n",
       "      <th></th>\n",
       "      <th>Transport Task</th>\n",
       "      <th>Shipment Number</th>\n",
       "      <th>Name</th>\n",
       "      <th>Address</th>\n",
       "      <th>City</th>\n",
       "      <th>Post Code</th>\n",
       "      <th>Merged Stops</th>\n",
       "      <th>Stop Number Without Merge</th>\n",
       "      <th>merged</th>\n",
       "      <th>merged_2</th>\n",
       "    </tr>\n",
       "  </thead>\n",
       "  <tbody>\n",
       "    <tr>\n",
       "      <th>0</th>\n",
       "      <td>246889402</td>\n",
       "      <td>xxxxxxxxxxxxx0437</td>\n",
       "      <td>xxxxxxxxxxxxxxxxxxxxxxxxxxxxxxxxxxxxxxxxxxxxxekki</td>\n",
       "      <td>xxxxxxxxxxxeriönkatu 32</td>\n",
       "      <td>LAHTI</td>\n",
       "      <td>15200</td>\n",
       "      <td>5</td>\n",
       "      <td>5</td>\n",
       "      <td>xxxxxxxxxxxeriönkatu 32 LAHTI 15200</td>\n",
       "      <td>xxxxxxxxxxxeriönkatu 32 LAHTI 15200</td>\n",
       "    </tr>\n",
       "    <tr>\n",
       "      <th>1</th>\n",
       "      <td>246889402</td>\n",
       "      <td>xxxxxxxxxxxxx6746</td>\n",
       "      <td>xxxxxxxxxxxisma</td>\n",
       "      <td>xxxxxxxxxxxppiaankatu 2</td>\n",
       "      <td>LAHTI</td>\n",
       "      <td>15160</td>\n",
       "      <td>7</td>\n",
       "      <td>7</td>\n",
       "      <td>xxxxxxxxxxxppiaankatu 2 LAHTI 15160</td>\n",
       "      <td>xxxxxxxxxxxppiaankatu 2 LAHTI 15160</td>\n",
       "    </tr>\n",
       "    <tr>\n",
       "      <th>2</th>\n",
       "      <td>246889402</td>\n",
       "      <td>xxxxxxxxxxxxx7687</td>\n",
       "      <td>xxxxxxxxxxxxxxxxxxxxxxxxxxA OY</td>\n",
       "      <td>xxxxxxxxxxxERIÖNKATU 32</td>\n",
       "      <td>LAHTI</td>\n",
       "      <td>15200</td>\n",
       "      <td>5</td>\n",
       "      <td>5</td>\n",
       "      <td>xxxxxxxxxxxERIÖNKATU 32 LAHTI 15200</td>\n",
       "      <td>xxxxxxxxxxxERIÖNKATU 32 LAHTI 15200</td>\n",
       "    </tr>\n",
       "    <tr>\n",
       "      <th>3</th>\n",
       "      <td>246889402</td>\n",
       "      <td>xxxxxxxxxxxxx8693</td>\n",
       "      <td>xxxxxxxxxxxisma</td>\n",
       "      <td>xxxxxxxxxxxppiaankatu 2</td>\n",
       "      <td>LAHTI</td>\n",
       "      <td>15160</td>\n",
       "      <td>7</td>\n",
       "      <td>7</td>\n",
       "      <td>xxxxxxxxxxxppiaankatu 2 LAHTI 15160</td>\n",
       "      <td>xxxxxxxxxxxppiaankatu 2 LAHTI 15160</td>\n",
       "    </tr>\n",
       "    <tr>\n",
       "      <th>4</th>\n",
       "      <td>246889402</td>\n",
       "      <td>xxxxxxxxxxxxx3148</td>\n",
       "      <td>xxxxxxxxxxxisma</td>\n",
       "      <td>xxxxxxxxxxxppiaankatu 2</td>\n",
       "      <td>LAHTI</td>\n",
       "      <td>15160</td>\n",
       "      <td>7</td>\n",
       "      <td>7</td>\n",
       "      <td>xxxxxxxxxxxppiaankatu 2 LAHTI 15160</td>\n",
       "      <td>xxxxxxxxxxxppiaankatu 2 LAHTI 15160</td>\n",
       "    </tr>\n",
       "    <tr>\n",
       "      <th>...</th>\n",
       "      <td>...</td>\n",
       "      <td>...</td>\n",
       "      <td>...</td>\n",
       "      <td>...</td>\n",
       "      <td>...</td>\n",
       "      <td>...</td>\n",
       "      <td>...</td>\n",
       "      <td>...</td>\n",
       "      <td>...</td>\n",
       "      <td>...</td>\n",
       "    </tr>\n",
       "    <tr>\n",
       "      <th>188</th>\n",
       "      <td>246889454</td>\n",
       "      <td>xxxxxxxxxxxxx4675</td>\n",
       "      <td>xxxxxxxxxxxxPARK</td>\n",
       "      <td>xxxxxxxxxxxxAPARKINKATU 4</td>\n",
       "      <td>LEMPÄÄLÄ</td>\n",
       "      <td>37550</td>\n",
       "      <td>2</td>\n",
       "      <td>2</td>\n",
       "      <td>xxxxxxxxxxxxAPARKINKATU 4 LEMPÄÄLÄ 37550</td>\n",
       "      <td>xxxxxxxxxxxxAPARKINKATU 4 LEMPÄÄLÄ 37550</td>\n",
       "    </tr>\n",
       "    <tr>\n",
       "      <th>189</th>\n",
       "      <td>246889454</td>\n",
       "      <td>xxxxxxxxxxxxx4656</td>\n",
       "      <td>xxxxxxxxxxxxPARK</td>\n",
       "      <td>xxxxxxxxxxxxAPARKINKATU 4</td>\n",
       "      <td>LEMPÄÄLÄ</td>\n",
       "      <td>37550</td>\n",
       "      <td>2</td>\n",
       "      <td>2</td>\n",
       "      <td>xxxxxxxxxxxxAPARKINKATU 4 LEMPÄÄLÄ 37550</td>\n",
       "      <td>xxxxxxxxxxxxAPARKINKATU 4 LEMPÄÄLÄ 37550</td>\n",
       "    </tr>\n",
       "    <tr>\n",
       "      <th>190</th>\n",
       "      <td>246889454</td>\n",
       "      <td>xxxxxxxxxxxxx8697</td>\n",
       "      <td>xxxxxxxxxxxxT OY</td>\n",
       "      <td>xxxxxxxxxxxJAMÄENTIE 19</td>\n",
       "      <td>LEMPÄÄLÄ</td>\n",
       "      <td>37550</td>\n",
       "      <td>1</td>\n",
       "      <td>1</td>\n",
       "      <td>xxxxxxxxxxxJAMÄENTIE 19 LEMPÄÄLÄ 37550</td>\n",
       "      <td>xxxxxxxxxxxJAMÄENTIE 19 LEMPÄÄLÄ 37550</td>\n",
       "    </tr>\n",
       "    <tr>\n",
       "      <th>191</th>\n",
       "      <td>246889454</td>\n",
       "      <td>xxxxxxxxxxxxx1163</td>\n",
       "      <td>xxxxxxxxB KY</td>\n",
       "      <td>xxxxxxxxxxxxHOMAJANKATU 5</td>\n",
       "      <td>VALKEAKOSKI</td>\n",
       "      <td>37600</td>\n",
       "      <td>6</td>\n",
       "      <td>8</td>\n",
       "      <td>xxxxxxxxxxxxHOMAJANKATU 5 VALKEAKOSKI 37600</td>\n",
       "      <td>xxxxxxxxxxxxHOMAJANKATU 5 VALKEAKOSKI 37600</td>\n",
       "    </tr>\n",
       "    <tr>\n",
       "      <th>192</th>\n",
       "      <td>246889454</td>\n",
       "      <td>xxxxxxxxxxxxx8395</td>\n",
       "      <td>xxxxxxxxxxxpula</td>\n",
       "      <td>xxxxxxxxxxxxxkiniementie 25</td>\n",
       "      <td>Valkeakoski</td>\n",
       "      <td>37600</td>\n",
       "      <td>5</td>\n",
       "      <td>7</td>\n",
       "      <td>xxxxxxxxxxxxxkiniementie 25 Valkeakoski 37600</td>\n",
       "      <td>xxxxxxxxxxxxxkiniementie 25 Valkeakoski 37600</td>\n",
       "    </tr>\n",
       "  </tbody>\n",
       "</table>\n",
       "<p>193 rows × 10 columns</p>\n",
       "</div>"
      ],
      "text/plain": [
       "     Transport Task    Shipment Number  \\\n",
       "0         246889402  xxxxxxxxxxxxx0437   \n",
       "1         246889402  xxxxxxxxxxxxx6746   \n",
       "2         246889402  xxxxxxxxxxxxx7687   \n",
       "3         246889402  xxxxxxxxxxxxx8693   \n",
       "4         246889402  xxxxxxxxxxxxx3148   \n",
       "..              ...                ...   \n",
       "188       246889454  xxxxxxxxxxxxx4675   \n",
       "189       246889454  xxxxxxxxxxxxx4656   \n",
       "190       246889454  xxxxxxxxxxxxx8697   \n",
       "191       246889454  xxxxxxxxxxxxx1163   \n",
       "192       246889454  xxxxxxxxxxxxx8395   \n",
       "\n",
       "                                                  Name  \\\n",
       "0    xxxxxxxxxxxxxxxxxxxxxxxxxxxxxxxxxxxxxxxxxxxxxekki   \n",
       "1                                      xxxxxxxxxxxisma   \n",
       "2                       xxxxxxxxxxxxxxxxxxxxxxxxxxA OY   \n",
       "3                                      xxxxxxxxxxxisma   \n",
       "4                                      xxxxxxxxxxxisma   \n",
       "..                                                 ...   \n",
       "188                                   xxxxxxxxxxxxPARK   \n",
       "189                                   xxxxxxxxxxxxPARK   \n",
       "190                                   xxxxxxxxxxxxT OY   \n",
       "191                                       xxxxxxxxB KY   \n",
       "192                                    xxxxxxxxxxxpula   \n",
       "\n",
       "                         Address         City  Post Code  Merged Stops  \\\n",
       "0        xxxxxxxxxxxeriönkatu 32        LAHTI      15200             5   \n",
       "1        xxxxxxxxxxxppiaankatu 2        LAHTI      15160             7   \n",
       "2        xxxxxxxxxxxERIÖNKATU 32        LAHTI      15200             5   \n",
       "3        xxxxxxxxxxxppiaankatu 2        LAHTI      15160             7   \n",
       "4        xxxxxxxxxxxppiaankatu 2        LAHTI      15160             7   \n",
       "..                           ...          ...        ...           ...   \n",
       "188    xxxxxxxxxxxxAPARKINKATU 4     LEMPÄÄLÄ      37550             2   \n",
       "189    xxxxxxxxxxxxAPARKINKATU 4     LEMPÄÄLÄ      37550             2   \n",
       "190      xxxxxxxxxxxJAMÄENTIE 19     LEMPÄÄLÄ      37550             1   \n",
       "191    xxxxxxxxxxxxHOMAJANKATU 5  VALKEAKOSKI      37600             6   \n",
       "192  xxxxxxxxxxxxxkiniementie 25  Valkeakoski      37600             5   \n",
       "\n",
       "     Stop Number Without Merge                                         merged  \\\n",
       "0                            5            xxxxxxxxxxxeriönkatu 32 LAHTI 15200   \n",
       "1                            7            xxxxxxxxxxxppiaankatu 2 LAHTI 15160   \n",
       "2                            5            xxxxxxxxxxxERIÖNKATU 32 LAHTI 15200   \n",
       "3                            7            xxxxxxxxxxxppiaankatu 2 LAHTI 15160   \n",
       "4                            7            xxxxxxxxxxxppiaankatu 2 LAHTI 15160   \n",
       "..                         ...                                            ...   \n",
       "188                          2       xxxxxxxxxxxxAPARKINKATU 4 LEMPÄÄLÄ 37550   \n",
       "189                          2       xxxxxxxxxxxxAPARKINKATU 4 LEMPÄÄLÄ 37550   \n",
       "190                          1         xxxxxxxxxxxJAMÄENTIE 19 LEMPÄÄLÄ 37550   \n",
       "191                          8    xxxxxxxxxxxxHOMAJANKATU 5 VALKEAKOSKI 37600   \n",
       "192                          7  xxxxxxxxxxxxxkiniementie 25 Valkeakoski 37600   \n",
       "\n",
       "                                          merged_2  \n",
       "0              xxxxxxxxxxxeriönkatu 32 LAHTI 15200  \n",
       "1              xxxxxxxxxxxppiaankatu 2 LAHTI 15160  \n",
       "2              xxxxxxxxxxxERIÖNKATU 32 LAHTI 15200  \n",
       "3              xxxxxxxxxxxppiaankatu 2 LAHTI 15160  \n",
       "4              xxxxxxxxxxxppiaankatu 2 LAHTI 15160  \n",
       "..                                             ...  \n",
       "188       xxxxxxxxxxxxAPARKINKATU 4 LEMPÄÄLÄ 37550  \n",
       "189       xxxxxxxxxxxxAPARKINKATU 4 LEMPÄÄLÄ 37550  \n",
       "190         xxxxxxxxxxxJAMÄENTIE 19 LEMPÄÄLÄ 37550  \n",
       "191    xxxxxxxxxxxxHOMAJANKATU 5 VALKEAKOSKI 37600  \n",
       "192  xxxxxxxxxxxxxkiniementie 25 Valkeakoski 37600  \n",
       "\n",
       "[193 rows x 10 columns]"
      ]
     },
     "execution_count": 98,
     "metadata": {},
     "output_type": "execute_result"
    }
   ],
   "source": [
    "testing"
   ]
  },
  {
   "cell_type": "code",
   "execution_count": 99,
   "id": "8b525e58",
   "metadata": {},
   "outputs": [
    {
     "data": {
      "text/html": [
       "<div>\n",
       "<style scoped>\n",
       "    .dataframe tbody tr th:only-of-type {\n",
       "        vertical-align: middle;\n",
       "    }\n",
       "\n",
       "    .dataframe tbody tr th {\n",
       "        vertical-align: top;\n",
       "    }\n",
       "\n",
       "    .dataframe thead th {\n",
       "        text-align: right;\n",
       "    }\n",
       "</style>\n",
       "<table border=\"1\" class=\"dataframe\">\n",
       "  <thead>\n",
       "    <tr style=\"text-align: right;\">\n",
       "      <th></th>\n",
       "      <th>Transport Task</th>\n",
       "      <th>Shipment Number</th>\n",
       "      <th>Name</th>\n",
       "      <th>Address</th>\n",
       "      <th>City</th>\n",
       "      <th>Post Code</th>\n",
       "      <th>Merged Stops</th>\n",
       "      <th>Stop Number Without Merge</th>\n",
       "      <th>merged</th>\n",
       "      <th>merged_2</th>\n",
       "    </tr>\n",
       "  </thead>\n",
       "  <tbody>\n",
       "    <tr>\n",
       "      <th>0</th>\n",
       "      <td>246889402</td>\n",
       "      <td>xxxxxxxxxxxxx0437</td>\n",
       "      <td>xxxxxxxxxxxxxxxxxxxxxxxxxxxxxxxxxxxxxxxxxxxxxekki</td>\n",
       "      <td>xxxxxxxxxxxeriönkatu 32</td>\n",
       "      <td>LAHTI</td>\n",
       "      <td>15200</td>\n",
       "      <td>5</td>\n",
       "      <td>5</td>\n",
       "      <td>xxxxxxxxxxxeriönkatu 32 LAHTI 15200</td>\n",
       "      <td>xxxxxxxxxxxeriönkatu 32 LAHTI 15200</td>\n",
       "    </tr>\n",
       "    <tr>\n",
       "      <th>1</th>\n",
       "      <td>246889402</td>\n",
       "      <td>xxxxxxxxxxxxx6746</td>\n",
       "      <td>xxxxxxxxxxxisma</td>\n",
       "      <td>xxxxxxxxxxxppiaankatu 2</td>\n",
       "      <td>LAHTI</td>\n",
       "      <td>15160</td>\n",
       "      <td>7</td>\n",
       "      <td>7</td>\n",
       "      <td>xxxxxxxxxxxppiaankatu 2 LAHTI 15160</td>\n",
       "      <td>xxxxxxxxxxxppiaankatu 2 LAHTI 15160</td>\n",
       "    </tr>\n",
       "    <tr>\n",
       "      <th>2</th>\n",
       "      <td>246889402</td>\n",
       "      <td>xxxxxxxxxxxxx7687</td>\n",
       "      <td>xxxxxxxxxxxxxxxxxxxxxxxxxxA OY</td>\n",
       "      <td>xxxxxxxxxxxERIÖNKATU 32</td>\n",
       "      <td>LAHTI</td>\n",
       "      <td>15200</td>\n",
       "      <td>5</td>\n",
       "      <td>5</td>\n",
       "      <td>xxxxxxxxxxxERIÖNKATU 32 LAHTI 15200</td>\n",
       "      <td>xxxxxxxxxxxERIÖNKATU 32 LAHTI 15200</td>\n",
       "    </tr>\n",
       "    <tr>\n",
       "      <th>3</th>\n",
       "      <td>246889402</td>\n",
       "      <td>xxxxxxxxxxxxx8693</td>\n",
       "      <td>xxxxxxxxxxxisma</td>\n",
       "      <td>xxxxxxxxxxxppiaankatu 2</td>\n",
       "      <td>LAHTI</td>\n",
       "      <td>15160</td>\n",
       "      <td>7</td>\n",
       "      <td>7</td>\n",
       "      <td>xxxxxxxxxxxppiaankatu 2 LAHTI 15160</td>\n",
       "      <td>xxxxxxxxxxxppiaankatu 2 LAHTI 15160</td>\n",
       "    </tr>\n",
       "    <tr>\n",
       "      <th>4</th>\n",
       "      <td>246889402</td>\n",
       "      <td>xxxxxxxxxxxxx3148</td>\n",
       "      <td>xxxxxxxxxxxisma</td>\n",
       "      <td>xxxxxxxxxxxppiaankatu 2</td>\n",
       "      <td>LAHTI</td>\n",
       "      <td>15160</td>\n",
       "      <td>7</td>\n",
       "      <td>7</td>\n",
       "      <td>xxxxxxxxxxxppiaankatu 2 LAHTI 15160</td>\n",
       "      <td>xxxxxxxxxxxppiaankatu 2 LAHTI 15160</td>\n",
       "    </tr>\n",
       "    <tr>\n",
       "      <th>...</th>\n",
       "      <td>...</td>\n",
       "      <td>...</td>\n",
       "      <td>...</td>\n",
       "      <td>...</td>\n",
       "      <td>...</td>\n",
       "      <td>...</td>\n",
       "      <td>...</td>\n",
       "      <td>...</td>\n",
       "      <td>...</td>\n",
       "      <td>...</td>\n",
       "    </tr>\n",
       "    <tr>\n",
       "      <th>188</th>\n",
       "      <td>246889454</td>\n",
       "      <td>xxxxxxxxxxxxx4675</td>\n",
       "      <td>xxxxxxxxxxxxPARK</td>\n",
       "      <td>xxxxxxxxxxxxAPARKINKATU 4</td>\n",
       "      <td>LEMPÄÄLÄ</td>\n",
       "      <td>37550</td>\n",
       "      <td>2</td>\n",
       "      <td>2</td>\n",
       "      <td>xxxxxxxxxxxxAPARKINKATU 4 LEMPÄÄLÄ 37550</td>\n",
       "      <td>xxxxxxxxxxxxAPARKINKATU 4 LEMPÄÄLÄ 37550</td>\n",
       "    </tr>\n",
       "    <tr>\n",
       "      <th>189</th>\n",
       "      <td>246889454</td>\n",
       "      <td>xxxxxxxxxxxxx4656</td>\n",
       "      <td>xxxxxxxxxxxxPARK</td>\n",
       "      <td>xxxxxxxxxxxxAPARKINKATU 4</td>\n",
       "      <td>LEMPÄÄLÄ</td>\n",
       "      <td>37550</td>\n",
       "      <td>2</td>\n",
       "      <td>2</td>\n",
       "      <td>xxxxxxxxxxxxAPARKINKATU 4 LEMPÄÄLÄ 37550</td>\n",
       "      <td>xxxxxxxxxxxxAPARKINKATU 4 LEMPÄÄLÄ 37550</td>\n",
       "    </tr>\n",
       "    <tr>\n",
       "      <th>190</th>\n",
       "      <td>246889454</td>\n",
       "      <td>xxxxxxxxxxxxx8697</td>\n",
       "      <td>xxxxxxxxxxxxT OY</td>\n",
       "      <td>xxxxxxxxxxxJAMÄENTIE 19</td>\n",
       "      <td>LEMPÄÄLÄ</td>\n",
       "      <td>37550</td>\n",
       "      <td>1</td>\n",
       "      <td>1</td>\n",
       "      <td>xxxxxxxxxxxJAMÄENTIE 19 LEMPÄÄLÄ 37550</td>\n",
       "      <td>xxxxxxxxxxxJAMÄENTIE 19 LEMPÄÄLÄ 37550</td>\n",
       "    </tr>\n",
       "    <tr>\n",
       "      <th>191</th>\n",
       "      <td>246889454</td>\n",
       "      <td>xxxxxxxxxxxxx1163</td>\n",
       "      <td>xxxxxxxxB KY</td>\n",
       "      <td>xxxxxxxxxxxxHOMAJANKATU 5</td>\n",
       "      <td>VALKEAKOSKI</td>\n",
       "      <td>37600</td>\n",
       "      <td>6</td>\n",
       "      <td>8</td>\n",
       "      <td>xxxxxxxxxxxxHOMAJANKATU 5 VALKEAKOSKI 37600</td>\n",
       "      <td>xxxxxxxxxxxxHOMAJANKATU 5 VALKEAKOSKI 37600</td>\n",
       "    </tr>\n",
       "    <tr>\n",
       "      <th>192</th>\n",
       "      <td>246889454</td>\n",
       "      <td>xxxxxxxxxxxxx8395</td>\n",
       "      <td>xxxxxxxxxxxpula</td>\n",
       "      <td>xxxxxxxxxxxxxkiniementie 25</td>\n",
       "      <td>Valkeakoski</td>\n",
       "      <td>37600</td>\n",
       "      <td>5</td>\n",
       "      <td>7</td>\n",
       "      <td>xxxxxxxxxxxxxkiniementie 25 Valkeakoski 37600</td>\n",
       "      <td>xxxxxxxxxxxxxkiniementie 25 Valkeakoski 37600</td>\n",
       "    </tr>\n",
       "  </tbody>\n",
       "</table>\n",
       "<p>193 rows × 10 columns</p>\n",
       "</div>"
      ],
      "text/plain": [
       "     Transport Task    Shipment Number  \\\n",
       "0         246889402  xxxxxxxxxxxxx0437   \n",
       "1         246889402  xxxxxxxxxxxxx6746   \n",
       "2         246889402  xxxxxxxxxxxxx7687   \n",
       "3         246889402  xxxxxxxxxxxxx8693   \n",
       "4         246889402  xxxxxxxxxxxxx3148   \n",
       "..              ...                ...   \n",
       "188       246889454  xxxxxxxxxxxxx4675   \n",
       "189       246889454  xxxxxxxxxxxxx4656   \n",
       "190       246889454  xxxxxxxxxxxxx8697   \n",
       "191       246889454  xxxxxxxxxxxxx1163   \n",
       "192       246889454  xxxxxxxxxxxxx8395   \n",
       "\n",
       "                                                  Name  \\\n",
       "0    xxxxxxxxxxxxxxxxxxxxxxxxxxxxxxxxxxxxxxxxxxxxxekki   \n",
       "1                                      xxxxxxxxxxxisma   \n",
       "2                       xxxxxxxxxxxxxxxxxxxxxxxxxxA OY   \n",
       "3                                      xxxxxxxxxxxisma   \n",
       "4                                      xxxxxxxxxxxisma   \n",
       "..                                                 ...   \n",
       "188                                   xxxxxxxxxxxxPARK   \n",
       "189                                   xxxxxxxxxxxxPARK   \n",
       "190                                   xxxxxxxxxxxxT OY   \n",
       "191                                       xxxxxxxxB KY   \n",
       "192                                    xxxxxxxxxxxpula   \n",
       "\n",
       "                         Address         City  Post Code  Merged Stops  \\\n",
       "0        xxxxxxxxxxxeriönkatu 32        LAHTI      15200             5   \n",
       "1        xxxxxxxxxxxppiaankatu 2        LAHTI      15160             7   \n",
       "2        xxxxxxxxxxxERIÖNKATU 32        LAHTI      15200             5   \n",
       "3        xxxxxxxxxxxppiaankatu 2        LAHTI      15160             7   \n",
       "4        xxxxxxxxxxxppiaankatu 2        LAHTI      15160             7   \n",
       "..                           ...          ...        ...           ...   \n",
       "188    xxxxxxxxxxxxAPARKINKATU 4     LEMPÄÄLÄ      37550             2   \n",
       "189    xxxxxxxxxxxxAPARKINKATU 4     LEMPÄÄLÄ      37550             2   \n",
       "190      xxxxxxxxxxxJAMÄENTIE 19     LEMPÄÄLÄ      37550             1   \n",
       "191    xxxxxxxxxxxxHOMAJANKATU 5  VALKEAKOSKI      37600             6   \n",
       "192  xxxxxxxxxxxxxkiniementie 25  Valkeakoski      37600             5   \n",
       "\n",
       "     Stop Number Without Merge                                         merged  \\\n",
       "0                            5            xxxxxxxxxxxeriönkatu 32 LAHTI 15200   \n",
       "1                            7            xxxxxxxxxxxppiaankatu 2 LAHTI 15160   \n",
       "2                            5            xxxxxxxxxxxERIÖNKATU 32 LAHTI 15200   \n",
       "3                            7            xxxxxxxxxxxppiaankatu 2 LAHTI 15160   \n",
       "4                            7            xxxxxxxxxxxppiaankatu 2 LAHTI 15160   \n",
       "..                         ...                                            ...   \n",
       "188                          2       xxxxxxxxxxxxAPARKINKATU 4 LEMPÄÄLÄ 37550   \n",
       "189                          2       xxxxxxxxxxxxAPARKINKATU 4 LEMPÄÄLÄ 37550   \n",
       "190                          1         xxxxxxxxxxxJAMÄENTIE 19 LEMPÄÄLÄ 37550   \n",
       "191                          8    xxxxxxxxxxxxHOMAJANKATU 5 VALKEAKOSKI 37600   \n",
       "192                          7  xxxxxxxxxxxxxkiniementie 25 Valkeakoski 37600   \n",
       "\n",
       "                                          merged_2  \n",
       "0              xxxxxxxxxxxeriönkatu 32 LAHTI 15200  \n",
       "1              xxxxxxxxxxxppiaankatu 2 LAHTI 15160  \n",
       "2              xxxxxxxxxxxERIÖNKATU 32 LAHTI 15200  \n",
       "3              xxxxxxxxxxxppiaankatu 2 LAHTI 15160  \n",
       "4              xxxxxxxxxxxppiaankatu 2 LAHTI 15160  \n",
       "..                                             ...  \n",
       "188       xxxxxxxxxxxxAPARKINKATU 4 LEMPÄÄLÄ 37550  \n",
       "189       xxxxxxxxxxxxAPARKINKATU 4 LEMPÄÄLÄ 37550  \n",
       "190         xxxxxxxxxxxJAMÄENTIE 19 LEMPÄÄLÄ 37550  \n",
       "191    xxxxxxxxxxxxHOMAJANKATU 5 VALKEAKOSKI 37600  \n",
       "192  xxxxxxxxxxxxxkiniementie 25 Valkeakoski 37600  \n",
       "\n",
       "[193 rows x 10 columns]"
      ]
     },
     "execution_count": 99,
     "metadata": {},
     "output_type": "execute_result"
    }
   ],
   "source": [
    "testing"
   ]
  },
  {
   "cell_type": "code",
   "execution_count": 7,
   "id": "b00fd298",
   "metadata": {},
   "outputs": [
    {
     "data": {
      "text/plain": [
       "['C:', 'Users', '1741710', 'Desktop', 'Delhi_work', 'Logistic_Data']"
      ]
     },
     "execution_count": 7,
     "metadata": {},
     "output_type": "execute_result"
    }
   ],
   "source": [
    "import os\n",
    "os.getcwd().split('\\\\')"
   ]
  },
  {
   "cell_type": "code",
   "execution_count": 102,
   "id": "879419ce",
   "metadata": {},
   "outputs": [],
   "source": [
    "testing['address'] = testing.apply(lambda x: ''.join(x['merged'].lower() + ' ' + str(x['merged_2'])), axis=1)\n"
   ]
  },
  {
   "cell_type": "code",
   "execution_count": 104,
   "id": "1b3c1c1a",
   "metadata": {},
   "outputs": [
    {
     "data": {
      "text/plain": [
       "'xxxxxxxxxxxeriönkatu 32 lahti 15200 xxxxxxxxxxxeriönkatu 32 LAHTI 15200'"
      ]
     },
     "execution_count": 104,
     "metadata": {},
     "output_type": "execute_result"
    }
   ],
   "source": [
    "testing.address[0]"
   ]
  },
  {
   "cell_type": "code",
   "execution_count": 103,
   "id": "14643e93",
   "metadata": {
    "scrolled": true
   },
   "outputs": [
    {
     "data": {
      "text/html": [
       "<div>\n",
       "<style scoped>\n",
       "    .dataframe tbody tr th:only-of-type {\n",
       "        vertical-align: middle;\n",
       "    }\n",
       "\n",
       "    .dataframe tbody tr th {\n",
       "        vertical-align: top;\n",
       "    }\n",
       "\n",
       "    .dataframe thead th {\n",
       "        text-align: right;\n",
       "    }\n",
       "</style>\n",
       "<table border=\"1\" class=\"dataframe\">\n",
       "  <thead>\n",
       "    <tr style=\"text-align: right;\">\n",
       "      <th></th>\n",
       "      <th>Transport Task</th>\n",
       "      <th>Shipment Number</th>\n",
       "      <th>Name</th>\n",
       "      <th>Address</th>\n",
       "      <th>City</th>\n",
       "      <th>Post Code</th>\n",
       "      <th>Merged Stops</th>\n",
       "      <th>Stop Number Without Merge</th>\n",
       "      <th>merged</th>\n",
       "      <th>merged_2</th>\n",
       "      <th>address</th>\n",
       "    </tr>\n",
       "  </thead>\n",
       "  <tbody>\n",
       "    <tr>\n",
       "      <th>0</th>\n",
       "      <td>246889402</td>\n",
       "      <td>xxxxxxxxxxxxx0437</td>\n",
       "      <td>xxxxxxxxxxxxxxxxxxxxxxxxxxxxxxxxxxxxxxxxxxxxxekki</td>\n",
       "      <td>xxxxxxxxxxxeriönkatu 32</td>\n",
       "      <td>LAHTI</td>\n",
       "      <td>15200</td>\n",
       "      <td>5</td>\n",
       "      <td>5</td>\n",
       "      <td>xxxxxxxxxxxeriönkatu 32 LAHTI 15200</td>\n",
       "      <td>xxxxxxxxxxxeriönkatu 32 LAHTI 15200</td>\n",
       "      <td>xxxxxxxxxxxeriönkatu 32 lahti 15200 xxxxxxxxxx...</td>\n",
       "    </tr>\n",
       "    <tr>\n",
       "      <th>1</th>\n",
       "      <td>246889402</td>\n",
       "      <td>xxxxxxxxxxxxx6746</td>\n",
       "      <td>xxxxxxxxxxxisma</td>\n",
       "      <td>xxxxxxxxxxxppiaankatu 2</td>\n",
       "      <td>LAHTI</td>\n",
       "      <td>15160</td>\n",
       "      <td>7</td>\n",
       "      <td>7</td>\n",
       "      <td>xxxxxxxxxxxppiaankatu 2 LAHTI 15160</td>\n",
       "      <td>xxxxxxxxxxxppiaankatu 2 LAHTI 15160</td>\n",
       "      <td>xxxxxxxxxxxppiaankatu 2 lahti 15160 xxxxxxxxxx...</td>\n",
       "    </tr>\n",
       "    <tr>\n",
       "      <th>2</th>\n",
       "      <td>246889402</td>\n",
       "      <td>xxxxxxxxxxxxx7687</td>\n",
       "      <td>xxxxxxxxxxxxxxxxxxxxxxxxxxA OY</td>\n",
       "      <td>xxxxxxxxxxxERIÖNKATU 32</td>\n",
       "      <td>LAHTI</td>\n",
       "      <td>15200</td>\n",
       "      <td>5</td>\n",
       "      <td>5</td>\n",
       "      <td>xxxxxxxxxxxERIÖNKATU 32 LAHTI 15200</td>\n",
       "      <td>xxxxxxxxxxxERIÖNKATU 32 LAHTI 15200</td>\n",
       "      <td>xxxxxxxxxxxeriönkatu 32 lahti 15200 xxxxxxxxxx...</td>\n",
       "    </tr>\n",
       "    <tr>\n",
       "      <th>3</th>\n",
       "      <td>246889402</td>\n",
       "      <td>xxxxxxxxxxxxx8693</td>\n",
       "      <td>xxxxxxxxxxxisma</td>\n",
       "      <td>xxxxxxxxxxxppiaankatu 2</td>\n",
       "      <td>LAHTI</td>\n",
       "      <td>15160</td>\n",
       "      <td>7</td>\n",
       "      <td>7</td>\n",
       "      <td>xxxxxxxxxxxppiaankatu 2 LAHTI 15160</td>\n",
       "      <td>xxxxxxxxxxxppiaankatu 2 LAHTI 15160</td>\n",
       "      <td>xxxxxxxxxxxppiaankatu 2 lahti 15160 xxxxxxxxxx...</td>\n",
       "    </tr>\n",
       "    <tr>\n",
       "      <th>4</th>\n",
       "      <td>246889402</td>\n",
       "      <td>xxxxxxxxxxxxx3148</td>\n",
       "      <td>xxxxxxxxxxxisma</td>\n",
       "      <td>xxxxxxxxxxxppiaankatu 2</td>\n",
       "      <td>LAHTI</td>\n",
       "      <td>15160</td>\n",
       "      <td>7</td>\n",
       "      <td>7</td>\n",
       "      <td>xxxxxxxxxxxppiaankatu 2 LAHTI 15160</td>\n",
       "      <td>xxxxxxxxxxxppiaankatu 2 LAHTI 15160</td>\n",
       "      <td>xxxxxxxxxxxppiaankatu 2 lahti 15160 xxxxxxxxxx...</td>\n",
       "    </tr>\n",
       "    <tr>\n",
       "      <th>...</th>\n",
       "      <td>...</td>\n",
       "      <td>...</td>\n",
       "      <td>...</td>\n",
       "      <td>...</td>\n",
       "      <td>...</td>\n",
       "      <td>...</td>\n",
       "      <td>...</td>\n",
       "      <td>...</td>\n",
       "      <td>...</td>\n",
       "      <td>...</td>\n",
       "      <td>...</td>\n",
       "    </tr>\n",
       "    <tr>\n",
       "      <th>188</th>\n",
       "      <td>246889454</td>\n",
       "      <td>xxxxxxxxxxxxx4675</td>\n",
       "      <td>xxxxxxxxxxxxPARK</td>\n",
       "      <td>xxxxxxxxxxxxAPARKINKATU 4</td>\n",
       "      <td>LEMPÄÄLÄ</td>\n",
       "      <td>37550</td>\n",
       "      <td>2</td>\n",
       "      <td>2</td>\n",
       "      <td>xxxxxxxxxxxxAPARKINKATU 4 LEMPÄÄLÄ 37550</td>\n",
       "      <td>xxxxxxxxxxxxAPARKINKATU 4 LEMPÄÄLÄ 37550</td>\n",
       "      <td>xxxxxxxxxxxxaparkinkatu 4 lempäälä 37550 xxxxx...</td>\n",
       "    </tr>\n",
       "    <tr>\n",
       "      <th>189</th>\n",
       "      <td>246889454</td>\n",
       "      <td>xxxxxxxxxxxxx4656</td>\n",
       "      <td>xxxxxxxxxxxxPARK</td>\n",
       "      <td>xxxxxxxxxxxxAPARKINKATU 4</td>\n",
       "      <td>LEMPÄÄLÄ</td>\n",
       "      <td>37550</td>\n",
       "      <td>2</td>\n",
       "      <td>2</td>\n",
       "      <td>xxxxxxxxxxxxAPARKINKATU 4 LEMPÄÄLÄ 37550</td>\n",
       "      <td>xxxxxxxxxxxxAPARKINKATU 4 LEMPÄÄLÄ 37550</td>\n",
       "      <td>xxxxxxxxxxxxaparkinkatu 4 lempäälä 37550 xxxxx...</td>\n",
       "    </tr>\n",
       "    <tr>\n",
       "      <th>190</th>\n",
       "      <td>246889454</td>\n",
       "      <td>xxxxxxxxxxxxx8697</td>\n",
       "      <td>xxxxxxxxxxxxT OY</td>\n",
       "      <td>xxxxxxxxxxxJAMÄENTIE 19</td>\n",
       "      <td>LEMPÄÄLÄ</td>\n",
       "      <td>37550</td>\n",
       "      <td>1</td>\n",
       "      <td>1</td>\n",
       "      <td>xxxxxxxxxxxJAMÄENTIE 19 LEMPÄÄLÄ 37550</td>\n",
       "      <td>xxxxxxxxxxxJAMÄENTIE 19 LEMPÄÄLÄ 37550</td>\n",
       "      <td>xxxxxxxxxxxjamäentie 19 lempäälä 37550 xxxxxxx...</td>\n",
       "    </tr>\n",
       "    <tr>\n",
       "      <th>191</th>\n",
       "      <td>246889454</td>\n",
       "      <td>xxxxxxxxxxxxx1163</td>\n",
       "      <td>xxxxxxxxB KY</td>\n",
       "      <td>xxxxxxxxxxxxHOMAJANKATU 5</td>\n",
       "      <td>VALKEAKOSKI</td>\n",
       "      <td>37600</td>\n",
       "      <td>6</td>\n",
       "      <td>8</td>\n",
       "      <td>xxxxxxxxxxxxHOMAJANKATU 5 VALKEAKOSKI 37600</td>\n",
       "      <td>xxxxxxxxxxxxHOMAJANKATU 5 VALKEAKOSKI 37600</td>\n",
       "      <td>xxxxxxxxxxxxhomajankatu 5 valkeakoski 37600 xx...</td>\n",
       "    </tr>\n",
       "    <tr>\n",
       "      <th>192</th>\n",
       "      <td>246889454</td>\n",
       "      <td>xxxxxxxxxxxxx8395</td>\n",
       "      <td>xxxxxxxxxxxpula</td>\n",
       "      <td>xxxxxxxxxxxxxkiniementie 25</td>\n",
       "      <td>Valkeakoski</td>\n",
       "      <td>37600</td>\n",
       "      <td>5</td>\n",
       "      <td>7</td>\n",
       "      <td>xxxxxxxxxxxxxkiniementie 25 Valkeakoski 37600</td>\n",
       "      <td>xxxxxxxxxxxxxkiniementie 25 Valkeakoski 37600</td>\n",
       "      <td>xxxxxxxxxxxxxkiniementie 25 valkeakoski 37600 ...</td>\n",
       "    </tr>\n",
       "  </tbody>\n",
       "</table>\n",
       "<p>193 rows × 11 columns</p>\n",
       "</div>"
      ],
      "text/plain": [
       "     Transport Task    Shipment Number  \\\n",
       "0         246889402  xxxxxxxxxxxxx0437   \n",
       "1         246889402  xxxxxxxxxxxxx6746   \n",
       "2         246889402  xxxxxxxxxxxxx7687   \n",
       "3         246889402  xxxxxxxxxxxxx8693   \n",
       "4         246889402  xxxxxxxxxxxxx3148   \n",
       "..              ...                ...   \n",
       "188       246889454  xxxxxxxxxxxxx4675   \n",
       "189       246889454  xxxxxxxxxxxxx4656   \n",
       "190       246889454  xxxxxxxxxxxxx8697   \n",
       "191       246889454  xxxxxxxxxxxxx1163   \n",
       "192       246889454  xxxxxxxxxxxxx8395   \n",
       "\n",
       "                                                  Name  \\\n",
       "0    xxxxxxxxxxxxxxxxxxxxxxxxxxxxxxxxxxxxxxxxxxxxxekki   \n",
       "1                                      xxxxxxxxxxxisma   \n",
       "2                       xxxxxxxxxxxxxxxxxxxxxxxxxxA OY   \n",
       "3                                      xxxxxxxxxxxisma   \n",
       "4                                      xxxxxxxxxxxisma   \n",
       "..                                                 ...   \n",
       "188                                   xxxxxxxxxxxxPARK   \n",
       "189                                   xxxxxxxxxxxxPARK   \n",
       "190                                   xxxxxxxxxxxxT OY   \n",
       "191                                       xxxxxxxxB KY   \n",
       "192                                    xxxxxxxxxxxpula   \n",
       "\n",
       "                         Address         City  Post Code  Merged Stops  \\\n",
       "0        xxxxxxxxxxxeriönkatu 32        LAHTI      15200             5   \n",
       "1        xxxxxxxxxxxppiaankatu 2        LAHTI      15160             7   \n",
       "2        xxxxxxxxxxxERIÖNKATU 32        LAHTI      15200             5   \n",
       "3        xxxxxxxxxxxppiaankatu 2        LAHTI      15160             7   \n",
       "4        xxxxxxxxxxxppiaankatu 2        LAHTI      15160             7   \n",
       "..                           ...          ...        ...           ...   \n",
       "188    xxxxxxxxxxxxAPARKINKATU 4     LEMPÄÄLÄ      37550             2   \n",
       "189    xxxxxxxxxxxxAPARKINKATU 4     LEMPÄÄLÄ      37550             2   \n",
       "190      xxxxxxxxxxxJAMÄENTIE 19     LEMPÄÄLÄ      37550             1   \n",
       "191    xxxxxxxxxxxxHOMAJANKATU 5  VALKEAKOSKI      37600             6   \n",
       "192  xxxxxxxxxxxxxkiniementie 25  Valkeakoski      37600             5   \n",
       "\n",
       "     Stop Number Without Merge                                         merged  \\\n",
       "0                            5            xxxxxxxxxxxeriönkatu 32 LAHTI 15200   \n",
       "1                            7            xxxxxxxxxxxppiaankatu 2 LAHTI 15160   \n",
       "2                            5            xxxxxxxxxxxERIÖNKATU 32 LAHTI 15200   \n",
       "3                            7            xxxxxxxxxxxppiaankatu 2 LAHTI 15160   \n",
       "4                            7            xxxxxxxxxxxppiaankatu 2 LAHTI 15160   \n",
       "..                         ...                                            ...   \n",
       "188                          2       xxxxxxxxxxxxAPARKINKATU 4 LEMPÄÄLÄ 37550   \n",
       "189                          2       xxxxxxxxxxxxAPARKINKATU 4 LEMPÄÄLÄ 37550   \n",
       "190                          1         xxxxxxxxxxxJAMÄENTIE 19 LEMPÄÄLÄ 37550   \n",
       "191                          8    xxxxxxxxxxxxHOMAJANKATU 5 VALKEAKOSKI 37600   \n",
       "192                          7  xxxxxxxxxxxxxkiniementie 25 Valkeakoski 37600   \n",
       "\n",
       "                                          merged_2  \\\n",
       "0              xxxxxxxxxxxeriönkatu 32 LAHTI 15200   \n",
       "1              xxxxxxxxxxxppiaankatu 2 LAHTI 15160   \n",
       "2              xxxxxxxxxxxERIÖNKATU 32 LAHTI 15200   \n",
       "3              xxxxxxxxxxxppiaankatu 2 LAHTI 15160   \n",
       "4              xxxxxxxxxxxppiaankatu 2 LAHTI 15160   \n",
       "..                                             ...   \n",
       "188       xxxxxxxxxxxxAPARKINKATU 4 LEMPÄÄLÄ 37550   \n",
       "189       xxxxxxxxxxxxAPARKINKATU 4 LEMPÄÄLÄ 37550   \n",
       "190         xxxxxxxxxxxJAMÄENTIE 19 LEMPÄÄLÄ 37550   \n",
       "191    xxxxxxxxxxxxHOMAJANKATU 5 VALKEAKOSKI 37600   \n",
       "192  xxxxxxxxxxxxxkiniementie 25 Valkeakoski 37600   \n",
       "\n",
       "                                               address  \n",
       "0    xxxxxxxxxxxeriönkatu 32 lahti 15200 xxxxxxxxxx...  \n",
       "1    xxxxxxxxxxxppiaankatu 2 lahti 15160 xxxxxxxxxx...  \n",
       "2    xxxxxxxxxxxeriönkatu 32 lahti 15200 xxxxxxxxxx...  \n",
       "3    xxxxxxxxxxxppiaankatu 2 lahti 15160 xxxxxxxxxx...  \n",
       "4    xxxxxxxxxxxppiaankatu 2 lahti 15160 xxxxxxxxxx...  \n",
       "..                                                 ...  \n",
       "188  xxxxxxxxxxxxaparkinkatu 4 lempäälä 37550 xxxxx...  \n",
       "189  xxxxxxxxxxxxaparkinkatu 4 lempäälä 37550 xxxxx...  \n",
       "190  xxxxxxxxxxxjamäentie 19 lempäälä 37550 xxxxxxx...  \n",
       "191  xxxxxxxxxxxxhomajankatu 5 valkeakoski 37600 xx...  \n",
       "192  xxxxxxxxxxxxxkiniementie 25 valkeakoski 37600 ...  \n",
       "\n",
       "[193 rows x 11 columns]"
      ]
     },
     "execution_count": 103,
     "metadata": {},
     "output_type": "execute_result"
    }
   ],
   "source": [
    "testing"
   ]
  },
  {
   "cell_type": "code",
   "execution_count": 9,
   "id": "7d9e6988",
   "metadata": {},
   "outputs": [],
   "source": [
    "import warnings\n",
    "warnings.filterwarnings('ignore')"
   ]
  },
  {
   "cell_type": "code",
   "execution_count": 131,
   "id": "cd141030",
   "metadata": {},
   "outputs": [],
   "source": [
    "import pickle"
   ]
  },
  {
   "cell_type": "code",
   "execution_count": 133,
   "id": "488b3c2f",
   "metadata": {},
   "outputs": [],
   "source": [
    "with open(\"random_forest_model.pkl\",'rb') as file:\n",
    "    loaded_model=pickle.load(file)\n",
    "    "
   ]
  },
  {
   "cell_type": "code",
   "execution_count": 135,
   "id": "13e91712",
   "metadata": {
    "scrolled": true
   },
   "outputs": [
    {
     "data": {
      "text/html": [
       "<div>\n",
       "<style scoped>\n",
       "    .dataframe tbody tr th:only-of-type {\n",
       "        vertical-align: middle;\n",
       "    }\n",
       "\n",
       "    .dataframe tbody tr th {\n",
       "        vertical-align: top;\n",
       "    }\n",
       "\n",
       "    .dataframe thead th {\n",
       "        text-align: right;\n",
       "    }\n",
       "</style>\n",
       "<table border=\"1\" class=\"dataframe\">\n",
       "  <thead>\n",
       "    <tr style=\"text-align: right;\">\n",
       "      <th></th>\n",
       "      <th>Transport Task</th>\n",
       "      <th>Shipment Number</th>\n",
       "      <th>Name</th>\n",
       "      <th>Address</th>\n",
       "      <th>City</th>\n",
       "      <th>Post Code</th>\n",
       "      <th>Merged Stops</th>\n",
       "      <th>Stop Number Without Merge</th>\n",
       "      <th>merged</th>\n",
       "      <th>merged_2</th>\n",
       "      <th>address</th>\n",
       "    </tr>\n",
       "  </thead>\n",
       "  <tbody>\n",
       "    <tr>\n",
       "      <th>0</th>\n",
       "      <td>246889402</td>\n",
       "      <td>xxxxxxxxxxxxx0437</td>\n",
       "      <td>xxxxxxxxxxxxxxxxxxxxxxxxxxxxxxxxxxxxxxxxxxxxxekki</td>\n",
       "      <td>xxxxxxxxxxxeriönkatu 32</td>\n",
       "      <td>LAHTI</td>\n",
       "      <td>15200</td>\n",
       "      <td>5</td>\n",
       "      <td>5</td>\n",
       "      <td>xxxxxxxxxxxeriönkatu 32 LAHTI 15200</td>\n",
       "      <td>xxxxxxxxxxxeriönkatu 32 LAHTI 15200</td>\n",
       "      <td>xxxxxxxxxxxeriönkatu 32 lahti 15200 xxxxxxxxxx...</td>\n",
       "    </tr>\n",
       "    <tr>\n",
       "      <th>1</th>\n",
       "      <td>246889402</td>\n",
       "      <td>xxxxxxxxxxxxx6746</td>\n",
       "      <td>xxxxxxxxxxxisma</td>\n",
       "      <td>xxxxxxxxxxxppiaankatu 2</td>\n",
       "      <td>LAHTI</td>\n",
       "      <td>15160</td>\n",
       "      <td>7</td>\n",
       "      <td>7</td>\n",
       "      <td>xxxxxxxxxxxppiaankatu 2 LAHTI 15160</td>\n",
       "      <td>xxxxxxxxxxxppiaankatu 2 LAHTI 15160</td>\n",
       "      <td>xxxxxxxxxxxppiaankatu 2 lahti 15160 xxxxxxxxxx...</td>\n",
       "    </tr>\n",
       "    <tr>\n",
       "      <th>2</th>\n",
       "      <td>246889402</td>\n",
       "      <td>xxxxxxxxxxxxx7687</td>\n",
       "      <td>xxxxxxxxxxxxxxxxxxxxxxxxxxA OY</td>\n",
       "      <td>xxxxxxxxxxxERIÖNKATU 32</td>\n",
       "      <td>LAHTI</td>\n",
       "      <td>15200</td>\n",
       "      <td>5</td>\n",
       "      <td>5</td>\n",
       "      <td>xxxxxxxxxxxERIÖNKATU 32 LAHTI 15200</td>\n",
       "      <td>xxxxxxxxxxxERIÖNKATU 32 LAHTI 15200</td>\n",
       "      <td>xxxxxxxxxxxeriönkatu 32 lahti 15200 xxxxxxxxxx...</td>\n",
       "    </tr>\n",
       "    <tr>\n",
       "      <th>3</th>\n",
       "      <td>246889402</td>\n",
       "      <td>xxxxxxxxxxxxx8693</td>\n",
       "      <td>xxxxxxxxxxxisma</td>\n",
       "      <td>xxxxxxxxxxxppiaankatu 2</td>\n",
       "      <td>LAHTI</td>\n",
       "      <td>15160</td>\n",
       "      <td>7</td>\n",
       "      <td>7</td>\n",
       "      <td>xxxxxxxxxxxppiaankatu 2 LAHTI 15160</td>\n",
       "      <td>xxxxxxxxxxxppiaankatu 2 LAHTI 15160</td>\n",
       "      <td>xxxxxxxxxxxppiaankatu 2 lahti 15160 xxxxxxxxxx...</td>\n",
       "    </tr>\n",
       "    <tr>\n",
       "      <th>4</th>\n",
       "      <td>246889402</td>\n",
       "      <td>xxxxxxxxxxxxx3148</td>\n",
       "      <td>xxxxxxxxxxxisma</td>\n",
       "      <td>xxxxxxxxxxxppiaankatu 2</td>\n",
       "      <td>LAHTI</td>\n",
       "      <td>15160</td>\n",
       "      <td>7</td>\n",
       "      <td>7</td>\n",
       "      <td>xxxxxxxxxxxppiaankatu 2 LAHTI 15160</td>\n",
       "      <td>xxxxxxxxxxxppiaankatu 2 LAHTI 15160</td>\n",
       "      <td>xxxxxxxxxxxppiaankatu 2 lahti 15160 xxxxxxxxxx...</td>\n",
       "    </tr>\n",
       "    <tr>\n",
       "      <th>...</th>\n",
       "      <td>...</td>\n",
       "      <td>...</td>\n",
       "      <td>...</td>\n",
       "      <td>...</td>\n",
       "      <td>...</td>\n",
       "      <td>...</td>\n",
       "      <td>...</td>\n",
       "      <td>...</td>\n",
       "      <td>...</td>\n",
       "      <td>...</td>\n",
       "      <td>...</td>\n",
       "    </tr>\n",
       "    <tr>\n",
       "      <th>188</th>\n",
       "      <td>246889454</td>\n",
       "      <td>xxxxxxxxxxxxx4675</td>\n",
       "      <td>xxxxxxxxxxxxPARK</td>\n",
       "      <td>xxxxxxxxxxxxAPARKINKATU 4</td>\n",
       "      <td>LEMPÄÄLÄ</td>\n",
       "      <td>37550</td>\n",
       "      <td>2</td>\n",
       "      <td>2</td>\n",
       "      <td>xxxxxxxxxxxxAPARKINKATU 4 LEMPÄÄLÄ 37550</td>\n",
       "      <td>xxxxxxxxxxxxAPARKINKATU 4 LEMPÄÄLÄ 37550</td>\n",
       "      <td>xxxxxxxxxxxxaparkinkatu 4 lempäälä 37550 xxxxx...</td>\n",
       "    </tr>\n",
       "    <tr>\n",
       "      <th>189</th>\n",
       "      <td>246889454</td>\n",
       "      <td>xxxxxxxxxxxxx4656</td>\n",
       "      <td>xxxxxxxxxxxxPARK</td>\n",
       "      <td>xxxxxxxxxxxxAPARKINKATU 4</td>\n",
       "      <td>LEMPÄÄLÄ</td>\n",
       "      <td>37550</td>\n",
       "      <td>2</td>\n",
       "      <td>2</td>\n",
       "      <td>xxxxxxxxxxxxAPARKINKATU 4 LEMPÄÄLÄ 37550</td>\n",
       "      <td>xxxxxxxxxxxxAPARKINKATU 4 LEMPÄÄLÄ 37550</td>\n",
       "      <td>xxxxxxxxxxxxaparkinkatu 4 lempäälä 37550 xxxxx...</td>\n",
       "    </tr>\n",
       "    <tr>\n",
       "      <th>190</th>\n",
       "      <td>246889454</td>\n",
       "      <td>xxxxxxxxxxxxx8697</td>\n",
       "      <td>xxxxxxxxxxxxT OY</td>\n",
       "      <td>xxxxxxxxxxxJAMÄENTIE 19</td>\n",
       "      <td>LEMPÄÄLÄ</td>\n",
       "      <td>37550</td>\n",
       "      <td>1</td>\n",
       "      <td>1</td>\n",
       "      <td>xxxxxxxxxxxJAMÄENTIE 19 LEMPÄÄLÄ 37550</td>\n",
       "      <td>xxxxxxxxxxxJAMÄENTIE 19 LEMPÄÄLÄ 37550</td>\n",
       "      <td>xxxxxxxxxxxjamäentie 19 lempäälä 37550 xxxxxxx...</td>\n",
       "    </tr>\n",
       "    <tr>\n",
       "      <th>191</th>\n",
       "      <td>246889454</td>\n",
       "      <td>xxxxxxxxxxxxx1163</td>\n",
       "      <td>xxxxxxxxB KY</td>\n",
       "      <td>xxxxxxxxxxxxHOMAJANKATU 5</td>\n",
       "      <td>VALKEAKOSKI</td>\n",
       "      <td>37600</td>\n",
       "      <td>6</td>\n",
       "      <td>8</td>\n",
       "      <td>xxxxxxxxxxxxHOMAJANKATU 5 VALKEAKOSKI 37600</td>\n",
       "      <td>xxxxxxxxxxxxHOMAJANKATU 5 VALKEAKOSKI 37600</td>\n",
       "      <td>xxxxxxxxxxxxhomajankatu 5 valkeakoski 37600 xx...</td>\n",
       "    </tr>\n",
       "    <tr>\n",
       "      <th>192</th>\n",
       "      <td>246889454</td>\n",
       "      <td>xxxxxxxxxxxxx8395</td>\n",
       "      <td>xxxxxxxxxxxpula</td>\n",
       "      <td>xxxxxxxxxxxxxkiniementie 25</td>\n",
       "      <td>Valkeakoski</td>\n",
       "      <td>37600</td>\n",
       "      <td>5</td>\n",
       "      <td>7</td>\n",
       "      <td>xxxxxxxxxxxxxkiniementie 25 Valkeakoski 37600</td>\n",
       "      <td>xxxxxxxxxxxxxkiniementie 25 Valkeakoski 37600</td>\n",
       "      <td>xxxxxxxxxxxxxkiniementie 25 valkeakoski 37600 ...</td>\n",
       "    </tr>\n",
       "  </tbody>\n",
       "</table>\n",
       "<p>193 rows × 11 columns</p>\n",
       "</div>"
      ],
      "text/plain": [
       "     Transport Task    Shipment Number  \\\n",
       "0         246889402  xxxxxxxxxxxxx0437   \n",
       "1         246889402  xxxxxxxxxxxxx6746   \n",
       "2         246889402  xxxxxxxxxxxxx7687   \n",
       "3         246889402  xxxxxxxxxxxxx8693   \n",
       "4         246889402  xxxxxxxxxxxxx3148   \n",
       "..              ...                ...   \n",
       "188       246889454  xxxxxxxxxxxxx4675   \n",
       "189       246889454  xxxxxxxxxxxxx4656   \n",
       "190       246889454  xxxxxxxxxxxxx8697   \n",
       "191       246889454  xxxxxxxxxxxxx1163   \n",
       "192       246889454  xxxxxxxxxxxxx8395   \n",
       "\n",
       "                                                  Name  \\\n",
       "0    xxxxxxxxxxxxxxxxxxxxxxxxxxxxxxxxxxxxxxxxxxxxxekki   \n",
       "1                                      xxxxxxxxxxxisma   \n",
       "2                       xxxxxxxxxxxxxxxxxxxxxxxxxxA OY   \n",
       "3                                      xxxxxxxxxxxisma   \n",
       "4                                      xxxxxxxxxxxisma   \n",
       "..                                                 ...   \n",
       "188                                   xxxxxxxxxxxxPARK   \n",
       "189                                   xxxxxxxxxxxxPARK   \n",
       "190                                   xxxxxxxxxxxxT OY   \n",
       "191                                       xxxxxxxxB KY   \n",
       "192                                    xxxxxxxxxxxpula   \n",
       "\n",
       "                         Address         City  Post Code  Merged Stops  \\\n",
       "0        xxxxxxxxxxxeriönkatu 32        LAHTI      15200             5   \n",
       "1        xxxxxxxxxxxppiaankatu 2        LAHTI      15160             7   \n",
       "2        xxxxxxxxxxxERIÖNKATU 32        LAHTI      15200             5   \n",
       "3        xxxxxxxxxxxppiaankatu 2        LAHTI      15160             7   \n",
       "4        xxxxxxxxxxxppiaankatu 2        LAHTI      15160             7   \n",
       "..                           ...          ...        ...           ...   \n",
       "188    xxxxxxxxxxxxAPARKINKATU 4     LEMPÄÄLÄ      37550             2   \n",
       "189    xxxxxxxxxxxxAPARKINKATU 4     LEMPÄÄLÄ      37550             2   \n",
       "190      xxxxxxxxxxxJAMÄENTIE 19     LEMPÄÄLÄ      37550             1   \n",
       "191    xxxxxxxxxxxxHOMAJANKATU 5  VALKEAKOSKI      37600             6   \n",
       "192  xxxxxxxxxxxxxkiniementie 25  Valkeakoski      37600             5   \n",
       "\n",
       "     Stop Number Without Merge                                         merged  \\\n",
       "0                            5            xxxxxxxxxxxeriönkatu 32 LAHTI 15200   \n",
       "1                            7            xxxxxxxxxxxppiaankatu 2 LAHTI 15160   \n",
       "2                            5            xxxxxxxxxxxERIÖNKATU 32 LAHTI 15200   \n",
       "3                            7            xxxxxxxxxxxppiaankatu 2 LAHTI 15160   \n",
       "4                            7            xxxxxxxxxxxppiaankatu 2 LAHTI 15160   \n",
       "..                         ...                                            ...   \n",
       "188                          2       xxxxxxxxxxxxAPARKINKATU 4 LEMPÄÄLÄ 37550   \n",
       "189                          2       xxxxxxxxxxxxAPARKINKATU 4 LEMPÄÄLÄ 37550   \n",
       "190                          1         xxxxxxxxxxxJAMÄENTIE 19 LEMPÄÄLÄ 37550   \n",
       "191                          8    xxxxxxxxxxxxHOMAJANKATU 5 VALKEAKOSKI 37600   \n",
       "192                          7  xxxxxxxxxxxxxkiniementie 25 Valkeakoski 37600   \n",
       "\n",
       "                                          merged_2  \\\n",
       "0              xxxxxxxxxxxeriönkatu 32 LAHTI 15200   \n",
       "1              xxxxxxxxxxxppiaankatu 2 LAHTI 15160   \n",
       "2              xxxxxxxxxxxERIÖNKATU 32 LAHTI 15200   \n",
       "3              xxxxxxxxxxxppiaankatu 2 LAHTI 15160   \n",
       "4              xxxxxxxxxxxppiaankatu 2 LAHTI 15160   \n",
       "..                                             ...   \n",
       "188       xxxxxxxxxxxxAPARKINKATU 4 LEMPÄÄLÄ 37550   \n",
       "189       xxxxxxxxxxxxAPARKINKATU 4 LEMPÄÄLÄ 37550   \n",
       "190         xxxxxxxxxxxJAMÄENTIE 19 LEMPÄÄLÄ 37550   \n",
       "191    xxxxxxxxxxxxHOMAJANKATU 5 VALKEAKOSKI 37600   \n",
       "192  xxxxxxxxxxxxxkiniementie 25 Valkeakoski 37600   \n",
       "\n",
       "                                               address  \n",
       "0    xxxxxxxxxxxeriönkatu 32 lahti 15200 xxxxxxxxxx...  \n",
       "1    xxxxxxxxxxxppiaankatu 2 lahti 15160 xxxxxxxxxx...  \n",
       "2    xxxxxxxxxxxeriönkatu 32 lahti 15200 xxxxxxxxxx...  \n",
       "3    xxxxxxxxxxxppiaankatu 2 lahti 15160 xxxxxxxxxx...  \n",
       "4    xxxxxxxxxxxppiaankatu 2 lahti 15160 xxxxxxxxxx...  \n",
       "..                                                 ...  \n",
       "188  xxxxxxxxxxxxaparkinkatu 4 lempäälä 37550 xxxxx...  \n",
       "189  xxxxxxxxxxxxaparkinkatu 4 lempäälä 37550 xxxxx...  \n",
       "190  xxxxxxxxxxxjamäentie 19 lempäälä 37550 xxxxxxx...  \n",
       "191  xxxxxxxxxxxxhomajankatu 5 valkeakoski 37600 xx...  \n",
       "192  xxxxxxxxxxxxxkiniementie 25 valkeakoski 37600 ...  \n",
       "\n",
       "[193 rows x 11 columns]"
      ]
     },
     "execution_count": 135,
     "metadata": {},
     "output_type": "execute_result"
    }
   ],
   "source": [
    "testing"
   ]
  },
  {
   "cell_type": "code",
   "execution_count": null,
   "id": "d0d3aaed",
   "metadata": {},
   "outputs": [],
   "source": []
  },
  {
   "cell_type": "code",
   "execution_count": 134,
   "id": "8025c9bf",
   "metadata": {},
   "outputs": [
    {
     "ename": "NameError",
     "evalue": "name 'test_df' is not defined",
     "output_type": "error",
     "traceback": [
      "\u001b[1;31m---------------------------------------------------------------------------\u001b[0m",
      "\u001b[1;31mNameError\u001b[0m                                 Traceback (most recent call last)",
      "\u001b[1;32m<ipython-input-134-5b6df51c7e71>\u001b[0m in \u001b[0;36m<module>\u001b[1;34m\u001b[0m\n\u001b[1;32m----> 1\u001b[1;33m \u001b[1;32mfor\u001b[0m \u001b[0mindex\u001b[0m \u001b[1;32min\u001b[0m \u001b[0mrange\u001b[0m\u001b[1;33m(\u001b[0m\u001b[0mlen\u001b[0m\u001b[1;33m(\u001b[0m\u001b[0mtest_df\u001b[0m\u001b[1;33m)\u001b[0m\u001b[1;33m-\u001b[0m\u001b[1;36m1\u001b[0m\u001b[1;33m)\u001b[0m\u001b[1;33m:\u001b[0m\u001b[1;33m\u001b[0m\u001b[1;33m\u001b[0m\u001b[0m\n\u001b[0m\u001b[0;32m      2\u001b[0m     \u001b[1;32mif\u001b[0m \u001b[0mindex\u001b[0m \u001b[1;32mnot\u001b[0m \u001b[1;32min\u001b[0m \u001b[0msimilar_found\u001b[0m\u001b[1;33m:\u001b[0m\u001b[1;33m\u001b[0m\u001b[1;33m\u001b[0m\u001b[0m\n\u001b[0;32m      3\u001b[0m         \u001b[0maddress_1\u001b[0m \u001b[1;33m=\u001b[0m \u001b[0mtest_df\u001b[0m\u001b[1;33m.\u001b[0m\u001b[0mloc\u001b[0m\u001b[1;33m[\u001b[0m\u001b[0mindex\u001b[0m\u001b[1;33m,\u001b[0m \u001b[1;34m'address'\u001b[0m\u001b[1;33m]\u001b[0m\u001b[1;33m\u001b[0m\u001b[1;33m\u001b[0m\u001b[0m\n\u001b[0;32m      4\u001b[0m         \u001b[1;32mfor\u001b[0m \u001b[0mj\u001b[0m \u001b[1;32min\u001b[0m \u001b[0mrange\u001b[0m\u001b[1;33m(\u001b[0m\u001b[0mindex\u001b[0m\u001b[1;33m+\u001b[0m\u001b[1;36m1\u001b[0m\u001b[1;33m,\u001b[0m\u001b[0mlen\u001b[0m\u001b[1;33m(\u001b[0m\u001b[0mtest_df\u001b[0m\u001b[1;33m)\u001b[0m\u001b[1;33m)\u001b[0m\u001b[1;33m:\u001b[0m\u001b[1;33m\u001b[0m\u001b[1;33m\u001b[0m\u001b[0m\n\u001b[0;32m      5\u001b[0m             \u001b[1;32mif\u001b[0m \u001b[0mj\u001b[0m \u001b[1;32mnot\u001b[0m \u001b[1;32min\u001b[0m \u001b[0msimilar_found\u001b[0m\u001b[1;33m:\u001b[0m\u001b[1;33m\u001b[0m\u001b[1;33m\u001b[0m\u001b[0m\n",
      "\u001b[1;31mNameError\u001b[0m: name 'test_df' is not defined"
     ]
    }
   ],
   "source": [
    "for index in range(len(test_df)-1):\n",
    "    if index not in similar_found:\n",
    "        address_1 = test_df.loc[index, 'address']\n",
    "        for j in range(index+1,len(test_df)):\n",
    "            if j not in similar_found:\n",
    "                address_2 = test_df.loc[j, 'address']\n",
    "                test_features=loaded_transformer.transform([address_1 + ' ' + address_2])\n",
    "                prediction = loaded_model.predict(test_features)\n",
    "                print(address_1, 'and', address_2, '----> prediction is', prediction[0])\n",
    "                if prediction[0] == 1:\n",
    "                    similar_found.add(index)\n",
    "                    similar_found.add(j)\n",
    "                    if index not in similar_address_dict.keys():\n",
    "                        similar_address_dict[index] = [j]\n",
    "                    else:\n",
    "                        similar_address_dict[index].append(j)"
   ]
  },
  {
   "cell_type": "code",
   "execution_count": null,
   "id": "283c4775",
   "metadata": {},
   "outputs": [],
   "source": []
  }
 ],
 "metadata": {
  "kernelspec": {
   "display_name": "Python 3",
   "language": "python",
   "name": "python3"
  },
  "language_info": {
   "codemirror_mode": {
    "name": "ipython",
    "version": 3
   },
   "file_extension": ".py",
   "mimetype": "text/x-python",
   "name": "python",
   "nbconvert_exporter": "python",
   "pygments_lexer": "ipython3",
   "version": "3.9.1"
  }
 },
 "nbformat": 4,
 "nbformat_minor": 5
}
