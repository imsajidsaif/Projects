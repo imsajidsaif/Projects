{
 "cells": [
  {
   "cell_type": "code",
   "execution_count": 123,
   "metadata": {},
   "outputs": [
    {
     "name": "stdout",
     "output_type": "stream",
     "text": [
      "0.9923273657289002\n"
     ]
    }
   ],
   "source": [
    "import pandas as pd\n",
    "import numpy as np\n",
    "from matplotlib import pyplot as plt\n",
    "import warnings\n",
    "from sklearn.metrics import accuracy_score,confusion_matrix,classification_report\n",
    "warnings.filterwarnings('ignore')\n",
    "df=pd.read_csv('SpaData.csv')\n",
    "correlation=df.corr()\n",
    "correlation['GTOccupancy'].sort_values(ascending=False)\n",
    "df.drop('ID', axis=1, inplace=True)\n",
    "df.reset_index(drop=True)\n",
    "df.TimeStamp= pd.to_datetime(df.TimeStamp)\n",
    "df['Year'],df['Month'],df['Day'],df['Hours'],df['Minuts']=np.nan,np.nan,np.nan,np.nan,np.nan\n",
    "for i in range(len(df)):\n",
    "    df['Year'][i]=df['TimeStamp'][i].year\n",
    "    df['Month'][i]=df['TimeStamp'][i].month\n",
    "    df['Day'][i]=df['TimeStamp'][i].day\n",
    "    df['Hours'][i]=df['TimeStamp'][i].hour\n",
    "    df['Minuts'][i]=df['TimeStamp'][i].minute\n",
    "training_df=df.drop(['GTOccupancy', 'TimeStamp'], axis=1)\n",
    "target=df.GTOccupancy\n",
    "from sklearn.model_selection import train_test_split\n",
    "from sklearn.model_selection import RandomizedSearchCV,GridSearchCV,KFold\n",
    "x_train,x_test,y_train,y_test=train_test_split(training_df,target,test_size=.30,stratify=target,random_state=31)\n",
    "model=KNeighborsClassifier(leaf_size=45, metric='manhattan', n_neighbors=15, p=10,weights='distance')\n",
    "model.fit(x_train,y_train)\n",
    "pred=model.predict(x_test)\n",
    "print(accuracy_score(pred,y_test))\n"
   ]
  },
  {
   "cell_type": "code",
   "execution_count": 88,
   "metadata": {},
   "outputs": [],
   "source": [
    "import pandas as pd\n",
    "import seaborn as sns\n",
    "import matplotlib.pyplot as plt\n",
    "from sklearn.preprocessing import LabelEncoder\n",
    "from sklearn.model_selection import train_test_split\n",
    "\n",
    "from sklearn.ensemble import RandomForestClassifier\n",
    "import warnings\n",
    "warnings.filterwarnings('ignore')\n",
    "df=pd.read_csv(\"winequality-red.csv\")\n",
    "#sns.heatmap(df.corr(),annot=True)\n",
    "def reduce_skewness(dataframe):\n",
    "    for i in range(len(dataframe.columns)):\n",
    "        if dataframe[dataframe.columns[i]].skew()>0:\n",
    "            dataframe[dataframe.columns[i]]=dataframe[dataframe.columns[i]].map(lambda i: np.log(i) if i > 0 else 0) \n",
    "        else:\n",
    "            continue\n",
    "\n",
    "    return dataframe\n",
    "new_df=reduce_skewness(df.drop(['quality'],1))\n",
    "def generate_target(df,column_name):\n",
    "    for i in range(len(df)):\n",
    "        if df[column_name][i]==6:\n",
    "            df[column_name][i]=\"normal\"\n",
    "        elif df[column_name][i]>6:\n",
    "            df[column_name][i]=\"good\"\n",
    "        else:\n",
    "            df[column_name][i]=\"poor\"\n",
    "    return df\n",
    "            \n",
    "new_df=generate_target(df,'quality')\n",
    "new_df['quality']=LabelEncoder().fit_transform(new_df.quality)\n",
    "from sklearn.ensemble import ExtraTreesClassifier,GradientBoostingClassifier\n",
    "from sklearn.metrics import accuracy_score\n",
    "X=new_df.iloc[:,:-1]\n",
    "y=new_df.quality\n",
    "x_train,x_test,y_train,y_test=train_test_split(X,y,stratify=y,test_size=.32,random_state=80)\n",
    "model=RandomForestClassifier(n_estimators=180,max_depth=15)\n",
    "\n",
    "model.fit(x_train,y_train)\n",
    "#pd.Series(model.feature_importances_,index=X.columns).value_counts().plot(kind=\"barh\")\n",
    "pred=model.predict(x_test)\n",
    "\n",
    "print(accuracy_score(y_test,pred))"
   ]
  },
  {
   "cell_type": "code",
   "execution_count": null,
   "metadata": {},
   "outputs": [],
   "source": []
  },
  {
   "cell_type": "code",
   "execution_count": null,
   "metadata": {},
   "outputs": [],
   "source": []
  },
  {
   "cell_type": "code",
   "execution_count": null,
   "metadata": {},
   "outputs": [],
   "source": []
  },
  {
   "cell_type": "code",
   "execution_count": 112,
   "metadata": {},
   "outputs": [],
   "source": []
  },
  {
   "cell_type": "code",
   "execution_count": 113,
   "metadata": {},
   "outputs": [],
   "source": [
    "cv=KFold(n_splits=2)\n",
    "grid_model=RandomizedSearchCV(KNeighborsClassifier(),cv=cv,param_distributions=grid,n_iter=20)"
   ]
  },
  {
   "cell_type": "code",
   "execution_count": 114,
   "metadata": {
    "scrolled": true
   },
   "outputs": [
    {
     "data": {
      "text/plain": [
       "RandomizedSearchCV(cv=KFold(n_splits=2, random_state=None, shuffle=False),\n",
       "                   estimator=KNeighborsClassifier(), n_iter=20,\n",
       "                   param_distributions={'algorithm': ['auto', 'ball_tree',\n",
       "                                                      'kd_tree', 'brute'],\n",
       "                                        'leaf_size': [30, 35, 40, 45, 50, 55,\n",
       "                                                      60, 65, 70],\n",
       "                                        'metric': ['minkowski', 'euclidean',\n",
       "                                                   'manhattan'],\n",
       "                                        'n_neighbors': [5, 8, 10, 13, 15, 18,\n",
       "                                                        20, 22, 24],\n",
       "                                        'p': [2, 4, 6, 8, 10, 12],\n",
       "                                        'weights': ['uniform', 'distance']})"
      ]
     },
     "execution_count": 114,
     "metadata": {},
     "output_type": "execute_result"
    }
   ],
   "source": [
    "grid_model.fit(x_train,y_train)"
   ]
  },
  {
   "cell_type": "code",
   "execution_count": 115,
   "metadata": {},
   "outputs": [
    {
     "data": {
      "text/plain": [
       "KNeighborsClassifier(leaf_size=45, metric='manhattan', n_neighbors=15, p=8,\n",
       "                     weights='distance')"
      ]
     },
     "execution_count": 115,
     "metadata": {},
     "output_type": "execute_result"
    }
   ],
   "source": [
    "grid_model.best_estimator_"
   ]
  },
  {
   "cell_type": "code",
   "execution_count": 116,
   "metadata": {},
   "outputs": [
    {
     "name": "stdout",
     "output_type": "stream",
     "text": [
      "0.9943734015345268\n"
     ]
    }
   ],
   "source": [
    "model=KNeighborsClassifier(leaf_size=45, metric='manhattan', n_neighbors=15, p=8,\n",
    "                     weights='distance')\n",
    "model.fit(x_train,y_train)\n",
    "pred=model.predict(x_test)\n",
    "print(accuracy_score(pred,y_test))\n"
   ]
  },
  {
   "cell_type": "code",
   "execution_count": 118,
   "metadata": {
    "scrolled": true
   },
   "outputs": [
    {
     "name": "stdout",
     "output_type": "stream",
     "text": [
      "Train Accuracy - : 1.000\n",
      "Test Accuracy - : 0.994\n"
     ]
    }
   ],
   "source": [
    "print (f'Train Accuracy - : {model.score(x_train, y_train):.3f}')\n",
    "print (f'Test Accuracy - : {model.score(x_test, y_test):.3f}')"
   ]
  },
  {
   "cell_type": "code",
   "execution_count": 119,
   "metadata": {},
   "outputs": [
    {
     "name": "stdout",
     "output_type": "stream",
     "text": [
      "              precision    recall  f1-score   support\n",
      "\n",
      "           0       0.99      1.00      1.00      1533\n",
      "           1       0.99      0.98      0.99       422\n",
      "\n",
      "    accuracy                           0.99      1955\n",
      "   macro avg       0.99      0.99      0.99      1955\n",
      "weighted avg       0.99      0.99      0.99      1955\n",
      "\n"
     ]
    }
   ],
   "source": [
    "print(classification_report(pred,y_test))"
   ]
  },
  {
   "cell_type": "code",
   "execution_count": 72,
   "metadata": {
    "scrolled": true
   },
   "outputs": [],
   "source": []
  },
  {
   "cell_type": "code",
   "execution_count": 74,
   "metadata": {},
   "outputs": [
    {
     "data": {
      "text/plain": [
       "0.9923273657289002"
      ]
     },
     "execution_count": 74,
     "metadata": {},
     "output_type": "execute_result"
    }
   ],
   "source": []
  },
  {
   "cell_type": "code",
   "execution_count": 75,
   "metadata": {},
   "outputs": [
    {
     "data": {
      "text/plain": [
       "array([[1528,    5],\n",
       "       [  10,  412]], dtype=int64)"
      ]
     },
     "execution_count": 75,
     "metadata": {},
     "output_type": "execute_result"
    }
   ],
   "source": [
    "confusion_matrix(pred,y_test)"
   ]
  },
  {
   "cell_type": "code",
   "execution_count": 77,
   "metadata": {},
   "outputs": [
    {
     "name": "stdout",
     "output_type": "stream",
     "text": [
      "              precision    recall  f1-score   support\n",
      "\n",
      "           0       0.99      1.00      1.00      1533\n",
      "           1       0.99      0.98      0.98       422\n",
      "\n",
      "    accuracy                           0.99      1955\n",
      "   macro avg       0.99      0.99      0.99      1955\n",
      "weighted avg       0.99      0.99      0.99      1955\n",
      "\n"
     ]
    }
   ],
   "source": []
  },
  {
   "cell_type": "code",
   "execution_count": null,
   "metadata": {},
   "outputs": [],
   "source": []
  },
  {
   "cell_type": "code",
   "execution_count": null,
   "metadata": {},
   "outputs": [],
   "source": []
  },
  {
   "cell_type": "code",
   "execution_count": 54,
   "metadata": {},
   "outputs": [],
   "source": [
    "#training_data_df=training_df[:4000]\n",
    "#testing_data_df=training_df[4000:]"
   ]
  },
  {
   "cell_type": "code",
   "execution_count": 55,
   "metadata": {},
   "outputs": [],
   "source": [
    "from sklearn.preprocessing import MinMaxScaler"
   ]
  },
  {
   "cell_type": "code",
   "execution_count": 13,
   "metadata": {},
   "outputs": [
    {
     "data": {
      "text/plain": [
       "array([[0.44019139, 0.13251121, 0.28001725, 0.13430296, 0.08570667],\n",
       "       [0.06937799, 0.4529148 , 0.        , 0.03295683, 0.27403005],\n",
       "       [0.23923445, 0.08565022, 0.        , 0.01408015, 0.00582895],\n",
       "       ...,\n",
       "       [0.14354067, 0.52959641, 0.        , 0.01377069, 0.35696178],\n",
       "       [0.18181818, 0.10941704, 0.        , 0.02326061, 0.01519825],\n",
       "       [0.28708134, 0.72959641, 0.        , 0.01892826, 0.57041137]])"
      ]
     },
     "execution_count": 13,
     "metadata": {},
     "output_type": "execute_result"
    }
   ],
   "source": [
    "scale=MinMaxScaler()\n",
    "scaled_training_data=scale.fit_transform(training_df)\n",
    "scaled_training_data"
   ]
  },
  {
   "cell_type": "code",
   "execution_count": 14,
   "metadata": {},
   "outputs": [],
   "source": [
    "training_data_df=scaled_training_data[:6000]\n",
    "testing_data_df=scaled_training_data[6000:]"
   ]
  },
  {
   "cell_type": "code",
   "execution_count": 15,
   "metadata": {},
   "outputs": [
    {
     "data": {
      "text/plain": [
       "(6000, 514)"
      ]
     },
     "execution_count": 15,
     "metadata": {},
     "output_type": "execute_result"
    }
   ],
   "source": [
    "len(training_data_df),len(testing_data_df)\n"
   ]
  },
  {
   "cell_type": "code",
   "execution_count": 16,
   "metadata": {},
   "outputs": [],
   "source": [
    "from sklearn.ensemble import RandomForestClassifier\n",
    "rf_classifier=RandomForestClassifier()"
   ]
  },
  {
   "cell_type": "markdown",
   "metadata": {},
   "source": [
    "## Hyper parameter tuning "
   ]
  },
  {
   "cell_type": "code",
   "execution_count": 17,
   "metadata": {},
   "outputs": [],
   "source": [
    "#no. of random trees to be formed\n",
    "n_estimators=[int(x) for x in np.linspace(start=10, stop=500, num=5)]\n",
    "# Number of features to consider at every split\n",
    "max_features = ['auto', 'sqrt', 'log2']\n",
    "# Maximum number of levels in tree\n",
    "max_depth = [2,5]\n",
    "# Minimum number of samples required to split a node\n",
    "min_samples_split = [2, 5]\n",
    "# Minimum number of samples required at each leaf node\n",
    "min_samples_leaf = [1, 2]\n",
    "# Method of selecting samples for training each tree\n",
    "bootstrap = [True, False]"
   ]
  },
  {
   "cell_type": "code",
   "execution_count": 18,
   "metadata": {},
   "outputs": [
    {
     "name": "stdout",
     "output_type": "stream",
     "text": [
      "{'n_estimators': [10, 132, 255, 377, 500], 'max_features': ['auto', 'sqrt', 'log2'], 'max_depth': [2, 5], 'min_samples_split': [2, 5], 'min_samples_leaf': [1, 2], 'bootstrap': [True, False]}\n"
     ]
    }
   ],
   "source": [
    "# Create the param grid\n",
    "param_grid = {'n_estimators': n_estimators,\n",
    "               'max_features': max_features,\n",
    "               'max_depth': max_depth,\n",
    "               'min_samples_split': min_samples_split,\n",
    "               'min_samples_leaf': min_samples_leaf,\n",
    "               'bootstrap': bootstrap}\n",
    "print(param_grid)"
   ]
  },
  {
   "cell_type": "code",
   "execution_count": 23,
   "metadata": {},
   "outputs": [],
   "source": [
    "from sklearn.ensemble import RandomForestClassifier\n",
    "from sklearn.neighbors import KNeighborsClassifier"
   ]
  },
  {
   "cell_type": "code",
   "execution_count": 24,
   "metadata": {},
   "outputs": [],
   "source": [
    "rf_clf=KNeighborsClassifier()"
   ]
  },
  {
   "cell_type": "code",
   "execution_count": 21,
   "metadata": {},
   "outputs": [],
   "source": []
  },
  {
   "cell_type": "code",
   "execution_count": 56,
   "metadata": {},
   "outputs": [
    {
     "data": {
      "text/plain": [
       "KNeighborsClassifier()"
      ]
     },
     "execution_count": 56,
     "metadata": {},
     "output_type": "execute_result"
    }
   ],
   "source": [
    "rf_clf.fit(training_data_df, training_target_df)"
   ]
  },
  {
   "cell_type": "code",
   "execution_count": null,
   "metadata": {},
   "outputs": [],
   "source": []
  },
  {
   "cell_type": "code",
   "execution_count": 57,
   "metadata": {},
   "outputs": [
    {
     "name": "stdout",
     "output_type": "stream",
     "text": [
      "Train Accuracy - : 0.995\n",
      "Test Accuracy - : 0.986\n"
     ]
    }
   ],
   "source": [
    "    print (f'Train Accuracy - : {rf_clf.score(training_data_df, training_target_df):.3f}')\n",
    "    print (f'Test Accuracy - : {rf_clf.score(testing_data_df, testing_target_df):.3f}')"
   ]
  },
  {
   "cell_type": "code",
   "execution_count": null,
   "metadata": {},
   "outputs": [],
   "source": []
  },
  {
   "cell_type": "code",
   "execution_count": 28,
   "metadata": {},
   "outputs": [],
   "source": [
    "from sklearn.metrics import confusion_matrix"
   ]
  },
  {
   "cell_type": "code",
   "execution_count": 29,
   "metadata": {},
   "outputs": [
    {
     "ename": "NameError",
     "evalue": "name 'predicted' is not defined",
     "output_type": "error",
     "traceback": [
      "\u001b[1;31m---------------------------------------------------------------------------\u001b[0m",
      "\u001b[1;31mNameError\u001b[0m                                 Traceback (most recent call last)",
      "\u001b[1;32m<ipython-input-29-a68cd3ae638d>\u001b[0m in \u001b[0;36m<module>\u001b[1;34m\u001b[0m\n\u001b[1;32m----> 1\u001b[1;33m \u001b[0mcnf_mat\u001b[0m\u001b[1;33m=\u001b[0m\u001b[0mconfusion_matrix\u001b[0m\u001b[1;33m(\u001b[0m\u001b[0mtesting_target_df\u001b[0m\u001b[1;33m,\u001b[0m \u001b[0mpredicted\u001b[0m\u001b[1;33m)\u001b[0m\u001b[1;33m\u001b[0m\u001b[1;33m\u001b[0m\u001b[0m\n\u001b[0m",
      "\u001b[1;31mNameError\u001b[0m: name 'predicted' is not defined"
     ]
    }
   ],
   "source": [
    "cnf_mat=confusion_matrix(testing_target_df, predicted)"
   ]
  },
  {
   "cell_type": "code",
   "execution_count": 44,
   "metadata": {},
   "outputs": [
    {
     "data": {
      "text/plain": [
       "array([[411,   6],\n",
       "       [  1,  96]], dtype=int64)"
      ]
     },
     "execution_count": 44,
     "metadata": {},
     "output_type": "execute_result"
    }
   ],
   "source": [
    "cnf_mat"
   ]
  },
  {
   "cell_type": "code",
   "execution_count": 45,
   "metadata": {},
   "outputs": [
    {
     "data": {
      "text/plain": [
       "Text(69.0, 0.5, 'Truth')"
      ]
     },
     "execution_count": 45,
     "metadata": {},
     "output_type": "execute_result"
    },
    {
     "data": {
      "image/png": "[encoded data removed]",
      "text/plain": [
       "<Figure size 720x504 with 2 Axes>"
      ]
     },
     "metadata": {
      "needs_background": "light"
     },
     "output_type": "display_data"
    }
   ],
   "source": [
    "import tensorflow as tf\n",
    "import seaborn as sn\n",
    "cm = tf.math.confusion_matrix(labels=testing_target_df,predictions=predicted)\n",
    "\n",
    "plt.figure(figsize = (10,7))\n",
    "sn.heatmap(cm, annot=True, fmt='d')\n",
    "plt.xlabel('Predicted')\n",
    "plt.ylabel('Truth')"
   ]
  },
  {
   "cell_type": "code",
   "execution_count": 48,
   "metadata": {},
   "outputs": [
    {
     "data": {
      "text/plain": [
       "0.964824120603015"
      ]
     },
     "execution_count": 48,
     "metadata": {},
     "output_type": "execute_result"
    }
   ],
   "source": [
    "f1_score=cnf_mat[1,1]/(cnf_mat[1,1] + ((cnf_mat[0,1]+cnf_mat[1,0])/2)) #manual calculation to find f1 score \n",
    "f1_score"
   ]
  },
  {
   "cell_type": "code",
   "execution_count": 53,
   "metadata": {},
   "outputs": [
    {
     "data": {
      "text/plain": [
       "(0.9411764705882353, 0.9896907216494846, 0.964824120603015)"
      ]
     },
     "execution_count": 53,
     "metadata": {},
     "output_type": "execute_result"
    }
   ],
   "source": [
    "from sklearn.metrics import precision_score, recall_score, f1_score\n",
    "precision=precision_score(testing_target_df, predicted)\n",
    "recall=recall_score(testing_target_df, predicted)\n",
    "f1=f1_score(testing_target_df, predicted)\n",
    "precision,recall,f1"
   ]
  },
  {
   "cell_type": "code",
   "execution_count": null,
   "metadata": {},
   "outputs": [],
   "source": []
  }
 ],
 "metadata": {
  "kernelspec": {
   "display_name": "Python 3",
   "language": "python",
   "name": "python3"
  },
  "language_info": {
   "codemirror_mode": {
    "name": "ipython",
    "version": 3
   },
   "file_extension": ".py",
   "mimetype": "text/x-python",
   "name": "python",
   "nbconvert_exporter": "python",
   "pygments_lexer": "ipython3",
   "version": "3.9.1"
  }
 },
 "nbformat": 4,
 "nbformat_minor": 4
}
