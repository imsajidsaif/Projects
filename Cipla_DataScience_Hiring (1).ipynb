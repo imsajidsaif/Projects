{
  "nbformat": 4,
  "nbformat_minor": 0,
  "metadata": {
    "colab": {
      "name": "Cipla_DataScience_Hiring.ipynb",
      "provenance": [],
      "collapsed_sections": []
    },
    "kernelspec": {
      "display_name": "Python 3",
      "language": "python",
      "name": "python3"
    },
    "language_info": {
      "codemirror_mode": {
        "name": "ipython",
        "version": 3
      },
      "file_extension": ".py",
      "mimetype": "text/x-python",
      "name": "python",
      "nbconvert_exporter": "python",
      "pygments_lexer": "ipython3",
      "version": "3.7.4"
    }
  },
  "cells": [
    {
      "cell_type": "markdown",
      "metadata": {
        "id": "C35sxDbXCbx0"
      },
      "source": [
        "                                        Predict the loan sanction amount\n"
      ]
    },
    {
      "cell_type": "markdown",
      "metadata": {
        "id": "E87CqmBiCbx8"
      },
      "source": [
        "                                Cipla Hiring : Data Scientist  (Assignment)"
      ]
    },
    {
      "cell_type": "code",
      "metadata": {
        "id": "nue6R3L6Cbx9"
      },
      "source": [
        ""
      ],
      "execution_count": null,
      "outputs": []
    },
    {
      "cell_type": "code",
      "metadata": {
        "id": "J9rixM8QCbx_"
      },
      "source": [
        ""
      ],
      "execution_count": null,
      "outputs": []
    },
    {
      "cell_type": "code",
      "metadata": {
        "id": "2aHqO4C8Cbx_"
      },
      "source": [
        ""
      ],
      "execution_count": null,
      "outputs": []
    },
    {
      "cell_type": "code",
      "metadata": {
        "colab": {
          "base_uri": "https://localhost:8080/"
        },
        "id": "ZOrZ0ayWCbyA",
        "scrolled": true,
        "outputId": "299116ac-0899-4ace-d047-c7833cf67813"
      },
      "source": [
        "try:\n",
        "    import os\n",
        "    from sklearn.linear_model import LinearRegression\n",
        "    from sklearn.svm import SVR\n",
        "    \n",
        "    from sklearn.ensemble import AdaBoostRegressor,BaggingRegressor,ExtraTreesRegressor,GradientBoostingRegressor\n",
        "    from sklearn.neighbors import KNeighborsRegressor\n",
        "    from sklearn.tree import DecisionTreeRegressor\n",
        "    from sklearn.ensemble import RandomForestRegressor\n",
        "    from lightgbm import LGBMRegressor\n",
        "    from catboost import CatBoostRegressor\n",
        "    import numpy as np\n",
        "    from sklearn.model_selection import RandomizedSearchCV,GridSearchCV,KFold,train_test_split\n",
        "    import warnings\n",
        "    warnings.filterwarnings('ignore')\n",
        "    from sklearn.metrics import roc_auc_score\n",
        "    import statsmodels.api as sm\n",
        "    from sklearn.preprocessing import LabelEncoder\n",
        "    import numpy as np\n",
        "    import matplotlib.pyplot as plt\n",
        "    %matplotlib inline\n",
        "    import seaborn as sns\n",
        "    sns.set_style('whitegrid')\n",
        "    plt.style.use('seaborn-deep')\n",
        "    plt.style.use('fivethirtyeight')\n",
        "    plt.rcParams['font.family'] = 'sans-serif'\n",
        "    plt.rcParams['font.serif'] = 'Ubuntu'\n",
        "    plt.rcParams['font.monospace'] = 'Ubuntu Mono'\n",
        "    plt.rcParams['font.size'] = 10\n",
        "    plt.rcParams['axes.labelsize'] = 12\n",
        "    plt.rcParams['axes.titlesize'] = 12\n",
        "    plt.rcParams['xtick.labelsize'] = 8\n",
        "    plt.rcParams['ytick.labelsize'] = 8\n",
        "    plt.rcParams['legend.fontsize'] = 12\n",
        "    plt.rcParams['figure.titlesize'] = 14\n",
        "    plt.rcParams['figure.figsize'] = (12, 8)\n",
        "    import warnings\n",
        "    warnings.filterwarnings('ignore')\n",
        "    import sklearn.base as skb\n",
        "    import sklearn.metrics as skm\n",
        "    import sklearn.model_selection as skms\n",
        "    import sklearn.preprocessing as skp\n",
        "    import sklearn.utils as sku\n",
        "    import sklearn.linear_model as sklm\n",
        "#     from sklearn.impute import KNNImputer\n",
        "    import sklearn.neighbors as skn\n",
        "    import sklearn.ensemble as ske\n",
        "    import catboost as cb\n",
        "    import scipy.stats as sstats\n",
        "    import pandas as pd\n",
        "    import random\n",
        "    import tabula\n",
        "    seed = 12\n",
        "    np.random.seed(seed)\n",
        "    from datetime import date\n",
        "    print(\"Hey Great, all libraries dependencies are successfully Installed.\")\n",
        "except Exception as e:\n",
        "    print(\"Message:  Oh! Library {} is not installed or having same issues, Don't worry..\\n\\n \".format(str(str(e).split()[-1]).replace(\"'\",\"\").replace(\"'\",\"\")))\n",
        "    try:\n",
        "        with open(\"Not_installed_libraries.txt\",'w') as file:\n",
        "            file.write(str(str(e).split()[-1]).replace(\"'\",\"\").replace(\"'\",\"\"))\n",
        "        print(\"{} Installing please wait...\".format(str(str(e).split()[-1]).replace(\"'\",\"\").replace(\"'\",\"\")))\n",
        "        !pip install -r Not_installed_libraries.txt\n",
        "    except Exception as e1:\n",
        "        print(str(e1),\"may be internet is not connecting.\")\n",
        "# run this cell till got \"Hey Great, all libraries dependencies are successfully Installed.\" message"
      ],
      "execution_count": 18,
      "outputs": [
        {
          "output_type": "stream",
          "text": [
            "Hey Great, all libraries dependencies are successfully Installed.\n"
          ],
          "name": "stdout"
        }
      ]
    },
    {
      "cell_type": "code",
      "metadata": {
        "id": "6rWmQnKwCbyF"
      },
      "source": [
        ""
      ],
      "execution_count": 18,
      "outputs": []
    },
    {
      "cell_type": "code",
      "metadata": {
        "id": "8UIkThq0CbyG"
      },
      "source": [
        ""
      ],
      "execution_count": 18,
      "outputs": []
    },
    {
      "cell_type": "markdown",
      "metadata": {
        "id": "rN4lhFtqCbyH"
      },
      "source": [
        "# Data Importing  from localhost using Class-Function methods."
      ]
    },
    {
      "cell_type": "code",
      "metadata": {
        "id": "ve1vmQInCbyI"
      },
      "source": [
        "# class file_importing():\n",
        "#     import os\n",
        "#     try:\n",
        "#         def file_importing(self,file_path):\n",
        "#             if \"xlsx\" in str(file_path) or \"xls\" in str(file_path):\n",
        "#                 df=pd.read_excel(file_path)\n",
        "#                 return df\n",
        "#             elif \"csv\" in str(file_path):\n",
        "#                 df=pd.read_csv(file_path)\n",
        "#                 return df\n",
        "#             else:\n",
        "#                 print(\"Hey! You are not using any file\")\n",
        "            \n",
        "#     except Exception as ex:\n",
        "#         print(\"Error Excetion type: \",str(ex))\n",
        "# import pandas as pd\n",
        "# entries = os.listdir()\n",
        "# with os.scandir(r'test') as entries:\n",
        "#     for entry in entries:\n",
        "#         test=file_importing().file_importing(entry)\n",
        "# with os.scandir('train') as entries:\n",
        "#     for entry in entries:\n",
        "#         train=file_importing().file_importing(entry)\n",
        "        \n",
        "train=pd.read_csv(\"train.csv\")\n",
        "test=pd.read_csv(\"test.csv\")"
      ],
      "execution_count": 19,
      "outputs": []
    },
    {
      "cell_type": "code",
      "metadata": {
        "id": "MnAqiuJ9CbyJ"
      },
      "source": [
        ""
      ],
      "execution_count": 19,
      "outputs": []
    },
    {
      "cell_type": "code",
      "metadata": {
        "id": "Xycr-PyoCbyK"
      },
      "source": [
        ""
      ],
      "execution_count": 19,
      "outputs": []
    },
    {
      "cell_type": "markdown",
      "metadata": {
        "id": "d5ZtTmMuCbyK"
      },
      "source": [
        "# method : seprate the data into numerical and categorical form"
      ]
    },
    {
      "cell_type": "code",
      "metadata": {
        "id": "QvB1hpDwCbyL"
      },
      "source": [
        "def split_data_into_cat_and_num(dataframe):\n",
        "    numerical_data=dataframe.select_dtypes(include=np.number)\n",
        "    categorical_data=dataframe.select_dtypes(exclude=np.number)\n",
        "    return numerical_data,categorical_data"
      ],
      "execution_count": 20,
      "outputs": []
    },
    {
      "cell_type": "markdown",
      "metadata": {
        "id": "AGBXZDh9CbyM"
      },
      "source": [
        "# Method: Finding co-related columns in which are co-related more than 0.70 "
      ]
    },
    {
      "cell_type": "code",
      "metadata": {
        "id": "qU8LDgrHCbyN"
      },
      "source": [
        "def generate_correlated_columns(dataframe,thres):\n",
        "    column_having_correlation=set()\n",
        "    cor_relation_matrix=numerical_data.corr()\n",
        "    for i in range(len(cor_relation_matrix.columns)):\n",
        "        for j in range(i):\n",
        "            if cor_relation_matrix.iloc[i,j]>thres:\n",
        "                column_having_correlation.add(cor_relation_matrix.columns[i])\n",
        "    return column_having_correlation"
      ],
      "execution_count": 21,
      "outputs": []
    },
    {
      "cell_type": "markdown",
      "metadata": {
        "id": "cpgnfYgGCbyO"
      },
      "source": [
        "#  Required Methods for data pre-processing."
      ]
    },
    {
      "cell_type": "code",
      "metadata": {
        "id": "dCj_oylYCbyP"
      },
      "source": [
        "# remove the skewed data points\n",
        "def reduce_skewness(dataframe):\n",
        "    for i in range(len(dataframe.columns)):\n",
        "        if dataframe[dataframe.columns[i]].skew()>0:\n",
        "            dataframe[dataframe.columns[i]]=dataframe[dataframe.columns[i]].map(lambda i: np.log(i) if i > 0 else 0) \n",
        "        else:\n",
        "            continue\n",
        "\n",
        "    return dataframe\n",
        "#checking outliers of each features by using box-plot\n",
        "def Outliers_visualization_using_boxplot(dataframe,column_name):\n",
        "    fig = plt.figure(figsize=(16, 6))\n",
        "    box_plot=plt.boxplot(dataframe[column_name])\n",
        "    title=plt.title(str(column_name))\n",
        "    legend=plt.legend()\n",
        "    return box_plot,title,legend\n",
        "# creating dummy data of categorical features\n",
        "def create_dummies_data(dataframe,feature_list):\n",
        "    dummies_data=pd.get_dummies(dataframe[feature_list],dummy_na=True)\n",
        "    return dummies_data\n",
        "#Checking frequancies in_each feature\n",
        "def check_frequancies_in_each_feature(dataframe,features_list):\n",
        "    for i in range(len(features_list)):\n",
        "        print(\"feature name {} having frequencies \\n\".format(dataframe.columns[i]),dataframe[dataframe.columns[i]].value_counts(),\"\\n\\n\")\n",
        "\n",
        "# Encoding the features values from word(char) to numeric vector by using Label_Encoder Scikit Library\n",
        "def genrate_numeric_encoding(dataframe,feature_name):\n",
        "    Encoder_obj=LabelEncoder()\n",
        "    encoded_feature=Encoder_obj.fit_transform(dataframe[feature_name].astype('str'))\n",
        "    return encoded_feature"
      ],
      "execution_count": 22,
      "outputs": []
    },
    {
      "cell_type": "code",
      "metadata": {
        "id": "kPhzpJKqaj4u"
      },
      "source": [
        "\n",
        "\n",
        "test['Co-Applicant']=test['Co-Applicant'].replace(\"?\",np.nan)"
      ],
      "execution_count": 23,
      "outputs": []
    },
    {
      "cell_type": "code",
      "metadata": {
        "id": "yuruKvJMb16Z"
      },
      "source": [
        "test['Property Price'].value_counts()\n",
        "\n",
        "\n",
        "test['Property Price']=test['Property Price'].replace(\"?\",np.nan)"
      ],
      "execution_count": 24,
      "outputs": []
    },
    {
      "cell_type": "code",
      "metadata": {
        "id": "MaVrUhS9dhYw"
      },
      "source": [
        "test['Property Price']=test['Property Price'].astype('float')\n",
        "test['Co-Applicant']=test['Co-Applicant'].astype('float')"
      ],
      "execution_count": 25,
      "outputs": []
    },
    {
      "cell_type": "code",
      "metadata": {
        "id": "MuYTmtLxCbyQ"
      },
      "source": [
        "\n",
        "numerical_data,categorical_data=split_data_into_cat_and_num(train)\n",
        "\n",
        "numerical_data_test,categorical_data_test=split_data_into_cat_and_num(test)\n"
      ],
      "execution_count": 26,
      "outputs": []
    },
    {
      "cell_type": "code",
      "metadata": {
        "id": "nSMamr4iaWYV"
      },
      "source": [
        ""
      ],
      "execution_count": 26,
      "outputs": []
    },
    {
      "cell_type": "code",
      "metadata": {
        "colab": {
          "base_uri": "https://localhost:8080/"
        },
        "id": "6WzfQojsaAkj",
        "outputId": "aa5e7651-1ee5-445d-c7f1-2ef23b156a5d"
      },
      "source": [
        "numerical_data.columns,numerical_data_test.columns"
      ],
      "execution_count": 27,
      "outputs": [
        {
          "output_type": "execute_result",
          "data": {
            "text/plain": [
              "(Index(['Age', 'Income (USD)', 'Loan Amount Request (USD)',\n",
              "        'Current Loan Expenses (USD)', 'Dependents', 'Credit Score',\n",
              "        'No. of Defaults', 'Property ID', 'Property Age', 'Property Type',\n",
              "        'Co-Applicant', 'Property Price', 'Loan Sanction Amount (USD)'],\n",
              "       dtype='object'),\n",
              " Index(['Age', 'Income (USD)', 'Loan Amount Request (USD)',\n",
              "        'Current Loan Expenses (USD)', 'Dependents', 'Credit Score',\n",
              "        'No. of Defaults', 'Property ID', 'Property Age', 'Property Type',\n",
              "        'Co-Applicant', 'Property Price'],\n",
              "       dtype='object'))"
            ]
          },
          "metadata": {
            "tags": []
          },
          "execution_count": 27
        }
      ]
    },
    {
      "cell_type": "code",
      "metadata": {
        "colab": {
          "base_uri": "https://localhost:8080/"
        },
        "id": "zJYK4Lt2CbyR",
        "outputId": "66f0a9e4-2310-473b-8c85-3f781dc9814d"
      },
      "source": [
        "categorical_data.shape,numerical_data.shape #training data "
      ],
      "execution_count": 28,
      "outputs": [
        {
          "output_type": "execute_result",
          "data": {
            "text/plain": [
              "((30000, 11), (30000, 13))"
            ]
          },
          "metadata": {
            "tags": []
          },
          "execution_count": 28
        }
      ]
    },
    {
      "cell_type": "code",
      "metadata": {
        "colab": {
          "base_uri": "https://localhost:8080/"
        },
        "id": "lq0ZQ4w1CbyS",
        "outputId": "945fa592-4949-4a52-a9f4-6180d46d0173"
      },
      "source": [
        "numerical_data_test.shape,categorical_data_test.shape #testing data"
      ],
      "execution_count": 29,
      "outputs": [
        {
          "output_type": "execute_result",
          "data": {
            "text/plain": [
              "((20000, 12), (20000, 11))"
            ]
          },
          "metadata": {
            "tags": []
          },
          "execution_count": 29
        }
      ]
    },
    {
      "cell_type": "code",
      "metadata": {
        "colab": {
          "base_uri": "https://localhost:8080/"
        },
        "id": "unOjQ1CKCbyT",
        "outputId": "2f4947d7-bd3e-4c6f-ad51-ce62a20207c3"
      },
      "source": [
        "#testing data % over all date\n",
        "print(\"{}%\".format(numerical_data_test.shape[0]/(numerical_data_test.shape[0]+numerical_data.shape[0])*100))"
      ],
      "execution_count": 30,
      "outputs": [
        {
          "output_type": "stream",
          "text": [
            "40.0%\n"
          ],
          "name": "stdout"
        }
      ]
    },
    {
      "cell_type": "code",
      "metadata": {
        "colab": {
          "base_uri": "https://localhost:8080/"
        },
        "id": "rZiBQkjjCbyT",
        "outputId": "bc039cd8-50ca-44bc-f3d4-9b19066b358d"
      },
      "source": [
        "#training data % over all date\n",
        "print(\"{}%\".format((numerical_data.shape[0])/(numerical_data_test.shape[0]+numerical_data.shape[0])*100))"
      ],
      "execution_count": 31,
      "outputs": [
        {
          "output_type": "stream",
          "text": [
            "60.0%\n"
          ],
          "name": "stdout"
        }
      ]
    },
    {
      "cell_type": "code",
      "metadata": {
        "colab": {
          "base_uri": "https://localhost:8080/",
          "height": 275
        },
        "id": "maDRMqBOCbyU",
        "outputId": "a0aa39fd-aee9-410d-c74d-6bb01ebcf694"
      },
      "source": [
        "numerical_data.head(5)"
      ],
      "execution_count": 32,
      "outputs": [
        {
          "output_type": "execute_result",
          "data": {
            "text/html": [
              "<div>\n",
              "<style scoped>\n",
              "    .dataframe tbody tr th:only-of-type {\n",
              "        vertical-align: middle;\n",
              "    }\n",
              "\n",
              "    .dataframe tbody tr th {\n",
              "        vertical-align: top;\n",
              "    }\n",
              "\n",
              "    .dataframe thead th {\n",
              "        text-align: right;\n",
              "    }\n",
              "</style>\n",
              "<table border=\"1\" class=\"dataframe\">\n",
              "  <thead>\n",
              "    <tr style=\"text-align: right;\">\n",
              "      <th></th>\n",
              "      <th>Age</th>\n",
              "      <th>Income (USD)</th>\n",
              "      <th>Loan Amount Request (USD)</th>\n",
              "      <th>Current Loan Expenses (USD)</th>\n",
              "      <th>Dependents</th>\n",
              "      <th>Credit Score</th>\n",
              "      <th>No. of Defaults</th>\n",
              "      <th>Property ID</th>\n",
              "      <th>Property Age</th>\n",
              "      <th>Property Type</th>\n",
              "      <th>Co-Applicant</th>\n",
              "      <th>Property Price</th>\n",
              "      <th>Loan Sanction Amount (USD)</th>\n",
              "    </tr>\n",
              "  </thead>\n",
              "  <tbody>\n",
              "    <tr>\n",
              "      <th>0</th>\n",
              "      <td>56</td>\n",
              "      <td>1933.05</td>\n",
              "      <td>72809.58</td>\n",
              "      <td>241.08</td>\n",
              "      <td>3.0</td>\n",
              "      <td>809.44</td>\n",
              "      <td>0</td>\n",
              "      <td>746</td>\n",
              "      <td>1933.05</td>\n",
              "      <td>4</td>\n",
              "      <td>1</td>\n",
              "      <td>119933.46</td>\n",
              "      <td>54607.18</td>\n",
              "    </tr>\n",
              "    <tr>\n",
              "      <th>1</th>\n",
              "      <td>32</td>\n",
              "      <td>4952.91</td>\n",
              "      <td>46837.47</td>\n",
              "      <td>495.81</td>\n",
              "      <td>1.0</td>\n",
              "      <td>780.40</td>\n",
              "      <td>0</td>\n",
              "      <td>608</td>\n",
              "      <td>4952.91</td>\n",
              "      <td>2</td>\n",
              "      <td>1</td>\n",
              "      <td>54791.00</td>\n",
              "      <td>37469.98</td>\n",
              "    </tr>\n",
              "    <tr>\n",
              "      <th>2</th>\n",
              "      <td>65</td>\n",
              "      <td>988.19</td>\n",
              "      <td>45593.04</td>\n",
              "      <td>171.95</td>\n",
              "      <td>1.0</td>\n",
              "      <td>833.15</td>\n",
              "      <td>0</td>\n",
              "      <td>546</td>\n",
              "      <td>988.19</td>\n",
              "      <td>2</td>\n",
              "      <td>0</td>\n",
              "      <td>72440.58</td>\n",
              "      <td>36474.43</td>\n",
              "    </tr>\n",
              "    <tr>\n",
              "      <th>3</th>\n",
              "      <td>65</td>\n",
              "      <td>NaN</td>\n",
              "      <td>80057.92</td>\n",
              "      <td>298.54</td>\n",
              "      <td>2.0</td>\n",
              "      <td>832.70</td>\n",
              "      <td>1</td>\n",
              "      <td>890</td>\n",
              "      <td>NaN</td>\n",
              "      <td>2</td>\n",
              "      <td>1</td>\n",
              "      <td>121441.51</td>\n",
              "      <td>56040.54</td>\n",
              "    </tr>\n",
              "    <tr>\n",
              "      <th>4</th>\n",
              "      <td>31</td>\n",
              "      <td>2614.77</td>\n",
              "      <td>113858.89</td>\n",
              "      <td>491.41</td>\n",
              "      <td>NaN</td>\n",
              "      <td>745.55</td>\n",
              "      <td>1</td>\n",
              "      <td>715</td>\n",
              "      <td>2614.77</td>\n",
              "      <td>4</td>\n",
              "      <td>1</td>\n",
              "      <td>208567.91</td>\n",
              "      <td>74008.28</td>\n",
              "    </tr>\n",
              "  </tbody>\n",
              "</table>\n",
              "</div>"
            ],
            "text/plain": [
              "   Age  Income (USD)  ...  Property Price  Loan Sanction Amount (USD)\n",
              "0   56       1933.05  ...       119933.46                    54607.18\n",
              "1   32       4952.91  ...        54791.00                    37469.98\n",
              "2   65        988.19  ...        72440.58                    36474.43\n",
              "3   65           NaN  ...       121441.51                    56040.54\n",
              "4   31       2614.77  ...       208567.91                    74008.28\n",
              "\n",
              "[5 rows x 13 columns]"
            ]
          },
          "metadata": {
            "tags": []
          },
          "execution_count": 32
        }
      ]
    },
    {
      "cell_type": "code",
      "metadata": {
        "colab": {
          "base_uri": "https://localhost:8080/",
          "height": 275
        },
        "id": "-zUSJmvACbyU",
        "outputId": "fabcb7f3-b878-4bf6-de6e-e32f0fadb7f3"
      },
      "source": [
        "numerical_data_test.head()"
      ],
      "execution_count": 33,
      "outputs": [
        {
          "output_type": "execute_result",
          "data": {
            "text/html": [
              "<div>\n",
              "<style scoped>\n",
              "    .dataframe tbody tr th:only-of-type {\n",
              "        vertical-align: middle;\n",
              "    }\n",
              "\n",
              "    .dataframe tbody tr th {\n",
              "        vertical-align: top;\n",
              "    }\n",
              "\n",
              "    .dataframe thead th {\n",
              "        text-align: right;\n",
              "    }\n",
              "</style>\n",
              "<table border=\"1\" class=\"dataframe\">\n",
              "  <thead>\n",
              "    <tr style=\"text-align: right;\">\n",
              "      <th></th>\n",
              "      <th>Age</th>\n",
              "      <th>Income (USD)</th>\n",
              "      <th>Loan Amount Request (USD)</th>\n",
              "      <th>Current Loan Expenses (USD)</th>\n",
              "      <th>Dependents</th>\n",
              "      <th>Credit Score</th>\n",
              "      <th>No. of Defaults</th>\n",
              "      <th>Property ID</th>\n",
              "      <th>Property Age</th>\n",
              "      <th>Property Type</th>\n",
              "      <th>Co-Applicant</th>\n",
              "      <th>Property Price</th>\n",
              "    </tr>\n",
              "  </thead>\n",
              "  <tbody>\n",
              "    <tr>\n",
              "      <th>0</th>\n",
              "      <td>47</td>\n",
              "      <td>3472.69</td>\n",
              "      <td>137088.98</td>\n",
              "      <td>396.72</td>\n",
              "      <td>2.0</td>\n",
              "      <td>799.14</td>\n",
              "      <td>0</td>\n",
              "      <td>843</td>\n",
              "      <td>3472.69</td>\n",
              "      <td>2</td>\n",
              "      <td>1.0</td>\n",
              "      <td>236644.50</td>\n",
              "    </tr>\n",
              "    <tr>\n",
              "      <th>1</th>\n",
              "      <td>57</td>\n",
              "      <td>1184.84</td>\n",
              "      <td>104771.59</td>\n",
              "      <td>463.76</td>\n",
              "      <td>2.0</td>\n",
              "      <td>833.31</td>\n",
              "      <td>0</td>\n",
              "      <td>22</td>\n",
              "      <td>1184.84</td>\n",
              "      <td>1</td>\n",
              "      <td>1.0</td>\n",
              "      <td>142357.30</td>\n",
              "    </tr>\n",
              "    <tr>\n",
              "      <th>2</th>\n",
              "      <td>52</td>\n",
              "      <td>1266.27</td>\n",
              "      <td>176684.91</td>\n",
              "      <td>493.15</td>\n",
              "      <td>3.0</td>\n",
              "      <td>627.44</td>\n",
              "      <td>0</td>\n",
              "      <td>1</td>\n",
              "      <td>1266.27</td>\n",
              "      <td>1</td>\n",
              "      <td>1.0</td>\n",
              "      <td>300991.24</td>\n",
              "    </tr>\n",
              "    <tr>\n",
              "      <th>3</th>\n",
              "      <td>65</td>\n",
              "      <td>1369.72</td>\n",
              "      <td>97009.18</td>\n",
              "      <td>446.15</td>\n",
              "      <td>2.0</td>\n",
              "      <td>833.20</td>\n",
              "      <td>0</td>\n",
              "      <td>730</td>\n",
              "      <td>1369.72</td>\n",
              "      <td>1</td>\n",
              "      <td>0.0</td>\n",
              "      <td>125612.10</td>\n",
              "    </tr>\n",
              "    <tr>\n",
              "      <th>4</th>\n",
              "      <td>60</td>\n",
              "      <td>1939.23</td>\n",
              "      <td>109980.00</td>\n",
              "      <td>370.10</td>\n",
              "      <td>NaN</td>\n",
              "      <td>NaN</td>\n",
              "      <td>0</td>\n",
              "      <td>356</td>\n",
              "      <td>1939.23</td>\n",
              "      <td>4</td>\n",
              "      <td>1.0</td>\n",
              "      <td>180908.00</td>\n",
              "    </tr>\n",
              "  </tbody>\n",
              "</table>\n",
              "</div>"
            ],
            "text/plain": [
              "   Age  Income (USD)  ...  Co-Applicant  Property Price\n",
              "0   47       3472.69  ...           1.0       236644.50\n",
              "1   57       1184.84  ...           1.0       142357.30\n",
              "2   52       1266.27  ...           1.0       300991.24\n",
              "3   65       1369.72  ...           0.0       125612.10\n",
              "4   60       1939.23  ...           1.0       180908.00\n",
              "\n",
              "[5 rows x 12 columns]"
            ]
          },
          "metadata": {
            "tags": []
          },
          "execution_count": 33
        }
      ]
    },
    {
      "cell_type": "code",
      "metadata": {
        "colab": {
          "base_uri": "https://localhost:8080/",
          "height": 326
        },
        "id": "VdEl1zrHCbyV",
        "outputId": "00b93896-27a8-443b-b82e-b6753c3c49a7"
      },
      "source": [
        "categorical_data_test.head()"
      ],
      "execution_count": 34,
      "outputs": [
        {
          "output_type": "execute_result",
          "data": {
            "text/html": [
              "<div>\n",
              "<style scoped>\n",
              "    .dataframe tbody tr th:only-of-type {\n",
              "        vertical-align: middle;\n",
              "    }\n",
              "\n",
              "    .dataframe tbody tr th {\n",
              "        vertical-align: top;\n",
              "    }\n",
              "\n",
              "    .dataframe thead th {\n",
              "        text-align: right;\n",
              "    }\n",
              "</style>\n",
              "<table border=\"1\" class=\"dataframe\">\n",
              "  <thead>\n",
              "    <tr style=\"text-align: right;\">\n",
              "      <th></th>\n",
              "      <th>Customer ID</th>\n",
              "      <th>Name</th>\n",
              "      <th>Gender</th>\n",
              "      <th>Income Stability</th>\n",
              "      <th>Profession</th>\n",
              "      <th>Type of Employment</th>\n",
              "      <th>Location</th>\n",
              "      <th>Expense Type 1</th>\n",
              "      <th>Expense Type 2</th>\n",
              "      <th>Has Active Credit Card</th>\n",
              "      <th>Property Location</th>\n",
              "    </tr>\n",
              "  </thead>\n",
              "  <tbody>\n",
              "    <tr>\n",
              "      <th>0</th>\n",
              "      <td>C-26247</td>\n",
              "      <td>Tandra Olszewski</td>\n",
              "      <td>F</td>\n",
              "      <td>Low</td>\n",
              "      <td>Commercial associate</td>\n",
              "      <td>Managers</td>\n",
              "      <td>Semi-Urban</td>\n",
              "      <td>N</td>\n",
              "      <td>N</td>\n",
              "      <td>Unpossessed</td>\n",
              "      <td>Urban</td>\n",
              "    </tr>\n",
              "    <tr>\n",
              "      <th>1</th>\n",
              "      <td>C-35067</td>\n",
              "      <td>Jeannette Cha</td>\n",
              "      <td>F</td>\n",
              "      <td>Low</td>\n",
              "      <td>Working</td>\n",
              "      <td>Sales staff</td>\n",
              "      <td>Rural</td>\n",
              "      <td>Y</td>\n",
              "      <td>Y</td>\n",
              "      <td>Unpossessed</td>\n",
              "      <td>Rural</td>\n",
              "    </tr>\n",
              "    <tr>\n",
              "      <th>2</th>\n",
              "      <td>C-34590</td>\n",
              "      <td>Keva Godfrey</td>\n",
              "      <td>F</td>\n",
              "      <td>Low</td>\n",
              "      <td>Working</td>\n",
              "      <td>NaN</td>\n",
              "      <td>Semi-Urban</td>\n",
              "      <td>N</td>\n",
              "      <td>Y</td>\n",
              "      <td>Unpossessed</td>\n",
              "      <td>Urban</td>\n",
              "    </tr>\n",
              "    <tr>\n",
              "      <th>3</th>\n",
              "      <td>C-16668</td>\n",
              "      <td>Elva Sackett</td>\n",
              "      <td>M</td>\n",
              "      <td>High</td>\n",
              "      <td>Pensioner</td>\n",
              "      <td>NaN</td>\n",
              "      <td>Rural</td>\n",
              "      <td>N</td>\n",
              "      <td>Y</td>\n",
              "      <td>Inactive</td>\n",
              "      <td>Semi-Urban</td>\n",
              "    </tr>\n",
              "    <tr>\n",
              "      <th>4</th>\n",
              "      <td>C-12196</td>\n",
              "      <td>Sade Constable</td>\n",
              "      <td>F</td>\n",
              "      <td>High</td>\n",
              "      <td>Pensioner</td>\n",
              "      <td>NaN</td>\n",
              "      <td>Urban</td>\n",
              "      <td>N</td>\n",
              "      <td>N</td>\n",
              "      <td>NaN</td>\n",
              "      <td>Semi-Urban</td>\n",
              "    </tr>\n",
              "  </tbody>\n",
              "</table>\n",
              "</div>"
            ],
            "text/plain": [
              "  Customer ID              Name  ... Has Active Credit Card Property Location\n",
              "0     C-26247  Tandra Olszewski  ...            Unpossessed             Urban\n",
              "1     C-35067     Jeannette Cha  ...            Unpossessed             Rural\n",
              "2     C-34590      Keva Godfrey  ...            Unpossessed             Urban\n",
              "3     C-16668      Elva Sackett  ...               Inactive        Semi-Urban\n",
              "4     C-12196    Sade Constable  ...                    NaN        Semi-Urban\n",
              "\n",
              "[5 rows x 11 columns]"
            ]
          },
          "metadata": {
            "tags": []
          },
          "execution_count": 34
        }
      ]
    },
    {
      "cell_type": "markdown",
      "metadata": {
        "id": "wOCoraNXCbyV"
      },
      "source": [
        "# data preprocessing for numerical data -> training and testing data"
      ]
    },
    {
      "cell_type": "code",
      "metadata": {
        "colab": {
          "base_uri": "https://localhost:8080/",
          "height": 490
        },
        "id": "O0HY8WQaCbyW",
        "scrolled": true,
        "outputId": "6357ec25-d6e6-4649-9179-a43fcd9ed903"
      },
      "source": [
        "numerical_data[numerical_data.isnull().any(axis=1)]"
      ],
      "execution_count": 35,
      "outputs": [
        {
          "output_type": "execute_result",
          "data": {
            "text/html": [
              "<div>\n",
              "<style scoped>\n",
              "    .dataframe tbody tr th:only-of-type {\n",
              "        vertical-align: middle;\n",
              "    }\n",
              "\n",
              "    .dataframe tbody tr th {\n",
              "        vertical-align: top;\n",
              "    }\n",
              "\n",
              "    .dataframe thead th {\n",
              "        text-align: right;\n",
              "    }\n",
              "</style>\n",
              "<table border=\"1\" class=\"dataframe\">\n",
              "  <thead>\n",
              "    <tr style=\"text-align: right;\">\n",
              "      <th></th>\n",
              "      <th>Age</th>\n",
              "      <th>Income (USD)</th>\n",
              "      <th>Loan Amount Request (USD)</th>\n",
              "      <th>Current Loan Expenses (USD)</th>\n",
              "      <th>Dependents</th>\n",
              "      <th>Credit Score</th>\n",
              "      <th>No. of Defaults</th>\n",
              "      <th>Property ID</th>\n",
              "      <th>Property Age</th>\n",
              "      <th>Property Type</th>\n",
              "      <th>Co-Applicant</th>\n",
              "      <th>Property Price</th>\n",
              "      <th>Loan Sanction Amount (USD)</th>\n",
              "    </tr>\n",
              "  </thead>\n",
              "  <tbody>\n",
              "    <tr>\n",
              "      <th>3</th>\n",
              "      <td>65</td>\n",
              "      <td>NaN</td>\n",
              "      <td>80057.92</td>\n",
              "      <td>298.54</td>\n",
              "      <td>2.0</td>\n",
              "      <td>832.70</td>\n",
              "      <td>1</td>\n",
              "      <td>890</td>\n",
              "      <td>NaN</td>\n",
              "      <td>2</td>\n",
              "      <td>1</td>\n",
              "      <td>121441.51</td>\n",
              "      <td>56040.54</td>\n",
              "    </tr>\n",
              "    <tr>\n",
              "      <th>4</th>\n",
              "      <td>31</td>\n",
              "      <td>2614.77</td>\n",
              "      <td>113858.89</td>\n",
              "      <td>491.41</td>\n",
              "      <td>NaN</td>\n",
              "      <td>745.55</td>\n",
              "      <td>1</td>\n",
              "      <td>715</td>\n",
              "      <td>2614.77</td>\n",
              "      <td>4</td>\n",
              "      <td>1</td>\n",
              "      <td>208567.91</td>\n",
              "      <td>74008.28</td>\n",
              "    </tr>\n",
              "    <tr>\n",
              "      <th>7</th>\n",
              "      <td>45</td>\n",
              "      <td>NaN</td>\n",
              "      <td>240311.77</td>\n",
              "      <td>807.64</td>\n",
              "      <td>2.0</td>\n",
              "      <td>812.26</td>\n",
              "      <td>0</td>\n",
              "      <td>314</td>\n",
              "      <td>NaN</td>\n",
              "      <td>2</td>\n",
              "      <td>1</td>\n",
              "      <td>401040.70</td>\n",
              "      <td>168218.24</td>\n",
              "    </tr>\n",
              "    <tr>\n",
              "      <th>19</th>\n",
              "      <td>41</td>\n",
              "      <td>1837.17</td>\n",
              "      <td>112910.57</td>\n",
              "      <td>422.61</td>\n",
              "      <td>NaN</td>\n",
              "      <td>722.74</td>\n",
              "      <td>0</td>\n",
              "      <td>499</td>\n",
              "      <td>1837.17</td>\n",
              "      <td>4</td>\n",
              "      <td>1</td>\n",
              "      <td>128407.60</td>\n",
              "      <td>73391.87</td>\n",
              "    </tr>\n",
              "    <tr>\n",
              "      <th>30</th>\n",
              "      <td>32</td>\n",
              "      <td>2478.54</td>\n",
              "      <td>30195.97</td>\n",
              "      <td>225.64</td>\n",
              "      <td>1.0</td>\n",
              "      <td>NaN</td>\n",
              "      <td>0</td>\n",
              "      <td>581</td>\n",
              "      <td>2478.54</td>\n",
              "      <td>2</td>\n",
              "      <td>1</td>\n",
              "      <td>45299.77</td>\n",
              "      <td>24156.78</td>\n",
              "    </tr>\n",
              "    <tr>\n",
              "      <th>...</th>\n",
              "      <td>...</td>\n",
              "      <td>...</td>\n",
              "      <td>...</td>\n",
              "      <td>...</td>\n",
              "      <td>...</td>\n",
              "      <td>...</td>\n",
              "      <td>...</td>\n",
              "      <td>...</td>\n",
              "      <td>...</td>\n",
              "      <td>...</td>\n",
              "      <td>...</td>\n",
              "      <td>...</td>\n",
              "      <td>...</td>\n",
              "    </tr>\n",
              "    <tr>\n",
              "      <th>29981</th>\n",
              "      <td>62</td>\n",
              "      <td>1608.93</td>\n",
              "      <td>136973.99</td>\n",
              "      <td>432.53</td>\n",
              "      <td>NaN</td>\n",
              "      <td>737.01</td>\n",
              "      <td>0</td>\n",
              "      <td>395</td>\n",
              "      <td>1608.93</td>\n",
              "      <td>4</td>\n",
              "      <td>1</td>\n",
              "      <td>214606.95</td>\n",
              "      <td>89033.09</td>\n",
              "    </tr>\n",
              "    <tr>\n",
              "      <th>29991</th>\n",
              "      <td>55</td>\n",
              "      <td>NaN</td>\n",
              "      <td>127571.87</td>\n",
              "      <td>707.74</td>\n",
              "      <td>2.0</td>\n",
              "      <td>NaN</td>\n",
              "      <td>0</td>\n",
              "      <td>213</td>\n",
              "      <td>NaN</td>\n",
              "      <td>4</td>\n",
              "      <td>1</td>\n",
              "      <td>195998.69</td>\n",
              "      <td>95678.90</td>\n",
              "    </tr>\n",
              "    <tr>\n",
              "      <th>29993</th>\n",
              "      <td>62</td>\n",
              "      <td>NaN</td>\n",
              "      <td>9811.65</td>\n",
              "      <td>107.88</td>\n",
              "      <td>2.0</td>\n",
              "      <td>709.43</td>\n",
              "      <td>1</td>\n",
              "      <td>404</td>\n",
              "      <td>NaN</td>\n",
              "      <td>2</td>\n",
              "      <td>1</td>\n",
              "      <td>17956.31</td>\n",
              "      <td>6377.57</td>\n",
              "    </tr>\n",
              "    <tr>\n",
              "      <th>29994</th>\n",
              "      <td>39</td>\n",
              "      <td>2250.19</td>\n",
              "      <td>83810.38</td>\n",
              "      <td>430.66</td>\n",
              "      <td>3.0</td>\n",
              "      <td>NaN</td>\n",
              "      <td>0</td>\n",
              "      <td>265</td>\n",
              "      <td>2250.19</td>\n",
              "      <td>3</td>\n",
              "      <td>1</td>\n",
              "      <td>129028.33</td>\n",
              "      <td>62857.78</td>\n",
              "    </tr>\n",
              "    <tr>\n",
              "      <th>29997</th>\n",
              "      <td>49</td>\n",
              "      <td>NaN</td>\n",
              "      <td>81410.08</td>\n",
              "      <td>583.11</td>\n",
              "      <td>NaN</td>\n",
              "      <td>NaN</td>\n",
              "      <td>0</td>\n",
              "      <td>959</td>\n",
              "      <td>NaN</td>\n",
              "      <td>1</td>\n",
              "      <td>1</td>\n",
              "      <td>102108.02</td>\n",
              "      <td>61057.56</td>\n",
              "    </tr>\n",
              "  </tbody>\n",
              "</table>\n",
              "<p>8012 rows × 13 columns</p>\n",
              "</div>"
            ],
            "text/plain": [
              "       Age  Income (USD)  ...  Property Price  Loan Sanction Amount (USD)\n",
              "3       65           NaN  ...       121441.51                    56040.54\n",
              "4       31       2614.77  ...       208567.91                    74008.28\n",
              "7       45           NaN  ...       401040.70                   168218.24\n",
              "19      41       1837.17  ...       128407.60                    73391.87\n",
              "30      32       2478.54  ...        45299.77                    24156.78\n",
              "...    ...           ...  ...             ...                         ...\n",
              "29981   62       1608.93  ...       214606.95                    89033.09\n",
              "29991   55           NaN  ...       195998.69                    95678.90\n",
              "29993   62           NaN  ...        17956.31                     6377.57\n",
              "29994   39       2250.19  ...       129028.33                    62857.78\n",
              "29997   49           NaN  ...       102108.02                    61057.56\n",
              "\n",
              "[8012 rows x 13 columns]"
            ]
          },
          "metadata": {
            "tags": []
          },
          "execution_count": 35
        }
      ]
    },
    {
      "cell_type": "code",
      "metadata": {
        "id": "bqseVlp-CbyW"
      },
      "source": [
        "def Nan_Contain_columns(dataframe):\n",
        "    Nan_contains_column=[]\n",
        "    for i in range(len(dataframe.columns)):\n",
        "        if dataframe[dataframe.columns[i]].isnull().sum()>0:\n",
        "            Nan_contains_column.append(dataframe.columns[i])\n",
        "    return Nan_contains_column"
      ],
      "execution_count": 36,
      "outputs": []
    },
    {
      "cell_type": "code",
      "metadata": {
        "id": "ihCd7eKCCbyX"
      },
      "source": [
        "Nan_contains_column_numeric_train=Nan_Contain_columns(numerical_data)\n",
        "Nan_contains_column_numeric_test=Nan_Contain_columns(numerical_data_test)\n"
      ],
      "execution_count": 37,
      "outputs": []
    },
    {
      "cell_type": "code",
      "metadata": {
        "id": "c8hU0hNrCbyX"
      },
      "source": [
        "Nan_contains_column_categorical_train=Nan_Contain_columns(categorical_data)\n",
        "Nan_contains_column_categorical_test=Nan_Contain_columns(categorical_data_test)\n"
      ],
      "execution_count": 38,
      "outputs": []
    },
    {
      "cell_type": "code",
      "metadata": {
        "colab": {
          "base_uri": "https://localhost:8080/"
        },
        "id": "GTsLuPuuCbyX",
        "scrolled": true,
        "outputId": "9140b2e8-a648-4eee-e259-7e6ab900ac94"
      },
      "source": [
        "Nan_contains_column_numeric_train,Nan_contains_column_numeric_test"
      ],
      "execution_count": 39,
      "outputs": [
        {
          "output_type": "execute_result",
          "data": {
            "text/plain": [
              "(['Income (USD)',\n",
              "  'Current Loan Expenses (USD)',\n",
              "  'Dependents',\n",
              "  'Credit Score',\n",
              "  'Property Age',\n",
              "  'Loan Sanction Amount (USD)'],\n",
              " ['Income (USD)',\n",
              "  'Current Loan Expenses (USD)',\n",
              "  'Dependents',\n",
              "  'Credit Score',\n",
              "  'Property Age',\n",
              "  'Co-Applicant',\n",
              "  'Property Price'])"
            ]
          },
          "metadata": {
            "tags": []
          },
          "execution_count": 39
        }
      ]
    },
    {
      "cell_type": "code",
      "metadata": {
        "colab": {
          "base_uri": "https://localhost:8080/"
        },
        "id": "ZOGgBxjDCbyY",
        "outputId": "1364e9a7-8a25-4b92-e610-86a14fbaf9cc"
      },
      "source": [
        "Nan_contains_column_categorical_train,Nan_contains_column_categorical_test"
      ],
      "execution_count": 40,
      "outputs": [
        {
          "output_type": "execute_result",
          "data": {
            "text/plain": [
              "(['Gender',\n",
              "  'Income Stability',\n",
              "  'Type of Employment',\n",
              "  'Has Active Credit Card',\n",
              "  'Property Location'],\n",
              " ['Gender',\n",
              "  'Income Stability',\n",
              "  'Type of Employment',\n",
              "  'Has Active Credit Card',\n",
              "  'Property Location'])"
            ]
          },
          "metadata": {
            "tags": []
          },
          "execution_count": 40
        }
      ]
    },
    {
      "cell_type": "markdown",
      "metadata": {
        "id": "TXJIF7R1CbyY"
      },
      "source": [
        "you can see each columns having huge approx 10-35% Nan value So, we have to perform multiple technique to check MSE value"
      ]
    },
    {
      "cell_type": "code",
      "metadata": {
        "colab": {
          "base_uri": "https://localhost:8080/",
          "height": 326
        },
        "id": "oywOck-cCbyZ",
        "outputId": "9615916f-f50a-48ce-fa37-271c197d5786"
      },
      "source": [
        "categorical_data.head()"
      ],
      "execution_count": 41,
      "outputs": [
        {
          "output_type": "execute_result",
          "data": {
            "text/html": [
              "<div>\n",
              "<style scoped>\n",
              "    .dataframe tbody tr th:only-of-type {\n",
              "        vertical-align: middle;\n",
              "    }\n",
              "\n",
              "    .dataframe tbody tr th {\n",
              "        vertical-align: top;\n",
              "    }\n",
              "\n",
              "    .dataframe thead th {\n",
              "        text-align: right;\n",
              "    }\n",
              "</style>\n",
              "<table border=\"1\" class=\"dataframe\">\n",
              "  <thead>\n",
              "    <tr style=\"text-align: right;\">\n",
              "      <th></th>\n",
              "      <th>Customer ID</th>\n",
              "      <th>Name</th>\n",
              "      <th>Gender</th>\n",
              "      <th>Income Stability</th>\n",
              "      <th>Profession</th>\n",
              "      <th>Type of Employment</th>\n",
              "      <th>Location</th>\n",
              "      <th>Expense Type 1</th>\n",
              "      <th>Expense Type 2</th>\n",
              "      <th>Has Active Credit Card</th>\n",
              "      <th>Property Location</th>\n",
              "    </tr>\n",
              "  </thead>\n",
              "  <tbody>\n",
              "    <tr>\n",
              "      <th>0</th>\n",
              "      <td>C-36995</td>\n",
              "      <td>Frederica Shealy</td>\n",
              "      <td>F</td>\n",
              "      <td>Low</td>\n",
              "      <td>Working</td>\n",
              "      <td>Sales staff</td>\n",
              "      <td>Semi-Urban</td>\n",
              "      <td>N</td>\n",
              "      <td>N</td>\n",
              "      <td>NaN</td>\n",
              "      <td>Rural</td>\n",
              "    </tr>\n",
              "    <tr>\n",
              "      <th>1</th>\n",
              "      <td>C-33999</td>\n",
              "      <td>America Calderone</td>\n",
              "      <td>M</td>\n",
              "      <td>Low</td>\n",
              "      <td>Working</td>\n",
              "      <td>NaN</td>\n",
              "      <td>Semi-Urban</td>\n",
              "      <td>N</td>\n",
              "      <td>Y</td>\n",
              "      <td>Unpossessed</td>\n",
              "      <td>Rural</td>\n",
              "    </tr>\n",
              "    <tr>\n",
              "      <th>2</th>\n",
              "      <td>C-3770</td>\n",
              "      <td>Rosetta Verne</td>\n",
              "      <td>F</td>\n",
              "      <td>High</td>\n",
              "      <td>Pensioner</td>\n",
              "      <td>NaN</td>\n",
              "      <td>Semi-Urban</td>\n",
              "      <td>N</td>\n",
              "      <td>Y</td>\n",
              "      <td>Unpossessed</td>\n",
              "      <td>Urban</td>\n",
              "    </tr>\n",
              "    <tr>\n",
              "      <th>3</th>\n",
              "      <td>C-26480</td>\n",
              "      <td>Zoe Chitty</td>\n",
              "      <td>F</td>\n",
              "      <td>High</td>\n",
              "      <td>Pensioner</td>\n",
              "      <td>NaN</td>\n",
              "      <td>Rural</td>\n",
              "      <td>N</td>\n",
              "      <td>Y</td>\n",
              "      <td>Unpossessed</td>\n",
              "      <td>Semi-Urban</td>\n",
              "    </tr>\n",
              "    <tr>\n",
              "      <th>4</th>\n",
              "      <td>C-23459</td>\n",
              "      <td>Afton Venema</td>\n",
              "      <td>F</td>\n",
              "      <td>Low</td>\n",
              "      <td>Working</td>\n",
              "      <td>High skill tech staff</td>\n",
              "      <td>Semi-Urban</td>\n",
              "      <td>N</td>\n",
              "      <td>Y</td>\n",
              "      <td>Active</td>\n",
              "      <td>Semi-Urban</td>\n",
              "    </tr>\n",
              "  </tbody>\n",
              "</table>\n",
              "</div>"
            ],
            "text/plain": [
              "  Customer ID               Name  ... Has Active Credit Card Property Location\n",
              "0     C-36995   Frederica Shealy  ...                    NaN             Rural\n",
              "1     C-33999  America Calderone  ...            Unpossessed             Rural\n",
              "2      C-3770      Rosetta Verne  ...            Unpossessed             Urban\n",
              "3     C-26480         Zoe Chitty  ...            Unpossessed        Semi-Urban\n",
              "4     C-23459       Afton Venema  ...                 Active        Semi-Urban\n",
              "\n",
              "[5 rows x 11 columns]"
            ]
          },
          "metadata": {
            "tags": []
          },
          "execution_count": 41
        }
      ]
    },
    {
      "cell_type": "code",
      "metadata": {
        "id": "m8rLWXZACbyZ"
      },
      "source": [
        "categorical_data=categorical_data.drop(['Customer ID','Name'],1)"
      ],
      "execution_count": 42,
      "outputs": []
    },
    {
      "cell_type": "code",
      "metadata": {
        "colab": {
          "base_uri": "https://localhost:8080/"
        },
        "id": "il66zGscCbyZ",
        "outputId": "072bbccd-e2c7-4099-d564-4ece5a696981"
      },
      "source": [
        "check_frequancies_in_each_feature(categorical_data,categorical_data.columns.tolist())"
      ],
      "execution_count": 43,
      "outputs": [
        {
          "output_type": "stream",
          "text": [
            "feature name Gender having frequencies \n",
            " M    15053\n",
            "F    14894\n",
            "Name: Gender, dtype: int64 \n",
            "\n",
            "\n",
            "feature name Income Stability having frequencies \n",
            " Low     25751\n",
            "High     2566\n",
            "Name: Income Stability, dtype: int64 \n",
            "\n",
            "\n",
            "feature name Profession having frequencies \n",
            " Working                 16926\n",
            "Commercial associate     7962\n",
            "Pensioner                2740\n",
            "State servant            2366\n",
            "Unemployed                  2\n",
            "Businessman                 2\n",
            "Maternity leave             1\n",
            "Student                     1\n",
            "Name: Profession, dtype: int64 \n",
            "\n",
            "\n",
            "feature name Type of Employment having frequencies \n",
            " Laborers                 5578\n",
            "Sales staff              3736\n",
            "Core staff               3230\n",
            "Managers                 2495\n",
            "Drivers                  1606\n",
            "Accountants              1379\n",
            "High skill tech staff    1307\n",
            "Medicine staff            864\n",
            "Security staff            579\n",
            "Cooking staff             566\n",
            "Private service staff     342\n",
            "Cleaning staff            341\n",
            "Low-skill Laborers        162\n",
            "Secretaries               161\n",
            "Waiters/barmen staff      149\n",
            "Realty agents              86\n",
            "IT staff                   77\n",
            "HR staff                   72\n",
            "Name: Type of Employment, dtype: int64 \n",
            "\n",
            "\n",
            "feature name Location having frequencies \n",
            " Semi-Urban    21563\n",
            "Rural          5338\n",
            "Urban          3099\n",
            "Name: Location, dtype: int64 \n",
            "\n",
            "\n",
            "feature name Expense Type 1 having frequencies \n",
            " N    19214\n",
            "Y    10786\n",
            "Name: Expense Type 1, dtype: int64 \n",
            "\n",
            "\n",
            "feature name Expense Type 2 having frequencies \n",
            " Y    20180\n",
            "N     9820\n",
            "Name: Expense Type 2, dtype: int64 \n",
            "\n",
            "\n",
            "feature name Has Active Credit Card having frequencies \n",
            " Active         9771\n",
            "Inactive       9466\n",
            "Unpossessed    9197\n",
            "Name: Has Active Credit Card, dtype: int64 \n",
            "\n",
            "\n",
            "feature name Property Location having frequencies \n",
            " Semi-Urban    10387\n",
            "Rural         10041\n",
            "Urban          9216\n",
            "Name: Property Location, dtype: int64 \n",
            "\n",
            "\n"
          ],
          "name": "stdout"
        }
      ]
    },
    {
      "cell_type": "code",
      "metadata": {
        "colab": {
          "base_uri": "https://localhost:8080/"
        },
        "id": "ajdHpnjtCbya",
        "outputId": "dab61474-4a6b-431f-845a-0ce476c54a6e"
      },
      "source": [
        "categorical_data.isnull().sum()"
      ],
      "execution_count": 44,
      "outputs": [
        {
          "output_type": "execute_result",
          "data": {
            "text/plain": [
              "Gender                      53\n",
              "Income Stability          1683\n",
              "Profession                   0\n",
              "Type of Employment        7270\n",
              "Location                     0\n",
              "Expense Type 1               0\n",
              "Expense Type 2               0\n",
              "Has Active Credit Card    1566\n",
              "Property Location          356\n",
              "dtype: int64"
            ]
          },
          "metadata": {
            "tags": []
          },
          "execution_count": 44
        }
      ]
    },
    {
      "cell_type": "code",
      "metadata": {
        "colab": {
          "base_uri": "https://localhost:8080/"
        },
        "id": "sAgGsfqbCbya",
        "outputId": "0ff2e199-b6d4-413e-d3bd-56f02815caa6"
      },
      "source": [
        "train[['Gender','Loan Sanction Amount (USD)']][train[['Gender','Loan Sanction Amount (USD)']].isnull().any(axis=1)].Gender.value_counts()"
      ],
      "execution_count": 45,
      "outputs": [
        {
          "output_type": "execute_result",
          "data": {
            "text/plain": [
              "F    176\n",
              "M    163\n",
              "Name: Gender, dtype: int64"
            ]
          },
          "metadata": {
            "tags": []
          },
          "execution_count": 45
        }
      ]
    },
    {
      "cell_type": "code",
      "metadata": {
        "colab": {
          "base_uri": "https://localhost:8080/"
        },
        "id": "iIJmh9r_Cbya",
        "outputId": "068f2c23-73f4-4860-80a6-12f582a6c04a"
      },
      "source": [
        "train.Gender.value_counts()"
      ],
      "execution_count": 46,
      "outputs": [
        {
          "output_type": "execute_result",
          "data": {
            "text/plain": [
              "M    15053\n",
              "F    14894\n",
              "Name: Gender, dtype: int64"
            ]
          },
          "metadata": {
            "tags": []
          },
          "execution_count": 46
        }
      ]
    },
    {
      "cell_type": "code",
      "metadata": {
        "colab": {
          "base_uri": "https://localhost:8080/",
          "height": 289
        },
        "id": "UwQ-85CeCbyb",
        "outputId": "893b622b-0f7f-4fcc-da30-31fd691ba556"
      },
      "source": [
        "categorical_data.head()"
      ],
      "execution_count": 47,
      "outputs": [
        {
          "output_type": "execute_result",
          "data": {
            "text/html": [
              "<div>\n",
              "<style scoped>\n",
              "    .dataframe tbody tr th:only-of-type {\n",
              "        vertical-align: middle;\n",
              "    }\n",
              "\n",
              "    .dataframe tbody tr th {\n",
              "        vertical-align: top;\n",
              "    }\n",
              "\n",
              "    .dataframe thead th {\n",
              "        text-align: right;\n",
              "    }\n",
              "</style>\n",
              "<table border=\"1\" class=\"dataframe\">\n",
              "  <thead>\n",
              "    <tr style=\"text-align: right;\">\n",
              "      <th></th>\n",
              "      <th>Gender</th>\n",
              "      <th>Income Stability</th>\n",
              "      <th>Profession</th>\n",
              "      <th>Type of Employment</th>\n",
              "      <th>Location</th>\n",
              "      <th>Expense Type 1</th>\n",
              "      <th>Expense Type 2</th>\n",
              "      <th>Has Active Credit Card</th>\n",
              "      <th>Property Location</th>\n",
              "    </tr>\n",
              "  </thead>\n",
              "  <tbody>\n",
              "    <tr>\n",
              "      <th>0</th>\n",
              "      <td>F</td>\n",
              "      <td>Low</td>\n",
              "      <td>Working</td>\n",
              "      <td>Sales staff</td>\n",
              "      <td>Semi-Urban</td>\n",
              "      <td>N</td>\n",
              "      <td>N</td>\n",
              "      <td>NaN</td>\n",
              "      <td>Rural</td>\n",
              "    </tr>\n",
              "    <tr>\n",
              "      <th>1</th>\n",
              "      <td>M</td>\n",
              "      <td>Low</td>\n",
              "      <td>Working</td>\n",
              "      <td>NaN</td>\n",
              "      <td>Semi-Urban</td>\n",
              "      <td>N</td>\n",
              "      <td>Y</td>\n",
              "      <td>Unpossessed</td>\n",
              "      <td>Rural</td>\n",
              "    </tr>\n",
              "    <tr>\n",
              "      <th>2</th>\n",
              "      <td>F</td>\n",
              "      <td>High</td>\n",
              "      <td>Pensioner</td>\n",
              "      <td>NaN</td>\n",
              "      <td>Semi-Urban</td>\n",
              "      <td>N</td>\n",
              "      <td>Y</td>\n",
              "      <td>Unpossessed</td>\n",
              "      <td>Urban</td>\n",
              "    </tr>\n",
              "    <tr>\n",
              "      <th>3</th>\n",
              "      <td>F</td>\n",
              "      <td>High</td>\n",
              "      <td>Pensioner</td>\n",
              "      <td>NaN</td>\n",
              "      <td>Rural</td>\n",
              "      <td>N</td>\n",
              "      <td>Y</td>\n",
              "      <td>Unpossessed</td>\n",
              "      <td>Semi-Urban</td>\n",
              "    </tr>\n",
              "    <tr>\n",
              "      <th>4</th>\n",
              "      <td>F</td>\n",
              "      <td>Low</td>\n",
              "      <td>Working</td>\n",
              "      <td>High skill tech staff</td>\n",
              "      <td>Semi-Urban</td>\n",
              "      <td>N</td>\n",
              "      <td>Y</td>\n",
              "      <td>Active</td>\n",
              "      <td>Semi-Urban</td>\n",
              "    </tr>\n",
              "  </tbody>\n",
              "</table>\n",
              "</div>"
            ],
            "text/plain": [
              "  Gender Income Stability  ... Has Active Credit Card Property Location\n",
              "0      F              Low  ...                    NaN             Rural\n",
              "1      M              Low  ...            Unpossessed             Rural\n",
              "2      F             High  ...            Unpossessed             Urban\n",
              "3      F             High  ...            Unpossessed        Semi-Urban\n",
              "4      F              Low  ...                 Active        Semi-Urban\n",
              "\n",
              "[5 rows x 9 columns]"
            ]
          },
          "metadata": {
            "tags": []
          },
          "execution_count": 47
        }
      ]
    },
    {
      "cell_type": "code",
      "metadata": {
        "id": "ae1yQWK0Cbyb"
      },
      "source": [
        ""
      ],
      "execution_count": 47,
      "outputs": []
    },
    {
      "cell_type": "code",
      "metadata": {
        "colab": {
          "base_uri": "https://localhost:8080/",
          "height": 640
        },
        "id": "Kje_kLNt_cpt",
        "outputId": "072e06cb-cd77-4963-f844-c9e7acee9172"
      },
      "source": [
        "sns.heatmap(numerical_data.corr(),annot=True)"
      ],
      "execution_count": 48,
      "outputs": [
        {
          "output_type": "execute_result",
          "data": {
            "text/plain": [
              "<matplotlib.axes._subplots.AxesSubplot at 0x7fcfe34848d0>"
            ]
          },
          "metadata": {
            "tags": []
          },
          "execution_count": 48
        },
        {
          "output_type": "display_data",
          "data": {
            "image/png": "[encoded data removed]",
            "text/plain": [
              "<Figure size 864x576 with 2 Axes>"
            ]
          },
          "metadata": {
            "tags": []
          }
        }
      ]
    },
    {
      "cell_type": "code",
      "metadata": {
        "id": "eobKTliNZMuD"
      },
      "source": [
        ""
      ],
      "execution_count": 48,
      "outputs": []
    },
    {
      "cell_type": "code",
      "metadata": {
        "id": "x0_hfrqECbyb",
        "scrolled": true
      },
      "source": [
        "correlation_feature_train=generate_correlated_columns(numerical_data,0.9)"
      ],
      "execution_count": 49,
      "outputs": []
    },
    {
      "cell_type": "code",
      "metadata": {
        "id": "rRpjoQ2FAaL6"
      },
      "source": [
        "correlation_feature_test=generate_correlated_columns(numerical_data_test,0.9)"
      ],
      "execution_count": 50,
      "outputs": []
    },
    {
      "cell_type": "code",
      "metadata": {
        "colab": {
          "base_uri": "https://localhost:8080/"
        },
        "id": "nodvZZEiCbyc",
        "outputId": "fceb5fd7-603f-4cd8-f683-2dcaad2489b2"
      },
      "source": [
        "correlation_feature_test,correlation_feature_train"
      ],
      "execution_count": 51,
      "outputs": [
        {
          "output_type": "execute_result",
          "data": {
            "text/plain": [
              "({'Property Age', 'Property Price'}, {'Property Age', 'Property Price'})"
            ]
          },
          "metadata": {
            "tags": []
          },
          "execution_count": 51
        }
      ]
    },
    {
      "cell_type": "code",
      "metadata": {
        "colab": {
          "base_uri": "https://localhost:8080/"
        },
        "id": "AU-tA0f1V215",
        "outputId": "14128419-d2a8-4bf6-94e5-58e9bcb9f33b"
      },
      "source": [
        "numerical_data_test.columns,categorical_data_test.columns"
      ],
      "execution_count": 52,
      "outputs": [
        {
          "output_type": "execute_result",
          "data": {
            "text/plain": [
              "(Index(['Age', 'Income (USD)', 'Loan Amount Request (USD)',\n",
              "        'Current Loan Expenses (USD)', 'Dependents', 'Credit Score',\n",
              "        'No. of Defaults', 'Property ID', 'Property Age', 'Property Type',\n",
              "        'Co-Applicant', 'Property Price'],\n",
              "       dtype='object'),\n",
              " Index(['Customer ID', 'Name', 'Gender', 'Income Stability', 'Profession',\n",
              "        'Type of Employment', 'Location', 'Expense Type 1', 'Expense Type 2',\n",
              "        'Has Active Credit Card', 'Property Location'],\n",
              "       dtype='object'))"
            ]
          },
          "metadata": {
            "tags": []
          },
          "execution_count": 52
        }
      ]
    },
    {
      "cell_type": "code",
      "metadata": {
        "id": "XhiPdjwj_D0P"
      },
      "source": [
        "after_remove_co_related_data=numerical_data.drop(['Property Age', 'Property Price'],1)\n",
        "after_remove_co_related_data_test=numerical_data_test.drop(['Property Age', 'Property Price'],1)\n"
      ],
      "execution_count": 53,
      "outputs": []
    },
    {
      "cell_type": "code",
      "metadata": {
        "colab": {
          "base_uri": "https://localhost:8080/",
          "height": 275
        },
        "id": "GXDXAt4xAtTI",
        "outputId": "ef8dffb3-d480-4519-c49c-e518349b3975"
      },
      "source": [
        "numerical_data_test.head()"
      ],
      "execution_count": 54,
      "outputs": [
        {
          "output_type": "execute_result",
          "data": {
            "text/html": [
              "<div>\n",
              "<style scoped>\n",
              "    .dataframe tbody tr th:only-of-type {\n",
              "        vertical-align: middle;\n",
              "    }\n",
              "\n",
              "    .dataframe tbody tr th {\n",
              "        vertical-align: top;\n",
              "    }\n",
              "\n",
              "    .dataframe thead th {\n",
              "        text-align: right;\n",
              "    }\n",
              "</style>\n",
              "<table border=\"1\" class=\"dataframe\">\n",
              "  <thead>\n",
              "    <tr style=\"text-align: right;\">\n",
              "      <th></th>\n",
              "      <th>Age</th>\n",
              "      <th>Income (USD)</th>\n",
              "      <th>Loan Amount Request (USD)</th>\n",
              "      <th>Current Loan Expenses (USD)</th>\n",
              "      <th>Dependents</th>\n",
              "      <th>Credit Score</th>\n",
              "      <th>No. of Defaults</th>\n",
              "      <th>Property ID</th>\n",
              "      <th>Property Age</th>\n",
              "      <th>Property Type</th>\n",
              "      <th>Co-Applicant</th>\n",
              "      <th>Property Price</th>\n",
              "    </tr>\n",
              "  </thead>\n",
              "  <tbody>\n",
              "    <tr>\n",
              "      <th>0</th>\n",
              "      <td>47</td>\n",
              "      <td>3472.69</td>\n",
              "      <td>137088.98</td>\n",
              "      <td>396.72</td>\n",
              "      <td>2.0</td>\n",
              "      <td>799.14</td>\n",
              "      <td>0</td>\n",
              "      <td>843</td>\n",
              "      <td>3472.69</td>\n",
              "      <td>2</td>\n",
              "      <td>1.0</td>\n",
              "      <td>236644.50</td>\n",
              "    </tr>\n",
              "    <tr>\n",
              "      <th>1</th>\n",
              "      <td>57</td>\n",
              "      <td>1184.84</td>\n",
              "      <td>104771.59</td>\n",
              "      <td>463.76</td>\n",
              "      <td>2.0</td>\n",
              "      <td>833.31</td>\n",
              "      <td>0</td>\n",
              "      <td>22</td>\n",
              "      <td>1184.84</td>\n",
              "      <td>1</td>\n",
              "      <td>1.0</td>\n",
              "      <td>142357.30</td>\n",
              "    </tr>\n",
              "    <tr>\n",
              "      <th>2</th>\n",
              "      <td>52</td>\n",
              "      <td>1266.27</td>\n",
              "      <td>176684.91</td>\n",
              "      <td>493.15</td>\n",
              "      <td>3.0</td>\n",
              "      <td>627.44</td>\n",
              "      <td>0</td>\n",
              "      <td>1</td>\n",
              "      <td>1266.27</td>\n",
              "      <td>1</td>\n",
              "      <td>1.0</td>\n",
              "      <td>300991.24</td>\n",
              "    </tr>\n",
              "    <tr>\n",
              "      <th>3</th>\n",
              "      <td>65</td>\n",
              "      <td>1369.72</td>\n",
              "      <td>97009.18</td>\n",
              "      <td>446.15</td>\n",
              "      <td>2.0</td>\n",
              "      <td>833.20</td>\n",
              "      <td>0</td>\n",
              "      <td>730</td>\n",
              "      <td>1369.72</td>\n",
              "      <td>1</td>\n",
              "      <td>0.0</td>\n",
              "      <td>125612.10</td>\n",
              "    </tr>\n",
              "    <tr>\n",
              "      <th>4</th>\n",
              "      <td>60</td>\n",
              "      <td>1939.23</td>\n",
              "      <td>109980.00</td>\n",
              "      <td>370.10</td>\n",
              "      <td>NaN</td>\n",
              "      <td>NaN</td>\n",
              "      <td>0</td>\n",
              "      <td>356</td>\n",
              "      <td>1939.23</td>\n",
              "      <td>4</td>\n",
              "      <td>1.0</td>\n",
              "      <td>180908.00</td>\n",
              "    </tr>\n",
              "  </tbody>\n",
              "</table>\n",
              "</div>"
            ],
            "text/plain": [
              "   Age  Income (USD)  ...  Co-Applicant  Property Price\n",
              "0   47       3472.69  ...           1.0       236644.50\n",
              "1   57       1184.84  ...           1.0       142357.30\n",
              "2   52       1266.27  ...           1.0       300991.24\n",
              "3   65       1369.72  ...           0.0       125612.10\n",
              "4   60       1939.23  ...           1.0       180908.00\n",
              "\n",
              "[5 rows x 12 columns]"
            ]
          },
          "metadata": {
            "tags": []
          },
          "execution_count": 54
        }
      ]
    },
    {
      "cell_type": "code",
      "metadata": {
        "id": "OPp6DzScAhOr"
      },
      "source": [
        ""
      ],
      "execution_count": 54,
      "outputs": []
    },
    {
      "cell_type": "code",
      "metadata": {
        "id": "AvEDbgP2BDRU"
      },
      "source": [
        "categorical_data_test.head()\n",
        "Need_ID=categorical_data_test['Customer ID']\n",
        "categorical_data_test=categorical_data_test.drop(['Customer ID','Name'],1)"
      ],
      "execution_count": 55,
      "outputs": []
    },
    {
      "cell_type": "code",
      "metadata": {
        "id": "jKQKnEfxCbyc"
      },
      "source": [
        "categorical_data_dummy_train=create_dummies_data(categorical_data,categorical_data.columns)"
      ],
      "execution_count": 56,
      "outputs": []
    },
    {
      "cell_type": "code",
      "metadata": {
        "id": "9ANNj7wOrFbB"
      },
      "source": [
        "categorical_data_dummy_test=create_dummies_data(categorical_data_test,categorical_data_test.columns)"
      ],
      "execution_count": 57,
      "outputs": []
    },
    {
      "cell_type": "code",
      "metadata": {
        "id": "knPY3g2_Cbyc"
      },
      "source": [
        "joined_categorical_numerical_train=after_remove_co_related_data.join(categorical_data_dummy_train)"
      ],
      "execution_count": 58,
      "outputs": []
    },
    {
      "cell_type": "code",
      "metadata": {
        "id": "lB1SiO3KCbyc"
      },
      "source": [
        "joined_categorical_numerical_test=after_remove_co_related_data_test.join(categorical_data_dummy_test)"
      ],
      "execution_count": 59,
      "outputs": []
    },
    {
      "cell_type": "code",
      "metadata": {
        "id": "KcYSVCrEtZVS"
      },
      "source": [
        "joined_categorical_numerical_train=joined_categorical_numerical_train.drop(['Profession_Businessman'],1)"
      ],
      "execution_count": 60,
      "outputs": []
    },
    {
      "cell_type": "code",
      "metadata": {
        "colab": {
          "base_uri": "https://localhost:8080/"
        },
        "id": "O3GdgpAMrhO0",
        "outputId": "974b6917-dd8d-4285-fee6-16379fb009b0"
      },
      "source": [
        "joined_categorical_numerical_train.shape,joined_categorical_numerical_test.shape"
      ],
      "execution_count": 61,
      "outputs": [
        {
          "output_type": "execute_result",
          "data": {
            "text/plain": [
              "((30000, 62), (20000, 61))"
            ]
          },
          "metadata": {
            "tags": []
          },
          "execution_count": 61
        }
      ]
    },
    {
      "cell_type": "code",
      "metadata": {
        "colab": {
          "base_uri": "https://localhost:8080/"
        },
        "id": "1nuYBFllsmm4",
        "outputId": "016d146b-0885-4221-f2f3-3ba0b68ecfa6"
      },
      "source": [
        "a=list(joined_categorical_numerical_train.columns)\n",
        "b=list(joined_categorical_numerical_test.columns)\n",
        "for i in a:\n",
        "  if i in b:\n",
        "    continue\n",
        "  else:\n",
        "    print(i)"
      ],
      "execution_count": 62,
      "outputs": [
        {
          "output_type": "stream",
          "text": [
            "Loan Sanction Amount (USD)\n"
          ],
          "name": "stdout"
        }
      ]
    },
    {
      "cell_type": "code",
      "metadata": {
        "id": "J9Q06SPsrtAo"
      },
      "source": [
        "# target=joined_categorical_numerical_train['Loan Sanction Amount (USD)']\n",
        "# joined_categorical_numerical_train=joined_categorical_numerical_train.drop(['Loan Sanction Amount (USD)'],1)"
      ],
      "execution_count": 63,
      "outputs": []
    },
    {
      "cell_type": "code",
      "metadata": {
        "id": "G4jjf8TyuWvj"
      },
      "source": [
        ""
      ],
      "execution_count": 63,
      "outputs": []
    },
    {
      "cell_type": "code",
      "metadata": {
        "id": "_-B_aNhWuXUg"
      },
      "source": [
        ""
      ],
      "execution_count": 63,
      "outputs": []
    },
    {
      "cell_type": "code",
      "metadata": {
        "id": "-1Sf27MoCbyd",
        "scrolled": true
      },
      "source": [
        ""
      ],
      "execution_count": 63,
      "outputs": []
    },
    {
      "cell_type": "code",
      "metadata": {
        "id": "tzLK4VHuCbye"
      },
      "source": [
        ""
      ],
      "execution_count": 63,
      "outputs": []
    },
    {
      "cell_type": "code",
      "metadata": {
        "id": "OmUx2gs7Cbye"
      },
      "source": [
        "drop_target_nan_value=joined_categorical_numerical_train.dropna(subset=['Loan Sanction Amount (USD)'])"
      ],
      "execution_count": 64,
      "outputs": []
    },
    {
      "cell_type": "code",
      "metadata": {
        "id": "4cy5ni2dCbyf"
      },
      "source": [
        "drop_target_nan_value=drop_target_nan_value.reset_index().drop(['index'],1)"
      ],
      "execution_count": 65,
      "outputs": []
    },
    {
      "cell_type": "code",
      "metadata": {
        "colab": {
          "base_uri": "https://localhost:8080/",
          "height": 490
        },
        "id": "fR4FI5rzCbyf",
        "scrolled": true,
        "outputId": "b76b1333-fffb-4f3b-d316-0055756623aa"
      },
      "source": [
        "drop_target_nan_value"
      ],
      "execution_count": 66,
      "outputs": [
        {
          "output_type": "execute_result",
          "data": {
            "text/html": [
              "<div>\n",
              "<style scoped>\n",
              "    .dataframe tbody tr th:only-of-type {\n",
              "        vertical-align: middle;\n",
              "    }\n",
              "\n",
              "    .dataframe tbody tr th {\n",
              "        vertical-align: top;\n",
              "    }\n",
              "\n",
              "    .dataframe thead th {\n",
              "        text-align: right;\n",
              "    }\n",
              "</style>\n",
              "<table border=\"1\" class=\"dataframe\">\n",
              "  <thead>\n",
              "    <tr style=\"text-align: right;\">\n",
              "      <th></th>\n",
              "      <th>Age</th>\n",
              "      <th>Income (USD)</th>\n",
              "      <th>Loan Amount Request (USD)</th>\n",
              "      <th>Current Loan Expenses (USD)</th>\n",
              "      <th>Dependents</th>\n",
              "      <th>Credit Score</th>\n",
              "      <th>No. of Defaults</th>\n",
              "      <th>Property ID</th>\n",
              "      <th>Property Type</th>\n",
              "      <th>Co-Applicant</th>\n",
              "      <th>Loan Sanction Amount (USD)</th>\n",
              "      <th>Gender_F</th>\n",
              "      <th>Gender_M</th>\n",
              "      <th>Gender_nan</th>\n",
              "      <th>Income Stability_High</th>\n",
              "      <th>Income Stability_Low</th>\n",
              "      <th>Income Stability_nan</th>\n",
              "      <th>Profession_Commercial associate</th>\n",
              "      <th>Profession_Maternity leave</th>\n",
              "      <th>Profession_Pensioner</th>\n",
              "      <th>Profession_State servant</th>\n",
              "      <th>Profession_Student</th>\n",
              "      <th>Profession_Unemployed</th>\n",
              "      <th>Profession_Working</th>\n",
              "      <th>Profession_nan</th>\n",
              "      <th>Type of Employment_Accountants</th>\n",
              "      <th>Type of Employment_Cleaning staff</th>\n",
              "      <th>Type of Employment_Cooking staff</th>\n",
              "      <th>Type of Employment_Core staff</th>\n",
              "      <th>Type of Employment_Drivers</th>\n",
              "      <th>Type of Employment_HR staff</th>\n",
              "      <th>Type of Employment_High skill tech staff</th>\n",
              "      <th>Type of Employment_IT staff</th>\n",
              "      <th>Type of Employment_Laborers</th>\n",
              "      <th>Type of Employment_Low-skill Laborers</th>\n",
              "      <th>Type of Employment_Managers</th>\n",
              "      <th>Type of Employment_Medicine staff</th>\n",
              "      <th>Type of Employment_Private service staff</th>\n",
              "      <th>Type of Employment_Realty agents</th>\n",
              "      <th>Type of Employment_Sales staff</th>\n",
              "      <th>Type of Employment_Secretaries</th>\n",
              "      <th>Type of Employment_Security staff</th>\n",
              "      <th>Type of Employment_Waiters/barmen staff</th>\n",
              "      <th>Type of Employment_nan</th>\n",
              "      <th>Location_Rural</th>\n",
              "      <th>Location_Semi-Urban</th>\n",
              "      <th>Location_Urban</th>\n",
              "      <th>Location_nan</th>\n",
              "      <th>Expense Type 1_N</th>\n",
              "      <th>Expense Type 1_Y</th>\n",
              "      <th>Expense Type 1_nan</th>\n",
              "      <th>Expense Type 2_N</th>\n",
              "      <th>Expense Type 2_Y</th>\n",
              "      <th>Expense Type 2_nan</th>\n",
              "      <th>Has Active Credit Card_Active</th>\n",
              "      <th>Has Active Credit Card_Inactive</th>\n",
              "      <th>Has Active Credit Card_Unpossessed</th>\n",
              "      <th>Has Active Credit Card_nan</th>\n",
              "      <th>Property Location_Rural</th>\n",
              "      <th>Property Location_Semi-Urban</th>\n",
              "      <th>Property Location_Urban</th>\n",
              "      <th>Property Location_nan</th>\n",
              "    </tr>\n",
              "  </thead>\n",
              "  <tbody>\n",
              "    <tr>\n",
              "      <th>0</th>\n",
              "      <td>56</td>\n",
              "      <td>1933.05</td>\n",
              "      <td>72809.58</td>\n",
              "      <td>241.08</td>\n",
              "      <td>3.0</td>\n",
              "      <td>809.44</td>\n",
              "      <td>0</td>\n",
              "      <td>746</td>\n",
              "      <td>4</td>\n",
              "      <td>1</td>\n",
              "      <td>54607.18</td>\n",
              "      <td>1</td>\n",
              "      <td>0</td>\n",
              "      <td>0</td>\n",
              "      <td>0</td>\n",
              "      <td>1</td>\n",
              "      <td>0</td>\n",
              "      <td>0</td>\n",
              "      <td>0</td>\n",
              "      <td>0</td>\n",
              "      <td>0</td>\n",
              "      <td>0</td>\n",
              "      <td>0</td>\n",
              "      <td>1</td>\n",
              "      <td>0</td>\n",
              "      <td>0</td>\n",
              "      <td>0</td>\n",
              "      <td>0</td>\n",
              "      <td>0</td>\n",
              "      <td>0</td>\n",
              "      <td>0</td>\n",
              "      <td>0</td>\n",
              "      <td>0</td>\n",
              "      <td>0</td>\n",
              "      <td>0</td>\n",
              "      <td>0</td>\n",
              "      <td>0</td>\n",
              "      <td>0</td>\n",
              "      <td>0</td>\n",
              "      <td>1</td>\n",
              "      <td>0</td>\n",
              "      <td>0</td>\n",
              "      <td>0</td>\n",
              "      <td>0</td>\n",
              "      <td>0</td>\n",
              "      <td>1</td>\n",
              "      <td>0</td>\n",
              "      <td>0</td>\n",
              "      <td>1</td>\n",
              "      <td>0</td>\n",
              "      <td>0</td>\n",
              "      <td>1</td>\n",
              "      <td>0</td>\n",
              "      <td>0</td>\n",
              "      <td>0</td>\n",
              "      <td>0</td>\n",
              "      <td>0</td>\n",
              "      <td>1</td>\n",
              "      <td>1</td>\n",
              "      <td>0</td>\n",
              "      <td>0</td>\n",
              "      <td>0</td>\n",
              "    </tr>\n",
              "    <tr>\n",
              "      <th>1</th>\n",
              "      <td>32</td>\n",
              "      <td>4952.91</td>\n",
              "      <td>46837.47</td>\n",
              "      <td>495.81</td>\n",
              "      <td>1.0</td>\n",
              "      <td>780.40</td>\n",
              "      <td>0</td>\n",
              "      <td>608</td>\n",
              "      <td>2</td>\n",
              "      <td>1</td>\n",
              "      <td>37469.98</td>\n",
              "      <td>0</td>\n",
              "      <td>1</td>\n",
              "      <td>0</td>\n",
              "      <td>0</td>\n",
              "      <td>1</td>\n",
              "      <td>0</td>\n",
              "      <td>0</td>\n",
              "      <td>0</td>\n",
              "      <td>0</td>\n",
              "      <td>0</td>\n",
              "      <td>0</td>\n",
              "      <td>0</td>\n",
              "      <td>1</td>\n",
              "      <td>0</td>\n",
              "      <td>0</td>\n",
              "      <td>0</td>\n",
              "      <td>0</td>\n",
              "      <td>0</td>\n",
              "      <td>0</td>\n",
              "      <td>0</td>\n",
              "      <td>0</td>\n",
              "      <td>0</td>\n",
              "      <td>0</td>\n",
              "      <td>0</td>\n",
              "      <td>0</td>\n",
              "      <td>0</td>\n",
              "      <td>0</td>\n",
              "      <td>0</td>\n",
              "      <td>0</td>\n",
              "      <td>0</td>\n",
              "      <td>0</td>\n",
              "      <td>0</td>\n",
              "      <td>1</td>\n",
              "      <td>0</td>\n",
              "      <td>1</td>\n",
              "      <td>0</td>\n",
              "      <td>0</td>\n",
              "      <td>1</td>\n",
              "      <td>0</td>\n",
              "      <td>0</td>\n",
              "      <td>0</td>\n",
              "      <td>1</td>\n",
              "      <td>0</td>\n",
              "      <td>0</td>\n",
              "      <td>0</td>\n",
              "      <td>1</td>\n",
              "      <td>0</td>\n",
              "      <td>1</td>\n",
              "      <td>0</td>\n",
              "      <td>0</td>\n",
              "      <td>0</td>\n",
              "    </tr>\n",
              "    <tr>\n",
              "      <th>2</th>\n",
              "      <td>65</td>\n",
              "      <td>988.19</td>\n",
              "      <td>45593.04</td>\n",
              "      <td>171.95</td>\n",
              "      <td>1.0</td>\n",
              "      <td>833.15</td>\n",
              "      <td>0</td>\n",
              "      <td>546</td>\n",
              "      <td>2</td>\n",
              "      <td>0</td>\n",
              "      <td>36474.43</td>\n",
              "      <td>1</td>\n",
              "      <td>0</td>\n",
              "      <td>0</td>\n",
              "      <td>1</td>\n",
              "      <td>0</td>\n",
              "      <td>0</td>\n",
              "      <td>0</td>\n",
              "      <td>0</td>\n",
              "      <td>1</td>\n",
              "      <td>0</td>\n",
              "      <td>0</td>\n",
              "      <td>0</td>\n",
              "      <td>0</td>\n",
              "      <td>0</td>\n",
              "      <td>0</td>\n",
              "      <td>0</td>\n",
              "      <td>0</td>\n",
              "      <td>0</td>\n",
              "      <td>0</td>\n",
              "      <td>0</td>\n",
              "      <td>0</td>\n",
              "      <td>0</td>\n",
              "      <td>0</td>\n",
              "      <td>0</td>\n",
              "      <td>0</td>\n",
              "      <td>0</td>\n",
              "      <td>0</td>\n",
              "      <td>0</td>\n",
              "      <td>0</td>\n",
              "      <td>0</td>\n",
              "      <td>0</td>\n",
              "      <td>0</td>\n",
              "      <td>1</td>\n",
              "      <td>0</td>\n",
              "      <td>1</td>\n",
              "      <td>0</td>\n",
              "      <td>0</td>\n",
              "      <td>1</td>\n",
              "      <td>0</td>\n",
              "      <td>0</td>\n",
              "      <td>0</td>\n",
              "      <td>1</td>\n",
              "      <td>0</td>\n",
              "      <td>0</td>\n",
              "      <td>0</td>\n",
              "      <td>1</td>\n",
              "      <td>0</td>\n",
              "      <td>0</td>\n",
              "      <td>0</td>\n",
              "      <td>1</td>\n",
              "      <td>0</td>\n",
              "    </tr>\n",
              "    <tr>\n",
              "      <th>3</th>\n",
              "      <td>65</td>\n",
              "      <td>NaN</td>\n",
              "      <td>80057.92</td>\n",
              "      <td>298.54</td>\n",
              "      <td>2.0</td>\n",
              "      <td>832.70</td>\n",
              "      <td>1</td>\n",
              "      <td>890</td>\n",
              "      <td>2</td>\n",
              "      <td>1</td>\n",
              "      <td>56040.54</td>\n",
              "      <td>1</td>\n",
              "      <td>0</td>\n",
              "      <td>0</td>\n",
              "      <td>1</td>\n",
              "      <td>0</td>\n",
              "      <td>0</td>\n",
              "      <td>0</td>\n",
              "      <td>0</td>\n",
              "      <td>1</td>\n",
              "      <td>0</td>\n",
              "      <td>0</td>\n",
              "      <td>0</td>\n",
              "      <td>0</td>\n",
              "      <td>0</td>\n",
              "      <td>0</td>\n",
              "      <td>0</td>\n",
              "      <td>0</td>\n",
              "      <td>0</td>\n",
              "      <td>0</td>\n",
              "      <td>0</td>\n",
              "      <td>0</td>\n",
              "      <td>0</td>\n",
              "      <td>0</td>\n",
              "      <td>0</td>\n",
              "      <td>0</td>\n",
              "      <td>0</td>\n",
              "      <td>0</td>\n",
              "      <td>0</td>\n",
              "      <td>0</td>\n",
              "      <td>0</td>\n",
              "      <td>0</td>\n",
              "      <td>0</td>\n",
              "      <td>1</td>\n",
              "      <td>1</td>\n",
              "      <td>0</td>\n",
              "      <td>0</td>\n",
              "      <td>0</td>\n",
              "      <td>1</td>\n",
              "      <td>0</td>\n",
              "      <td>0</td>\n",
              "      <td>0</td>\n",
              "      <td>1</td>\n",
              "      <td>0</td>\n",
              "      <td>0</td>\n",
              "      <td>0</td>\n",
              "      <td>1</td>\n",
              "      <td>0</td>\n",
              "      <td>0</td>\n",
              "      <td>1</td>\n",
              "      <td>0</td>\n",
              "      <td>0</td>\n",
              "    </tr>\n",
              "    <tr>\n",
              "      <th>4</th>\n",
              "      <td>31</td>\n",
              "      <td>2614.77</td>\n",
              "      <td>113858.89</td>\n",
              "      <td>491.41</td>\n",
              "      <td>NaN</td>\n",
              "      <td>745.55</td>\n",
              "      <td>1</td>\n",
              "      <td>715</td>\n",
              "      <td>4</td>\n",
              "      <td>1</td>\n",
              "      <td>74008.28</td>\n",
              "      <td>1</td>\n",
              "      <td>0</td>\n",
              "      <td>0</td>\n",
              "      <td>0</td>\n",
              "      <td>1</td>\n",
              "      <td>0</td>\n",
              "      <td>0</td>\n",
              "      <td>0</td>\n",
              "      <td>0</td>\n",
              "      <td>0</td>\n",
              "      <td>0</td>\n",
              "      <td>0</td>\n",
              "      <td>1</td>\n",
              "      <td>0</td>\n",
              "      <td>0</td>\n",
              "      <td>0</td>\n",
              "      <td>0</td>\n",
              "      <td>0</td>\n",
              "      <td>0</td>\n",
              "      <td>0</td>\n",
              "      <td>1</td>\n",
              "      <td>0</td>\n",
              "      <td>0</td>\n",
              "      <td>0</td>\n",
              "      <td>0</td>\n",
              "      <td>0</td>\n",
              "      <td>0</td>\n",
              "      <td>0</td>\n",
              "      <td>0</td>\n",
              "      <td>0</td>\n",
              "      <td>0</td>\n",
              "      <td>0</td>\n",
              "      <td>0</td>\n",
              "      <td>0</td>\n",
              "      <td>1</td>\n",
              "      <td>0</td>\n",
              "      <td>0</td>\n",
              "      <td>1</td>\n",
              "      <td>0</td>\n",
              "      <td>0</td>\n",
              "      <td>0</td>\n",
              "      <td>1</td>\n",
              "      <td>0</td>\n",
              "      <td>1</td>\n",
              "      <td>0</td>\n",
              "      <td>0</td>\n",
              "      <td>0</td>\n",
              "      <td>0</td>\n",
              "      <td>1</td>\n",
              "      <td>0</td>\n",
              "      <td>0</td>\n",
              "    </tr>\n",
              "    <tr>\n",
              "      <th>...</th>\n",
              "      <td>...</td>\n",
              "      <td>...</td>\n",
              "      <td>...</td>\n",
              "      <td>...</td>\n",
              "      <td>...</td>\n",
              "      <td>...</td>\n",
              "      <td>...</td>\n",
              "      <td>...</td>\n",
              "      <td>...</td>\n",
              "      <td>...</td>\n",
              "      <td>...</td>\n",
              "      <td>...</td>\n",
              "      <td>...</td>\n",
              "      <td>...</td>\n",
              "      <td>...</td>\n",
              "      <td>...</td>\n",
              "      <td>...</td>\n",
              "      <td>...</td>\n",
              "      <td>...</td>\n",
              "      <td>...</td>\n",
              "      <td>...</td>\n",
              "      <td>...</td>\n",
              "      <td>...</td>\n",
              "      <td>...</td>\n",
              "      <td>...</td>\n",
              "      <td>...</td>\n",
              "      <td>...</td>\n",
              "      <td>...</td>\n",
              "      <td>...</td>\n",
              "      <td>...</td>\n",
              "      <td>...</td>\n",
              "      <td>...</td>\n",
              "      <td>...</td>\n",
              "      <td>...</td>\n",
              "      <td>...</td>\n",
              "      <td>...</td>\n",
              "      <td>...</td>\n",
              "      <td>...</td>\n",
              "      <td>...</td>\n",
              "      <td>...</td>\n",
              "      <td>...</td>\n",
              "      <td>...</td>\n",
              "      <td>...</td>\n",
              "      <td>...</td>\n",
              "      <td>...</td>\n",
              "      <td>...</td>\n",
              "      <td>...</td>\n",
              "      <td>...</td>\n",
              "      <td>...</td>\n",
              "      <td>...</td>\n",
              "      <td>...</td>\n",
              "      <td>...</td>\n",
              "      <td>...</td>\n",
              "      <td>...</td>\n",
              "      <td>...</td>\n",
              "      <td>...</td>\n",
              "      <td>...</td>\n",
              "      <td>...</td>\n",
              "      <td>...</td>\n",
              "      <td>...</td>\n",
              "      <td>...</td>\n",
              "      <td>...</td>\n",
              "    </tr>\n",
              "    <tr>\n",
              "      <th>29655</th>\n",
              "      <td>38</td>\n",
              "      <td>4969.41</td>\n",
              "      <td>76657.90</td>\n",
              "      <td>722.34</td>\n",
              "      <td>2.0</td>\n",
              "      <td>869.61</td>\n",
              "      <td>0</td>\n",
              "      <td>566</td>\n",
              "      <td>4</td>\n",
              "      <td>1</td>\n",
              "      <td>68992.11</td>\n",
              "      <td>0</td>\n",
              "      <td>1</td>\n",
              "      <td>0</td>\n",
              "      <td>0</td>\n",
              "      <td>1</td>\n",
              "      <td>0</td>\n",
              "      <td>1</td>\n",
              "      <td>0</td>\n",
              "      <td>0</td>\n",
              "      <td>0</td>\n",
              "      <td>0</td>\n",
              "      <td>0</td>\n",
              "      <td>0</td>\n",
              "      <td>0</td>\n",
              "      <td>0</td>\n",
              "      <td>0</td>\n",
              "      <td>0</td>\n",
              "      <td>0</td>\n",
              "      <td>0</td>\n",
              "      <td>0</td>\n",
              "      <td>0</td>\n",
              "      <td>0</td>\n",
              "      <td>0</td>\n",
              "      <td>0</td>\n",
              "      <td>1</td>\n",
              "      <td>0</td>\n",
              "      <td>0</td>\n",
              "      <td>0</td>\n",
              "      <td>0</td>\n",
              "      <td>0</td>\n",
              "      <td>0</td>\n",
              "      <td>0</td>\n",
              "      <td>0</td>\n",
              "      <td>0</td>\n",
              "      <td>0</td>\n",
              "      <td>1</td>\n",
              "      <td>0</td>\n",
              "      <td>0</td>\n",
              "      <td>1</td>\n",
              "      <td>0</td>\n",
              "      <td>0</td>\n",
              "      <td>1</td>\n",
              "      <td>0</td>\n",
              "      <td>0</td>\n",
              "      <td>0</td>\n",
              "      <td>1</td>\n",
              "      <td>0</td>\n",
              "      <td>0</td>\n",
              "      <td>0</td>\n",
              "      <td>1</td>\n",
              "      <td>0</td>\n",
              "    </tr>\n",
              "    <tr>\n",
              "      <th>29656</th>\n",
              "      <td>20</td>\n",
              "      <td>1606.88</td>\n",
              "      <td>66595.14</td>\n",
              "      <td>253.04</td>\n",
              "      <td>3.0</td>\n",
              "      <td>729.41</td>\n",
              "      <td>0</td>\n",
              "      <td>175</td>\n",
              "      <td>3</td>\n",
              "      <td>1</td>\n",
              "      <td>46616.60</td>\n",
              "      <td>0</td>\n",
              "      <td>1</td>\n",
              "      <td>0</td>\n",
              "      <td>0</td>\n",
              "      <td>1</td>\n",
              "      <td>0</td>\n",
              "      <td>0</td>\n",
              "      <td>0</td>\n",
              "      <td>0</td>\n",
              "      <td>0</td>\n",
              "      <td>0</td>\n",
              "      <td>0</td>\n",
              "      <td>1</td>\n",
              "      <td>0</td>\n",
              "      <td>0</td>\n",
              "      <td>0</td>\n",
              "      <td>0</td>\n",
              "      <td>0</td>\n",
              "      <td>0</td>\n",
              "      <td>0</td>\n",
              "      <td>0</td>\n",
              "      <td>0</td>\n",
              "      <td>1</td>\n",
              "      <td>0</td>\n",
              "      <td>0</td>\n",
              "      <td>0</td>\n",
              "      <td>0</td>\n",
              "      <td>0</td>\n",
              "      <td>0</td>\n",
              "      <td>0</td>\n",
              "      <td>0</td>\n",
              "      <td>0</td>\n",
              "      <td>0</td>\n",
              "      <td>0</td>\n",
              "      <td>1</td>\n",
              "      <td>0</td>\n",
              "      <td>0</td>\n",
              "      <td>1</td>\n",
              "      <td>0</td>\n",
              "      <td>0</td>\n",
              "      <td>1</td>\n",
              "      <td>0</td>\n",
              "      <td>0</td>\n",
              "      <td>0</td>\n",
              "      <td>1</td>\n",
              "      <td>0</td>\n",
              "      <td>0</td>\n",
              "      <td>0</td>\n",
              "      <td>0</td>\n",
              "      <td>1</td>\n",
              "      <td>0</td>\n",
              "    </tr>\n",
              "    <tr>\n",
              "      <th>29657</th>\n",
              "      <td>49</td>\n",
              "      <td>NaN</td>\n",
              "      <td>81410.08</td>\n",
              "      <td>583.11</td>\n",
              "      <td>NaN</td>\n",
              "      <td>NaN</td>\n",
              "      <td>0</td>\n",
              "      <td>959</td>\n",
              "      <td>1</td>\n",
              "      <td>1</td>\n",
              "      <td>61057.56</td>\n",
              "      <td>1</td>\n",
              "      <td>0</td>\n",
              "      <td>0</td>\n",
              "      <td>0</td>\n",
              "      <td>1</td>\n",
              "      <td>0</td>\n",
              "      <td>0</td>\n",
              "      <td>0</td>\n",
              "      <td>0</td>\n",
              "      <td>0</td>\n",
              "      <td>0</td>\n",
              "      <td>0</td>\n",
              "      <td>1</td>\n",
              "      <td>0</td>\n",
              "      <td>0</td>\n",
              "      <td>0</td>\n",
              "      <td>0</td>\n",
              "      <td>0</td>\n",
              "      <td>0</td>\n",
              "      <td>0</td>\n",
              "      <td>0</td>\n",
              "      <td>0</td>\n",
              "      <td>0</td>\n",
              "      <td>0</td>\n",
              "      <td>0</td>\n",
              "      <td>0</td>\n",
              "      <td>0</td>\n",
              "      <td>0</td>\n",
              "      <td>1</td>\n",
              "      <td>0</td>\n",
              "      <td>0</td>\n",
              "      <td>0</td>\n",
              "      <td>0</td>\n",
              "      <td>0</td>\n",
              "      <td>0</td>\n",
              "      <td>1</td>\n",
              "      <td>0</td>\n",
              "      <td>1</td>\n",
              "      <td>0</td>\n",
              "      <td>0</td>\n",
              "      <td>0</td>\n",
              "      <td>1</td>\n",
              "      <td>0</td>\n",
              "      <td>1</td>\n",
              "      <td>0</td>\n",
              "      <td>0</td>\n",
              "      <td>0</td>\n",
              "      <td>1</td>\n",
              "      <td>0</td>\n",
              "      <td>0</td>\n",
              "      <td>0</td>\n",
              "    </tr>\n",
              "    <tr>\n",
              "      <th>29658</th>\n",
              "      <td>38</td>\n",
              "      <td>2417.71</td>\n",
              "      <td>142524.10</td>\n",
              "      <td>378.29</td>\n",
              "      <td>3.0</td>\n",
              "      <td>677.27</td>\n",
              "      <td>1</td>\n",
              "      <td>375</td>\n",
              "      <td>4</td>\n",
              "      <td>1</td>\n",
              "      <td>99766.87</td>\n",
              "      <td>0</td>\n",
              "      <td>1</td>\n",
              "      <td>0</td>\n",
              "      <td>0</td>\n",
              "      <td>1</td>\n",
              "      <td>0</td>\n",
              "      <td>0</td>\n",
              "      <td>0</td>\n",
              "      <td>0</td>\n",
              "      <td>0</td>\n",
              "      <td>0</td>\n",
              "      <td>0</td>\n",
              "      <td>1</td>\n",
              "      <td>0</td>\n",
              "      <td>0</td>\n",
              "      <td>0</td>\n",
              "      <td>0</td>\n",
              "      <td>0</td>\n",
              "      <td>0</td>\n",
              "      <td>0</td>\n",
              "      <td>0</td>\n",
              "      <td>0</td>\n",
              "      <td>0</td>\n",
              "      <td>0</td>\n",
              "      <td>0</td>\n",
              "      <td>0</td>\n",
              "      <td>0</td>\n",
              "      <td>0</td>\n",
              "      <td>0</td>\n",
              "      <td>0</td>\n",
              "      <td>1</td>\n",
              "      <td>0</td>\n",
              "      <td>0</td>\n",
              "      <td>0</td>\n",
              "      <td>1</td>\n",
              "      <td>0</td>\n",
              "      <td>0</td>\n",
              "      <td>1</td>\n",
              "      <td>0</td>\n",
              "      <td>0</td>\n",
              "      <td>0</td>\n",
              "      <td>1</td>\n",
              "      <td>0</td>\n",
              "      <td>0</td>\n",
              "      <td>0</td>\n",
              "      <td>1</td>\n",
              "      <td>0</td>\n",
              "      <td>0</td>\n",
              "      <td>0</td>\n",
              "      <td>1</td>\n",
              "      <td>0</td>\n",
              "    </tr>\n",
              "    <tr>\n",
              "      <th>29659</th>\n",
              "      <td>63</td>\n",
              "      <td>3068.24</td>\n",
              "      <td>156290.54</td>\n",
              "      <td>693.94</td>\n",
              "      <td>1.0</td>\n",
              "      <td>815.44</td>\n",
              "      <td>0</td>\n",
              "      <td>344</td>\n",
              "      <td>3</td>\n",
              "      <td>1</td>\n",
              "      <td>117217.90</td>\n",
              "      <td>1</td>\n",
              "      <td>0</td>\n",
              "      <td>0</td>\n",
              "      <td>1</td>\n",
              "      <td>0</td>\n",
              "      <td>0</td>\n",
              "      <td>0</td>\n",
              "      <td>0</td>\n",
              "      <td>1</td>\n",
              "      <td>0</td>\n",
              "      <td>0</td>\n",
              "      <td>0</td>\n",
              "      <td>0</td>\n",
              "      <td>0</td>\n",
              "      <td>0</td>\n",
              "      <td>0</td>\n",
              "      <td>0</td>\n",
              "      <td>0</td>\n",
              "      <td>0</td>\n",
              "      <td>0</td>\n",
              "      <td>0</td>\n",
              "      <td>0</td>\n",
              "      <td>0</td>\n",
              "      <td>0</td>\n",
              "      <td>0</td>\n",
              "      <td>0</td>\n",
              "      <td>0</td>\n",
              "      <td>0</td>\n",
              "      <td>0</td>\n",
              "      <td>0</td>\n",
              "      <td>0</td>\n",
              "      <td>0</td>\n",
              "      <td>1</td>\n",
              "      <td>1</td>\n",
              "      <td>0</td>\n",
              "      <td>0</td>\n",
              "      <td>0</td>\n",
              "      <td>1</td>\n",
              "      <td>0</td>\n",
              "      <td>0</td>\n",
              "      <td>0</td>\n",
              "      <td>1</td>\n",
              "      <td>0</td>\n",
              "      <td>1</td>\n",
              "      <td>0</td>\n",
              "      <td>0</td>\n",
              "      <td>0</td>\n",
              "      <td>1</td>\n",
              "      <td>0</td>\n",
              "      <td>0</td>\n",
              "      <td>0</td>\n",
              "    </tr>\n",
              "  </tbody>\n",
              "</table>\n",
              "<p>29660 rows × 62 columns</p>\n",
              "</div>"
            ],
            "text/plain": [
              "       Age  Income (USD)  ...  Property Location_Urban  Property Location_nan\n",
              "0       56       1933.05  ...                        0                      0\n",
              "1       32       4952.91  ...                        0                      0\n",
              "2       65        988.19  ...                        1                      0\n",
              "3       65           NaN  ...                        0                      0\n",
              "4       31       2614.77  ...                        0                      0\n",
              "...    ...           ...  ...                      ...                    ...\n",
              "29655   38       4969.41  ...                        1                      0\n",
              "29656   20       1606.88  ...                        1                      0\n",
              "29657   49           NaN  ...                        0                      0\n",
              "29658   38       2417.71  ...                        1                      0\n",
              "29659   63       3068.24  ...                        0                      0\n",
              "\n",
              "[29660 rows x 62 columns]"
            ]
          },
          "metadata": {
            "tags": []
          },
          "execution_count": 66
        }
      ]
    },
    {
      "cell_type": "code",
      "metadata": {
        "id": "KfRuDZEGCbyf"
      },
      "source": [
        ""
      ],
      "execution_count": 66,
      "outputs": []
    },
    {
      "cell_type": "code",
      "metadata": {
        "id": "2lMcW6t4Cbyg"
      },
      "source": [
        "# # compare statistical imputation strategies for the horse colic dataset\n",
        "# from numpy import mean\n",
        "# from numpy import std\n",
        "# from pandas import read_csv\n",
        "# from sklearn.ensemble import RandomForestRegressor\n",
        "# from sklearn.impute import SimpleImputer\n",
        "# from sklearn.model_selection import cross_val_score\n",
        "# from sklearn.model_selection import RepeatedStratifiedKFold,KFold\n",
        "# from sklearn.pipeline import Pipeline\n",
        "# from matplotlib import pyplot\n",
        "\n",
        "X, y = drop_target_nan_value.drop(['Loan Sanction Amount (USD)'],1),drop_target_nan_value['Loan Sanction Amount (USD)']\n",
        "# # evaluate each strategy on the dataset\n",
        "# results = list()\n",
        "# strategies = ['mean', 'median', 'most_frequent', 'constant']\n",
        "# for s in strategies:\n",
        "# \t# create the modeling pipeline\n",
        "# \tpipeline = Pipeline(steps=[('i', SimpleImputer(strategy=s)), ('m', RandomForestRegressor())])\n",
        "# \t# evaluate the model\n",
        "# \tcv = KFold(n_splits=15, random_state=1)\n",
        "# \tscores = cross_val_score(pipeline, X, y, cv=cv, n_jobs=-1)\n",
        "# \t# store results\n",
        "# \tresults.append(scores)\n",
        "# \tprint('>%s %.3f (%.3f)' % (s, mean(scores), std(scores)))\n",
        "# # plot model performance for comparison\n",
        "# pyplot.boxplot(results, labels=strategies, showmeans=True)\n",
        "# pyplot.show()\n",
        "# >mean 0.744 (0.028)\n",
        "# >median 0.743 (0.029)\n",
        "# >most_frequent 0.743 (0.031)\n",
        "# >constant 0.741 (0.028)"
      ],
      "execution_count": 67,
      "outputs": []
    },
    {
      "cell_type": "code",
      "metadata": {
        "id": "A-RrN83ACbyg"
      },
      "source": [
        "import numpy as np\n",
        "#If \"mean\", then replace missing values using the mean along\n",
        "'''      each column. Can only be used with numeric data.\n",
        "    - If \"median\", then replace missing values using the median along\n",
        "      each column. Can only be used with numeric data.\n",
        "    - If \"most_frequent\", then replace missing using the most frequent\n",
        "      value along each column. Can be used with strings or numeric data.\n",
        "    - If \"constant\", then replace missing values with fill_value. Can be\n",
        "      used with strings or numeric data.\n",
        "\n",
        "    .. versionadded:: 0.20\n",
        "       strategy=\"constant\" for fixed value imputation'''\n",
        "# Importing the SimpleImputer class\n",
        "from sklearn.impute import SimpleImputer\n",
        "\n",
        "# Imputer object using the mean strategy and\n",
        "# missing_values type for imputation\n",
        "strategies = ['mean', 'median', 'most_frequent', 'constant']\n",
        "data_collection=[]\n",
        "for i in strategies:\n",
        "    imputer = SimpleImputer(missing_values = np.nan,strategy =i)\n",
        "    imputer = imputer.fit(X.values)\n",
        "    data_collection.append(imputer.transform(X.values))\n",
        "\n"
      ],
      "execution_count": 68,
      "outputs": []
    },
    {
      "cell_type": "code",
      "metadata": {
        "id": "yMje06d2vcuZ"
      },
      "source": [
        "import numpy as np\n",
        "#If \"mean\", then replace missing values using the mean along\n",
        "'''      each column. Can only be used with numeric data.\n",
        "    - If \"median\", then replace missing values using the median along\n",
        "      each column. Can only be used with numeric data.\n",
        "    - If \"most_frequent\", then replace missing using the most frequent\n",
        "      value along each column. Can be used with strings or numeric data.\n",
        "    - If \"constant\", then replace missing values with fill_value. Can be\n",
        "      used with strings or numeric data.\n",
        "\n",
        "    .. versionadded:: 0.20\n",
        "       strategy=\"constant\" for fixed value imputation'''\n",
        "# Importing the SimpleImputer class\n",
        "from sklearn.impute import SimpleImputer\n",
        "\n",
        "# Imputer object using the mean strategy and\n",
        "# missing_values type for imputation\n",
        "strategies = ['mean', 'median', 'most_frequent', 'constant']\n",
        "data_collection_test=[]\n",
        "for i in strategies:\n",
        "    imputer = SimpleImputer(missing_values = np.nan,strategy =i)\n",
        "    imputer = imputer.fit(joined_categorical_numerical_test.values)\n",
        "    data_collection_test.append(imputer.transform(joined_categorical_numerical_test.values))\n",
        "\n"
      ],
      "execution_count": 69,
      "outputs": []
    },
    {
      "cell_type": "code",
      "metadata": {
        "id": "VdoBxFLJvyi9"
      },
      "source": [
        "df1_test=pd.DataFrame(data_collection_test[0],columns=joined_categorical_numerical_test.columns)\n",
        "df2_test=pd.DataFrame(data_collection_test[1],columns=joined_categorical_numerical_test.columns)\n",
        "df3_test=pd.DataFrame(data_collection_test[2],columns=joined_categorical_numerical_test.columns)\n",
        "df4_test=pd.DataFrame(data_collection_test[3],columns=joined_categorical_numerical_test.columns)\n"
      ],
      "execution_count": 70,
      "outputs": []
    },
    {
      "cell_type": "code",
      "metadata": {
        "id": "Bm3MIH5bCbyh"
      },
      "source": [
        "df1=pd.DataFrame(data_collection[0],columns=X.columns)\n",
        "df2=pd.DataFrame(data_collection[1],columns=X.columns)\n",
        "df3=pd.DataFrame(data_collection[2],columns=X.columns)\n",
        "df4=pd.DataFrame(data_collection[3],columns=X.columns)\n"
      ],
      "execution_count": 71,
      "outputs": []
    },
    {
      "cell_type": "code",
      "metadata": {
        "colab": {
          "base_uri": "https://localhost:8080/"
        },
        "id": "zSvKTzEzpQSk",
        "outputId": "2041c2c0-9075-41b7-a93d-0a8a9e04647e"
      },
      "source": [
        "y.isnull().sum()"
      ],
      "execution_count": 72,
      "outputs": [
        {
          "output_type": "execute_result",
          "data": {
            "text/plain": [
              "0"
            ]
          },
          "metadata": {
            "tags": []
          },
          "execution_count": 72
        }
      ]
    },
    {
      "cell_type": "code",
      "metadata": {
        "id": "vSj-uwhCFNdt"
      },
      "source": [
        "# cols = list(df1.columns)\n",
        "# pmax = 1\n",
        "# while (len(cols)>0):\n",
        "#     p= []\n",
        "#     X_1 = df1[cols]\n",
        "#     X_1 = sm.add_constant(X_1)\n",
        "#     model = sm.OLS(y,X_1).fit()\n",
        "#     p = pd.Series(model.pvalues.values[1:],index = cols)      \n",
        "#     pmax = max(p)\n",
        "#     feature_with_p_max = p.idxmax()\n",
        "#     if(pmax>0.05):\n",
        "#         cols.remove(feature_with_p_max)\n",
        "#     else:\n",
        "#         break\n",
        "# selected_features_BE = cols\n",
        "# print(len(selected_features_BE))"
      ],
      "execution_count": 73,
      "outputs": []
    },
    {
      "cell_type": "code",
      "metadata": {
        "id": "wwpG-XelF9JK"
      },
      "source": [
        ""
      ],
      "execution_count": 73,
      "outputs": []
    },
    {
      "cell_type": "code",
      "metadata": {
        "id": "M3B5CjMuCbyi"
      },
      "source": [
        "# from sklearn.model_selection import train_test_split"
      ],
      "execution_count": 74,
      "outputs": []
    },
    {
      "cell_type": "code",
      "metadata": {
        "id": "1SU6nj6FCbyi"
      },
      "source": [
        "# np.random.seed(0)\n",
        "# x_train,x_test,y_train,y_test=train_test_split(df1,y,test_size=.30)"
      ],
      "execution_count": 75,
      "outputs": []
    },
    {
      "cell_type": "code",
      "metadata": {
        "id": "C1zhwl5iCbyi"
      },
      "source": [
        "model1=RandomForestRegressor()\n",
        "model2=LinearRegression()\n",
        "model3=SVR()\n",
        "model4=LGBMRegressor()\n",
        "model5=LinearRegression()\n",
        "model6=AdaBoostRegressor()\n",
        "model7=BaggingRegressor()\n",
        "model8=ExtraTreesRegressor()\n",
        "model9=GradientBoostingRegressor()\n",
        "model10=AdaBoostRegressor()\n",
        "model11=BaggingRegressor()\n",
        "model12=ExtraTreesRegressor()\n",
        "model13=KNeighborsRegressor()\n",
        "model14=DecisionTreeRegressor()\n"
      ],
      "execution_count": 76,
      "outputs": []
    },
    {
      "cell_type": "code",
      "metadata": {
        "id": "Tis6TG3X2s0k"
      },
      "source": [
        ""
      ],
      "execution_count": 76,
      "outputs": []
    },
    {
      "cell_type": "code",
      "metadata": {
        "id": "1DyWgYnU10N_"
      },
      "source": [
        "np.random.seed(0)\n",
        "x_train,x_test,y_train,y_test=train_test_split(df2,y,test_size=.30)"
      ],
      "execution_count": 77,
      "outputs": []
    },
    {
      "cell_type": "code",
      "metadata": {
        "colab": {
          "base_uri": "https://localhost:8080/"
        },
        "id": "lCJA_8cN2Ty9",
        "outputId": "cc1b79ea-f54d-4937-df05-ad5105441813"
      },
      "source": [
        "x_train.shape,x_test.shape,y_train.shape,y_test.shape"
      ],
      "execution_count": 78,
      "outputs": [
        {
          "output_type": "execute_result",
          "data": {
            "text/plain": [
              "((20762, 61), (8898, 61), (20762,), (8898,))"
            ]
          },
          "metadata": {
            "tags": []
          },
          "execution_count": 78
        }
      ]
    },
    {
      "cell_type": "code",
      "metadata": {
        "id": "QqhJZ2w5Cbyj",
        "colab": {
          "base_uri": "https://localhost:8080/"
        },
        "outputId": "54834582-243a-4505-c2fb-ee9417862a80"
      },
      "source": [
        "model15=CatBoostRegressor()\n",
        "# # model15.fit(x_train,y_train)\n",
        "\n",
        "# #model1.fit(x_train,y_train)\n",
        "# # model2.fit(x_train,y_train)\n",
        "# # model3.fit(x_train,y_train)\n",
        "model4.fit(df2,y)\n",
        "# model5.fit(x_train,y_train)\n",
        "# model6.fit(x_train,y_train)\n",
        "# model7.fit(x_train,y_train)\n",
        "# model8.fit(x_train,y_train)\n",
        "# model9.fit(x_train,y_train)\n",
        "# model10.fit(x_train,y_train)\n",
        "# model11.fit(x_train,y_train)\n",
        "# model12.fit(x_train,y_train)\n",
        "# model13.fit(x_train,y_train)\n",
        "# model14.fit(x_train,y_train)\n"
      ],
      "execution_count": 91,
      "outputs": [
        {
          "output_type": "execute_result",
          "data": {
            "text/plain": [
              "LGBMRegressor(boosting_type='gbdt', class_weight=None, colsample_bytree=1.0,\n",
              "              importance_type='split', learning_rate=0.1, max_depth=-1,\n",
              "              min_child_samples=20, min_child_weight=0.001, min_split_gain=0.0,\n",
              "              n_estimators=100, n_jobs=-1, num_leaves=31, objective=None,\n",
              "              random_state=None, reg_alpha=0.0, reg_lambda=0.0, silent=True,\n",
              "              subsample=1.0, subsample_for_bin=200000, subsample_freq=0)"
            ]
          },
          "metadata": {
            "tags": []
          },
          "execution_count": 91
        }
      ]
    },
    {
      "cell_type": "code",
      "metadata": {
        "id": "zLOBQ6NZyx9d"
      },
      "source": [
        "params = {\n",
        "    'num_leaves': [7, 14, 21, 28, 31, 50],\n",
        "    'learning_rate': [0.1, 0.03, 0.003],\n",
        "    'max_depth': [-1, 3, 5],\n",
        "    'n_estimators': [50, 100, 200, 500],\n",
        "}\n",
        "\n",
        "grid = GridSearchCV(LGBMRegressor(random_state=0), params, scoring='r2', cv=3)\n",
        "grid.fit(df1, y)"
      ],
      "execution_count": null,
      "outputs": []
    },
    {
      "cell_type": "code",
      "metadata": {
        "colab": {
          "base_uri": "https://localhost:8080/"
        },
        "id": "zaHGYt-VsCdK",
        "outputId": "b19f4e3c-7e22-494c-c426-c30f67aab11d"
      },
      "source": [
        "# predict_value=model4.predict(x_test)\n",
        "# predict_value[0:10]\n",
        "numerical_data.columns"
      ],
      "execution_count": 120,
      "outputs": [
        {
          "output_type": "execute_result",
          "data": {
            "text/plain": [
              "Index(['Age', 'Income (USD)', 'Loan Amount Request (USD)',\n",
              "       'Current Loan Expenses (USD)', 'Dependents', 'Credit Score',\n",
              "       'No. of Defaults', 'Property ID', 'Property Age', 'Property Type',\n",
              "       'Co-Applicant', 'Property Price', 'Loan Sanction Amount (USD)'],\n",
              "      dtype='object')"
            ]
          },
          "metadata": {
            "tags": []
          },
          "execution_count": 120
        }
      ]
    },
    {
      "cell_type": "markdown",
      "metadata": {
        "id": "g786bInTzqi8"
      },
      "source": [
        ""
      ]
    },
    {
      "cell_type": "code",
      "metadata": {
        "id": "E3Bo0fcl8dig"
      },
      "source": [
        "from xgboost.sklearn import XGBRegressor"
      ],
      "execution_count": 122,
      "outputs": []
    },
    {
      "cell_type": "code",
      "metadata": {
        "id": "0Uiepxmu3IrS"
      },
      "source": [
        ""
      ],
      "execution_count": 122,
      "outputs": []
    },
    {
      "cell_type": "code",
      "metadata": {
        "colab": {
          "base_uri": "https://localhost:8080/"
        },
        "id": "uJGi4BIP3Vjl",
        "outputId": "6ef64cd4-b762-4e95-b048-d5b15fc95b6e"
      },
      "source": [
        "# xgb1 = XGBRegressor()\n",
        "# parameters = {'nthread':[4], #when use hyperthread, xgboost may become slower\n",
        "#               'objective':['reg:linear'],\n",
        "#               'learning_rate': [.03, 0.05, .07], #so called `eta` value\n",
        "#               'max_depth': [5, 6, 7],\n",
        "#               'min_child_weight': [4],\n",
        "#               'silent': [1],\n",
        "#               'subsample': [0.7],\n",
        "#               'colsample_bytree': [0.7],\n",
        "#               'n_estimators': [500]}\n",
        "\n",
        "# xgb_grid = GridSearchCV(xgb1,\n",
        "#                         parameters,\n",
        "#                         cv = 2,\n",
        "#                         n_jobs = 5,\n",
        "#                         verbose=True)\n",
        "\n",
        "grid.fit(df2,y)"
      ],
      "execution_count": 139,
      "outputs": [
        {
          "output_type": "execute_result",
          "data": {
            "text/plain": [
              "GridSearchCV(cv=4, error_score=nan,\n",
              "             estimator=LGBMRegressor(boosting_type='gbdt', class_weight=None,\n",
              "                                     colsample_bytree=1.0,\n",
              "                                     importance_type='split', learning_rate=0.1,\n",
              "                                     max_bin=512, max_depth=-1,\n",
              "                                     min_child_samples=5, min_child_weight=1,\n",
              "                                     min_split_gain=0.5, n_estimators=100,\n",
              "                                     n_jobs=3, num_leaves=31,\n",
              "                                     objective='binary', random_state=None,\n",
              "                                     reg_alpha=0.0, reg_lambda=0.0,\n",
              "                                     s...\n",
              "             iid='deprecated', n_jobs=2,\n",
              "             param_grid={'boosting_type': ['gbdt'],\n",
              "                         'colsample_bytree': [0.65, 0.66],\n",
              "                         'learning_rate': [0.005], 'n_estimators': [40],\n",
              "                         'num_leaves': [6, 8, 12, 16], 'objective': ['binary'],\n",
              "                         'random_state': [501], 'reg_alpha': [1, 1.2],\n",
              "                         'reg_lambda': [1, 1.2, 1.4],\n",
              "                         'subsample': [0.7, 0.75]},\n",
              "             pre_dispatch='2*n_jobs', refit=True, return_train_score=False,\n",
              "             scoring=None, verbose=0)"
            ]
          },
          "metadata": {
            "tags": []
          },
          "execution_count": 139
        }
      ]
    },
    {
      "cell_type": "code",
      "metadata": {
        "id": "wrdZu4fH3RMD"
      },
      "source": [
        "\n",
        "predict_value=grid.predict(df2_test)"
      ],
      "execution_count": 140,
      "outputs": []
    },
    {
      "cell_type": "code",
      "metadata": {
        "id": "ws45e60YwdA7"
      },
      "source": [
        "\n",
        "subm=pd.DataFrame({'Customer ID':Need_ID,'Loan Sanction Amount (USD)':predict_value})\n",
        "subm.to_csv(\"submissionlgbmgrid_df2.csv\",index=False)"
      ],
      "execution_count": 141,
      "outputs": []
    },
    {
      "cell_type": "code",
      "metadata": {
        "colab": {
          "base_uri": "https://localhost:8080/"
        },
        "id": "gJutUO6GQynr",
        "outputId": "2c8463bf-2500-4133-a8d4-d808bdd02cf4"
      },
      "source": [
        "d=pd.read_csv(\"submissionlgbmgrid_df2.csv\")\n",
        "str(d['Loan Sanction Amount (USD)'][0])"
      ],
      "execution_count": 144,
      "outputs": [
        {
          "output_type": "execute_result",
          "data": {
            "text/plain": [
              "0.7430068547850298"
            ]
          },
          "metadata": {
            "tags": []
          },
          "execution_count": 144
        }
      ]
    },
    {
      "cell_type": "code",
      "metadata": {
        "id": "B_OD-qerQ5cK"
      },
      "source": [
        ""
      ],
      "execution_count": null,
      "outputs": []
    },
    {
      "cell_type": "code",
      "metadata": {
        "id": "Mh6kyhHfgHx5"
      },
      "source": [
        "# k=[model1,model2,model4,model5,model6,model7,model8,model9,model10,model11,model12,model13,model14]\n",
        "# for i in k:\n",
        "#   pred1=i.predict(x_test)\n",
        "#   score = max(0, 100*metrics.r2_score(y_test, pred1))\n",
        "#   print(score)"
      ],
      "execution_count": 86,
      "outputs": []
    },
    {
      "cell_type": "code",
      "metadata": {
        "colab": {
          "base_uri": "https://localhost:8080/"
        },
        "id": "1oM1nTmN6-j4",
        "outputId": "328622c2-551d-4919-e498-256e6698010e"
      },
      "source": [
        "k=[model1,model2,model4,model5,model6,model7,model8,model9,model10,model11,model12,model13,model14]\n",
        "for i in k:\n",
        "  pred1=i.predict(x_test)\n",
        "  score = max(0, 100*metrics.r2_score(y_test, pred1))\n",
        "  print(score)"
      ],
      "execution_count": null,
      "outputs": [
        {
          "output_type": "stream",
          "text": [
            "75.66464240601805\n",
            "29.023728383185286\n",
            "77.54520764367184\n",
            "29.023728383185286\n",
            "46.19456019736548\n",
            "73.5603978926908\n",
            "72.73241803113908\n",
            "75.03905241257307\n",
            "50.83936344759387\n",
            "74.06067698423702\n",
            "72.74950376955822\n",
            "45.310018720884294\n",
            "51.78129555940304\n"
          ],
          "name": "stdout"
        }
      ]
    },
    {
      "cell_type": "code",
      "metadata": {
        "colab": {
          "base_uri": "https://localhost:8080/"
        },
        "id": "8OA1deSrQZdd",
        "outputId": "6c0a839a-156e-42ef-fcee-20c5ec6d5d91"
      },
      "source": [
        "k=[model1,model2,model4,model5,model6,model7,model8,model9,model10,model11,model12,model13,model14]\n",
        "for i in k:\n",
        "  pred1=i.predict(x_test)\n",
        "  score = max(0, 100*metrics.r2_score(y_test, pred1))\n",
        "  print(score)"
      ],
      "execution_count": null,
      "outputs": [
        {
          "output_type": "stream",
          "text": [
            "76.17523704982206\n",
            "59.99971060353565\n",
            "0.5968314590637736\n",
            "77.32832927736757\n",
            "59.99971060353565\n",
            "49.969070871643\n",
            "74.25981472465268\n",
            "74.32765920138688\n",
            "76.58112769028571\n",
            "51.24009907341971\n",
            "74.57963177510474\n",
            "74.23535918985569\n",
            "44.97584306808149\n",
            "51.56991013079255\n"
          ],
          "name": "stdout"
        }
      ]
    },
    {
      "cell_type": "code",
      "metadata": {
        "colab": {
          "base_uri": "https://localhost:8080/"
        },
        "id": "zcDLnDjtmLew",
        "outputId": "128e2a47-3567-447c-9786-af8789851c42"
      },
      "source": [
        "print(model1.score(x_train,y_train),model1.score(x_test,y_test)) #above average train - 97% test 79%\n",
        "print(model2.score(x_train,y_train),model2.score(x_test,y_test)) # average accuracy train -64% test 64%\n",
        "print(model3.score(x_train,y_train),model3.score(x_test,y_test))# not giving much accuracy--excluded\n",
        "print(model4.score(x_train,y_train),model4.score(x_test,y_test))# good accuracy train  84% test 79%\n",
        "print(model5.score(x_train,y_train),model5.score(x_test,y_test)) # avearge\n",
        "print(model6.score(x_train,y_train),model6.score(x_test,y_test))#below average\n",
        "print(model7.score(x_train,y_train),model7.score(x_test,y_test))# above avearge\n",
        "print(model8.score(x_train,y_train),model8.score(x_test,y_test))# just aveage\n",
        "print(model9.score(x_train,y_train),model9.score(x_test,y_test))#average\n",
        "print(model10.score(x_train,y_train),model10.score(x_test,y_test)) # below average\n",
        "print(model11.score(x_train,y_train),model11.score(x_test,y_test)) # above average\n",
        "print(model12.score(x_train,y_train),model12.score(x_test,y_test)) #  average\n",
        "print(model13.score(x_train,y_train),model13.score(x_test,y_test)) #very bad\n",
        "print(model14.score(x_train,y_train),model14.score(x_test,y_test)) #average\n",
        "print(model15.score(x_train,y_train),model15.score(x_test,y_test)) # good"
      ],
      "execution_count": null,
      "outputs": [
        {
          "output_type": "stream",
          "text": [
            "0.9671247383575418 0.7594960994308605\n",
            "0.5841447419428843 0.5965034871708328\n",
            "0.003134231209600547 0.005494477841561873\n",
            "0.8480177632372572 0.7695241829007854\n",
            "0.5841447419428843 0.5965034871708328\n",
            "0.488897467088238 0.48279028912836336\n",
            "0.9554478402809015 0.7406124167174672\n",
            "1.0 0.7408491627996889\n",
            "0.7857723724082054 0.7581924105839424\n",
            "0.4943689146083799 0.49160911311553535\n",
            "0.954160864070439 0.733966864718478\n",
            "1.0 0.7414721740157725\n",
            "0.6176204972942927 0.44472603218395396\n",
            "1.0 0.5333033892203969\n",
            "0.8782960614224484 0.7662123167972331\n"
          ],
          "name": "stdout"
        }
      ]
    },
    {
      "cell_type": "code",
      "metadata": {
        "colab": {
          "base_uri": "https://localhost:8080/"
        },
        "id": "juwaO3F9ZEb_",
        "outputId": "4ad239aa-5eba-45a0-dd0b-9dcd3875ccc3"
      },
      "source": [
        "# print(model1.score(x_train,y_train),model1.score(x_test,y_test)) #above average train - 97% test 79%\n",
        "# print(model2.score(x_train,y_train),model2.score(x_test,y_test)) # average accuracy train -64% test 64%\n",
        "# print(model3.score(x_train,y_train),model3.score(x_test,y_test))# not giving much accuracy--excluded\n",
        "# print(model4.score(x_train,y_train),model4.score(x_test,y_test))# good accuracy train  84% test 79%\n",
        "# print(model5.score(x_train,y_train),model5.score(x_test,y_test)) # avearge\n",
        "# print(model6.score(x_train,y_train),model6.score(x_test,y_test))#below average\n",
        "# print(model7.score(x_train,y_train),model7.score(x_test,y_test))# above avearge\n",
        "# print(model8.score(x_train,y_train),model8.score(x_test,y_test))# just aveage\n",
        "# print(model9.score(x_train,y_train),model9.score(x_test,y_test))#average\n",
        "# print(model10.score(x_train,y_train),model10.score(x_test,y_test)) # below average\n",
        "# print(model11.score(x_train,y_train),model11.score(x_test,y_test)) # above average\n",
        "# print(model12.score(x_train,y_train),model12.score(x_test,y_test)) #  average\n",
        "# print(model13.score(x_train,y_train),model13.score(x_test,y_test)) #very bad\n",
        "# print(model14.score(x_train,y_train),model14.score(x_test,y_test)) #average\n",
        "# print(model15.score(x_train,y_train),model15.score(x_test,y_test)) # good"
      ],
      "execution_count": null,
      "outputs": [
        {
          "output_type": "stream",
          "text": [
            "0.9662929374794442 0.7734513212620987\n",
            "0.5818300339093989 0.6012544874143946\n",
            "0.0011003936969252726 -0.005638515600421723\n",
            "0.8470937018626192 0.7871974545945248\n",
            "0.5818300339093989 0.6012544874143946\n",
            "0.5071692801020166 0.49798224256976087\n",
            "0.9551740922489543 0.755048689911196\n",
            "1.0 0.7549011727135134\n",
            "0.7807972052717587 0.7741688670107033\n",
            "0.49853289818910285 0.49064042757658877\n",
            "0.9529205198628925 0.7532161101629136\n",
            "1.0 0.7546377809408213\n",
            "0.6166036395881975 0.4479583382284878\n",
            "1.0 0.5452300354962449\n",
            "0.8792781983603756 0.7868252780707722\n"
          ],
          "name": "stdout"
        }
      ]
    },
    {
      "cell_type": "code",
      "metadata": {
        "colab": {
          "base_uri": "https://localhost:8080/"
        },
        "id": "vDoWHhbcUPYT",
        "outputId": "2227d894-80bd-4c44-bcb9-fe45b9e259d4"
      },
      "source": [
        "print(model1.score(x_train,y_train),model1.score(x_test,y_test)) # above average\n",
        "print(model2.score(x_train,y_train),model2.score(x_test,y_test)) #  average\n",
        "print(model3.score(x_train,y_train),model3.score(x_test,y_test)) #very bad\n",
        "print(model4.score(x_train,y_train),model4.score(x_test,y_test)) #average"
      ],
      "execution_count": null,
      "outputs": [
        {
          "output_type": "stream",
          "text": [
            "0.5825766675898392 0.5999227760471235\n",
            "0.9673413546061669 0.7619595755629931\n",
            "0.8482992182875635 0.7723024227082964\n",
            "1.0 0.5353074621903944\n"
          ],
          "name": "stdout"
        }
      ]
    },
    {
      "cell_type": "code",
      "metadata": {
        "colab": {
          "base_uri": "https://localhost:8080/"
        },
        "id": "snYaew7gUiMw",
        "outputId": "af2ecb18-3344-40af-9fb1-3ad986194033"
      },
      "source": [
        "print(model1.score(x_train,y_train),model1.score(x_test,y_test)) # above average\n",
        "print(model2.score(x_train,y_train),model2.score(x_test,y_test)) #  average\n",
        "print(model3.score(x_train,y_train),model3.score(x_test,y_test)) #very bad\n",
        "print(model4.score(x_train,y_train),model4.score(x_test,y_test)) #average"
      ],
      "execution_count": null,
      "outputs": [
        {
          "output_type": "stream",
          "text": [
            "0.5879620033017161 0.5876619075434275\n",
            "0.9668657692125134 0.7665147878346567\n",
            "0.8423024442111077 0.7859863046035682\n",
            "1.0 0.5371193003140156\n"
          ],
          "name": "stdout"
        }
      ]
    },
    {
      "cell_type": "code",
      "metadata": {
        "id": "kPxi0SS5WJ5m"
      },
      "source": [
        ""
      ],
      "execution_count": null,
      "outputs": []
    }
  ]
}