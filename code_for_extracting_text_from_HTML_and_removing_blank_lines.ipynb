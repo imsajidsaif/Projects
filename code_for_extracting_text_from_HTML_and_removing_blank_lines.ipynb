{
 "cells": [
  {
   "cell_type": "code",
   "execution_count": 1,
   "metadata": {},
   "outputs": [],
   "source": [
    "from bs4 import BeautifulSoup\n",
    "import glob, os"
   ]
  },
  {
   "cell_type": "code",
   "execution_count": 3,
   "metadata": {},
   "outputs": [],
   "source": [
    "# for getting text from HTML documents\n",
    "os.chdir(\"C:\\\\Users\\\\844197\\\\Downloads\\\\om_articles\")\n",
    "\n",
    "for file in glob.glob(\"*.html\"):\n",
    "    soup = BeautifulSoup(open(file, encoding=\"utf-8\"), \"html.parser\")\n",
    "    text = soup.text\n",
    "    with open('C:/Users/844197/Downloads/om_articles/text/'+file.split('.')[0]+'.txt','w',encoding=\"utf-8\") as f:\n",
    "        \n",
    "        f.write(text)\n",
    "f.close()"
   ]
  },
  {
   "cell_type": "code",
   "execution_count": 10,
   "metadata": {},
   "outputs": [],
   "source": []
  },
  {
   "cell_type": "code",
   "execution_count": null,
   "metadata": {},
   "outputs": [],
   "source": []
  }
 ],
 "metadata": {
  "kernelspec": {
   "display_name": "Python 3",
   "language": "python",
   "name": "python3"
  },
  "language_info": {
   "codemirror_mode": {
    "name": "ipython",
    "version": 3
   },
   "file_extension": ".py",
   "mimetype": "text/x-python",
   "name": "python",
   "nbconvert_exporter": "python",
   "pygments_lexer": "ipython3",
   "version": "3.6.10"
  }
 },
 "nbformat": 4,
 "nbformat_minor": 2
}
